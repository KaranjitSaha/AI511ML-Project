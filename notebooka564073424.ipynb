{
 "cells": [
  {
   "cell_type": "code",
   "execution_count": 1,
   "id": "588c4a38",
   "metadata": {
    "execution": {
     "iopub.execute_input": "2022-10-02T18:37:31.914959Z",
     "iopub.status.busy": "2022-10-02T18:37:31.914251Z",
     "iopub.status.idle": "2022-10-02T18:37:34.255883Z",
     "shell.execute_reply": "2022-10-02T18:37:34.254307Z"
    },
    "papermill": {
     "duration": 2.352295,
     "end_time": "2022-10-02T18:37:34.258889",
     "exception": false,
     "start_time": "2022-10-02T18:37:31.906594",
     "status": "completed"
    },
    "tags": []
   },
   "outputs": [],
   "source": [
    "import numpy as np \n",
    "import pandas as pd\n",
    "from sklearn.preprocessing import LabelEncoder\n",
    "import matplotlib.pyplot as plt \n",
    "train_df = pd.read_csv(\"../input/datafiles/test_df.csv\")\n",
    "test_df = pd.read_csv(\"../input/datafiles/test_df.csv\")"
   ]
  },
  {
   "cell_type": "markdown",
   "id": "ce264248",
   "metadata": {
    "papermill": {
     "duration": 0.0072,
     "end_time": "2022-10-02T18:37:34.273928",
     "exception": false,
     "start_time": "2022-10-02T18:37:34.266728",
     "status": "completed"
    },
    "tags": []
   },
   "source": [
    "## Preprocessing training data"
   ]
  },
  {
   "cell_type": "code",
   "execution_count": 2,
   "id": "f270bb54",
   "metadata": {
    "execution": {
     "iopub.execute_input": "2022-10-02T18:37:34.290748Z",
     "iopub.status.busy": "2022-10-02T18:37:34.290414Z",
     "iopub.status.idle": "2022-10-02T18:37:34.294734Z",
     "shell.execute_reply": "2022-10-02T18:37:34.293706Z"
    },
    "papermill": {
     "duration": 0.015505,
     "end_time": "2022-10-02T18:37:34.296742",
     "exception": false,
     "start_time": "2022-10-02T18:37:34.281237",
     "status": "completed"
    },
    "tags": []
   },
   "outputs": [],
   "source": [
    "train_df = train_df\n",
    "# print(train_df)"
   ]
  },
  {
   "cell_type": "code",
   "execution_count": 3,
   "id": "a46f61bf",
   "metadata": {
    "execution": {
     "iopub.execute_input": "2022-10-02T18:37:34.307599Z",
     "iopub.status.busy": "2022-10-02T18:37:34.307332Z",
     "iopub.status.idle": "2022-10-02T18:37:34.732154Z",
     "shell.execute_reply": "2022-10-02T18:37:34.731192Z"
    },
    "papermill": {
     "duration": 0.432701,
     "end_time": "2022-10-02T18:37:34.734266",
     "exception": false,
     "start_time": "2022-10-02T18:37:34.301565",
     "status": "completed"
    },
    "tags": []
   },
   "outputs": [
    {
     "data": {
      "text/html": [
       "<div>\n",
       "<style scoped>\n",
       "    .dataframe tbody tr th:only-of-type {\n",
       "        vertical-align: middle;\n",
       "    }\n",
       "\n",
       "    .dataframe tbody tr th {\n",
       "        vertical-align: top;\n",
       "    }\n",
       "\n",
       "    .dataframe thead th {\n",
       "        text-align: right;\n",
       "    }\n",
       "</style>\n",
       "<table border=\"1\" class=\"dataframe\">\n",
       "  <thead>\n",
       "    <tr style=\"text-align: right;\">\n",
       "      <th></th>\n",
       "      <th>qid</th>\n",
       "      <th>question_text</th>\n",
       "    </tr>\n",
       "  </thead>\n",
       "  <tbody>\n",
       "    <tr>\n",
       "      <th>count</th>\n",
       "      <td>306122</td>\n",
       "      <td>306122</td>\n",
       "    </tr>\n",
       "    <tr>\n",
       "      <th>unique</th>\n",
       "      <td>306122</td>\n",
       "      <td>306122</td>\n",
       "    </tr>\n",
       "    <tr>\n",
       "      <th>top</th>\n",
       "      <td>a4f3da3a3df9dd881edd</td>\n",
       "      <td>My period is due on my wedding day. How can I ...</td>\n",
       "    </tr>\n",
       "    <tr>\n",
       "      <th>freq</th>\n",
       "      <td>1</td>\n",
       "      <td>1</td>\n",
       "    </tr>\n",
       "  </tbody>\n",
       "</table>\n",
       "</div>"
      ],
      "text/plain": [
       "                         qid  \\\n",
       "count                 306122   \n",
       "unique                306122   \n",
       "top     a4f3da3a3df9dd881edd   \n",
       "freq                       1   \n",
       "\n",
       "                                            question_text  \n",
       "count                                              306122  \n",
       "unique                                             306122  \n",
       "top     My period is due on my wedding day. How can I ...  \n",
       "freq                                                    1  "
      ]
     },
     "execution_count": 3,
     "metadata": {},
     "output_type": "execute_result"
    }
   ],
   "source": [
    "train_df.describe()"
   ]
  },
  {
   "cell_type": "code",
   "execution_count": 4,
   "id": "3c825c54",
   "metadata": {
    "execution": {
     "iopub.execute_input": "2022-10-02T18:37:34.746191Z",
     "iopub.status.busy": "2022-10-02T18:37:34.745642Z",
     "iopub.status.idle": "2022-10-02T18:37:34.778395Z",
     "shell.execute_reply": "2022-10-02T18:37:34.777353Z"
    },
    "papermill": {
     "duration": 0.041103,
     "end_time": "2022-10-02T18:37:34.780560",
     "exception": false,
     "start_time": "2022-10-02T18:37:34.739457",
     "status": "completed"
    },
    "tags": []
   },
   "outputs": [
    {
     "data": {
      "text/plain": [
       "qid              0\n",
       "question_text    0\n",
       "dtype: int64"
      ]
     },
     "execution_count": 4,
     "metadata": {},
     "output_type": "execute_result"
    }
   ],
   "source": [
    "train_df.isna().sum()"
   ]
  },
  {
   "cell_type": "code",
   "execution_count": 5,
   "id": "8cb714e4",
   "metadata": {
    "execution": {
     "iopub.execute_input": "2022-10-02T18:37:34.791890Z",
     "iopub.status.busy": "2022-10-02T18:37:34.791606Z",
     "iopub.status.idle": "2022-10-02T18:37:34.795794Z",
     "shell.execute_reply": "2022-10-02T18:37:34.794884Z"
    },
    "papermill": {
     "duration": 0.012103,
     "end_time": "2022-10-02T18:37:34.797816",
     "exception": false,
     "start_time": "2022-10-02T18:37:34.785713",
     "status": "completed"
    },
    "tags": []
   },
   "outputs": [],
   "source": [
    "# train_df[\"target\"].unique()"
   ]
  },
  {
   "cell_type": "code",
   "execution_count": 6,
   "id": "84ce9ebf",
   "metadata": {
    "execution": {
     "iopub.execute_input": "2022-10-02T18:37:34.809104Z",
     "iopub.status.busy": "2022-10-02T18:37:34.808817Z",
     "iopub.status.idle": "2022-10-02T18:37:34.998080Z",
     "shell.execute_reply": "2022-10-02T18:37:34.996970Z"
    },
    "papermill": {
     "duration": 0.197817,
     "end_time": "2022-10-02T18:37:35.000640",
     "exception": false,
     "start_time": "2022-10-02T18:37:34.802823",
     "status": "completed"
    },
    "tags": []
   },
   "outputs": [
    {
     "data": {
      "text/plain": [
       "Int64Index([], dtype='int64')"
      ]
     },
     "execution_count": 6,
     "metadata": {},
     "output_type": "execute_result"
    }
   ],
   "source": [
    "train_df.index[train_df.duplicated()]"
   ]
  },
  {
   "cell_type": "markdown",
   "id": "cafacd13",
   "metadata": {
    "papermill": {
     "duration": 0.00519,
     "end_time": "2022-10-02T18:37:35.011435",
     "exception": false,
     "start_time": "2022-10-02T18:37:35.006245",
     "status": "completed"
    },
    "tags": []
   },
   "source": [
    "## Preprocessing testing data"
   ]
  },
  {
   "cell_type": "code",
   "execution_count": 7,
   "id": "1543ebf3",
   "metadata": {
    "execution": {
     "iopub.execute_input": "2022-10-02T18:37:35.022714Z",
     "iopub.status.busy": "2022-10-02T18:37:35.022406Z",
     "iopub.status.idle": "2022-10-02T18:37:35.034326Z",
     "shell.execute_reply": "2022-10-02T18:37:35.033208Z"
    },
    "papermill": {
     "duration": 0.01989,
     "end_time": "2022-10-02T18:37:35.036381",
     "exception": false,
     "start_time": "2022-10-02T18:37:35.016491",
     "status": "completed"
    },
    "tags": []
   },
   "outputs": [
    {
     "data": {
      "text/html": [
       "<div>\n",
       "<style scoped>\n",
       "    .dataframe tbody tr th:only-of-type {\n",
       "        vertical-align: middle;\n",
       "    }\n",
       "\n",
       "    .dataframe tbody tr th {\n",
       "        vertical-align: top;\n",
       "    }\n",
       "\n",
       "    .dataframe thead th {\n",
       "        text-align: right;\n",
       "    }\n",
       "</style>\n",
       "<table border=\"1\" class=\"dataframe\">\n",
       "  <thead>\n",
       "    <tr style=\"text-align: right;\">\n",
       "      <th></th>\n",
       "      <th>qid</th>\n",
       "      <th>question_text</th>\n",
       "    </tr>\n",
       "  </thead>\n",
       "  <tbody>\n",
       "    <tr>\n",
       "      <th>0</th>\n",
       "      <td>a4f3da3a3df9dd881edd</td>\n",
       "      <td>My period is due on my wedding day. How can I ...</td>\n",
       "    </tr>\n",
       "    <tr>\n",
       "      <th>1</th>\n",
       "      <td>9914c62ed3f69684d549</td>\n",
       "      <td>How many numbers higher than a million can be ...</td>\n",
       "    </tr>\n",
       "    <tr>\n",
       "      <th>2</th>\n",
       "      <td>8138ae48649e37091a91</td>\n",
       "      <td>How come I feel nothing for my family, but sti...</td>\n",
       "    </tr>\n",
       "    <tr>\n",
       "      <th>3</th>\n",
       "      <td>981b4753d17ef14d09f7</td>\n",
       "      <td>In case of collapse of the Democratic party, w...</td>\n",
       "    </tr>\n",
       "    <tr>\n",
       "      <th>4</th>\n",
       "      <td>452e2c705276ba16b7b7</td>\n",
       "      <td>Who is Émile Naoumoff?</td>\n",
       "    </tr>\n",
       "    <tr>\n",
       "      <th>...</th>\n",
       "      <td>...</td>\n",
       "      <td>...</td>\n",
       "    </tr>\n",
       "    <tr>\n",
       "      <th>306117</th>\n",
       "      <td>a352dff4fcc2571815ce</td>\n",
       "      <td>Did anyone get an update on Maruti Suzuki All ...</td>\n",
       "    </tr>\n",
       "    <tr>\n",
       "      <th>306118</th>\n",
       "      <td>ad4a8498d97c536c67b9</td>\n",
       "      <td>What 5 people in history do you find the most ...</td>\n",
       "    </tr>\n",
       "    <tr>\n",
       "      <th>306119</th>\n",
       "      <td>19784a27b55d4b453fda</td>\n",
       "      <td>How can I remove the tan on my forehead?</td>\n",
       "    </tr>\n",
       "    <tr>\n",
       "      <th>306120</th>\n",
       "      <td>370191dba26465997879</td>\n",
       "      <td>If you are a well known hacker, will you be mo...</td>\n",
       "    </tr>\n",
       "    <tr>\n",
       "      <th>306121</th>\n",
       "      <td>8077b4a45cea867d4ff2</td>\n",
       "      <td>If your new enemies be bigger and more dangero...</td>\n",
       "    </tr>\n",
       "  </tbody>\n",
       "</table>\n",
       "<p>306122 rows × 2 columns</p>\n",
       "</div>"
      ],
      "text/plain": [
       "                         qid  \\\n",
       "0       a4f3da3a3df9dd881edd   \n",
       "1       9914c62ed3f69684d549   \n",
       "2       8138ae48649e37091a91   \n",
       "3       981b4753d17ef14d09f7   \n",
       "4       452e2c705276ba16b7b7   \n",
       "...                      ...   \n",
       "306117  a352dff4fcc2571815ce   \n",
       "306118  ad4a8498d97c536c67b9   \n",
       "306119  19784a27b55d4b453fda   \n",
       "306120  370191dba26465997879   \n",
       "306121  8077b4a45cea867d4ff2   \n",
       "\n",
       "                                            question_text  \n",
       "0       My period is due on my wedding day. How can I ...  \n",
       "1       How many numbers higher than a million can be ...  \n",
       "2       How come I feel nothing for my family, but sti...  \n",
       "3       In case of collapse of the Democratic party, w...  \n",
       "4                                  Who is Émile Naoumoff?  \n",
       "...                                                   ...  \n",
       "306117  Did anyone get an update on Maruti Suzuki All ...  \n",
       "306118  What 5 people in history do you find the most ...  \n",
       "306119           How can I remove the tan on my forehead?  \n",
       "306120  If you are a well known hacker, will you be mo...  \n",
       "306121  If your new enemies be bigger and more dangero...  \n",
       "\n",
       "[306122 rows x 2 columns]"
      ]
     },
     "execution_count": 7,
     "metadata": {},
     "output_type": "execute_result"
    }
   ],
   "source": [
    "test_df"
   ]
  },
  {
   "cell_type": "code",
   "execution_count": 8,
   "id": "02e99b9e",
   "metadata": {
    "execution": {
     "iopub.execute_input": "2022-10-02T18:37:35.048799Z",
     "iopub.status.busy": "2022-10-02T18:37:35.048529Z",
     "iopub.status.idle": "2022-10-02T18:37:35.080916Z",
     "shell.execute_reply": "2022-10-02T18:37:35.080044Z"
    },
    "papermill": {
     "duration": 0.040883,
     "end_time": "2022-10-02T18:37:35.083012",
     "exception": false,
     "start_time": "2022-10-02T18:37:35.042129",
     "status": "completed"
    },
    "tags": []
   },
   "outputs": [
    {
     "data": {
      "text/plain": [
       "qid              0\n",
       "question_text    0\n",
       "dtype: int64"
      ]
     },
     "execution_count": 8,
     "metadata": {},
     "output_type": "execute_result"
    }
   ],
   "source": [
    "test_df.isna().sum()"
   ]
  },
  {
   "cell_type": "markdown",
   "id": "1b8c8120",
   "metadata": {
    "papermill": {
     "duration": 0.005185,
     "end_time": "2022-10-02T18:37:35.093757",
     "exception": false,
     "start_time": "2022-10-02T18:37:35.088572",
     "status": "completed"
    },
    "tags": []
   },
   "source": [
    "## Cleaning the text\n",
    "When dealing with numerical data, data cleaning often involves removing null values and duplicate data, dealing with outliers, etc. With text data, there are some common data cleaning techniques, which are also known as text pre-processing techniques.\n",
    "\n",
    "With text data, this cleaning process can go on forever. There's always an exception to every cleaning step. So, we're going to follow the MVP (minimum viable product) approach - start simple and iterate. Here are a bunch of things you can do to clean your data. We're going to execute just the common cleaning steps here and the rest can be done at a later point to improve our results.\n",
    "\n",
    "Common data cleaning steps on all text:\n",
    "\n",
    "Make text all lower case\n",
    "Remove punctuation\n",
    "Remove numerical values\n",
    "Remove common non-sensical text (/n)\n",
    "Tokenize text\n",
    "Remove stop words\n",
    "More data cleaning steps after tokenization:\n",
    "\n",
    "Stemming / lemmatization\n",
    "Parts of speech tagging\n",
    "Create bi-grams or tri-grams\n",
    "Deal with typos\n",
    "And more..."
   ]
  },
  {
   "cell_type": "code",
   "execution_count": 9,
   "id": "be85743d",
   "metadata": {
    "execution": {
     "iopub.execute_input": "2022-10-02T18:37:35.107623Z",
     "iopub.status.busy": "2022-10-02T18:37:35.106205Z",
     "iopub.status.idle": "2022-10-02T18:37:35.113254Z",
     "shell.execute_reply": "2022-10-02T18:37:35.112382Z"
    },
    "papermill": {
     "duration": 0.015153,
     "end_time": "2022-10-02T18:37:35.115186",
     "exception": false,
     "start_time": "2022-10-02T18:37:35.100033",
     "status": "completed"
    },
    "tags": []
   },
   "outputs": [],
   "source": [
    "import re\n",
    "import string\n",
    "\n",
    "def clean_text_round1(text):\n",
    "    '''Make text lowercase, remove text in square brackets, remove punctuation and remove words containing numbers.'''\n",
    "    text = text.lower()\n",
    "    text = re.sub('\\[.*?\\]', '', text)\n",
    "    text = re.sub('[%s]' % re.escape(string.punctuation), '', text)\n",
    "    text = re.sub('\\w*\\d\\w*', '', text)\n",
    "    return text\n",
    "\n",
    "round1 = lambda x: clean_text_round1(x)"
   ]
  },
  {
   "cell_type": "code",
   "execution_count": 10,
   "id": "9f96b9a0",
   "metadata": {
    "execution": {
     "iopub.execute_input": "2022-10-02T18:37:35.127375Z",
     "iopub.status.busy": "2022-10-02T18:37:35.126751Z",
     "iopub.status.idle": "2022-10-02T18:37:39.366615Z",
     "shell.execute_reply": "2022-10-02T18:37:39.365727Z"
    },
    "papermill": {
     "duration": 4.248603,
     "end_time": "2022-10-02T18:37:39.369138",
     "exception": false,
     "start_time": "2022-10-02T18:37:35.120535",
     "status": "completed"
    },
    "tags": []
   },
   "outputs": [
    {
     "data": {
      "text/plain": [
       "0         my period is due on my wedding day how can i s...\n",
       "1         how many numbers higher than a million can be ...\n",
       "2         how come i feel nothing for my family but stil...\n",
       "3         in case of collapse of the democratic party wi...\n",
       "4                                     who is émile naoumoff\n",
       "                                ...                        \n",
       "306117    did anyone get an update on maruti suzuki all ...\n",
       "306118    what  people in history do you find the most i...\n",
       "306119              how can i remove the tan on my forehead\n",
       "306120    if you are a well known hacker will you be mor...\n",
       "306121    if your new enemies be bigger and more dangero...\n",
       "Name: question_text, Length: 306122, dtype: object"
      ]
     },
     "execution_count": 10,
     "metadata": {},
     "output_type": "execute_result"
    }
   ],
   "source": [
    "train_df.question_text = train_df.question_text.apply(round1)\n",
    "train_df.question_text"
   ]
  },
  {
   "cell_type": "code",
   "execution_count": 11,
   "id": "dfe93baf",
   "metadata": {
    "execution": {
     "iopub.execute_input": "2022-10-02T18:37:39.382388Z",
     "iopub.status.busy": "2022-10-02T18:37:39.381588Z",
     "iopub.status.idle": "2022-10-02T18:37:39.386965Z",
     "shell.execute_reply": "2022-10-02T18:37:39.386047Z"
    },
    "papermill": {
     "duration": 0.014348,
     "end_time": "2022-10-02T18:37:39.389283",
     "exception": false,
     "start_time": "2022-10-02T18:37:39.374935",
     "status": "completed"
    },
    "tags": []
   },
   "outputs": [],
   "source": [
    "# Apply a second round of cleaning\n",
    "def clean_text_round2(text):\n",
    "    '''Get rid of some additional punctuation and non-sensical text that was missed the first time around.'''\n",
    "    text = re.sub('[‘’“”…]', '', text)\n",
    "    text = re.sub('\\n', '', text)\n",
    "    return text\n",
    "round2 = lambda x: clean_text_round2(x)"
   ]
  },
  {
   "cell_type": "code",
   "execution_count": 12,
   "id": "882ab12b",
   "metadata": {
    "execution": {
     "iopub.execute_input": "2022-10-02T18:37:39.401201Z",
     "iopub.status.busy": "2022-10-02T18:37:39.400918Z",
     "iopub.status.idle": "2022-10-02T18:37:40.205501Z",
     "shell.execute_reply": "2022-10-02T18:37:40.204413Z"
    },
    "papermill": {
     "duration": 0.813662,
     "end_time": "2022-10-02T18:37:40.208290",
     "exception": false,
     "start_time": "2022-10-02T18:37:39.394628",
     "status": "completed"
    },
    "tags": []
   },
   "outputs": [
    {
     "data": {
      "text/plain": [
       "0         my period is due on my wedding day how can i s...\n",
       "1         how many numbers higher than a million can be ...\n",
       "2         how come i feel nothing for my family but stil...\n",
       "3         in case of collapse of the democratic party wi...\n",
       "4                                     who is émile naoumoff\n",
       "                                ...                        \n",
       "306117    did anyone get an update on maruti suzuki all ...\n",
       "306118    what  people in history do you find the most i...\n",
       "306119              how can i remove the tan on my forehead\n",
       "306120    if you are a well known hacker will you be mor...\n",
       "306121    if your new enemies be bigger and more dangero...\n",
       "Name: question_text, Length: 306122, dtype: object"
      ]
     },
     "execution_count": 12,
     "metadata": {},
     "output_type": "execute_result"
    }
   ],
   "source": [
    "train_df.question_text= train_df.question_text.apply(round2)\n",
    "train_df.question_text"
   ]
  },
  {
   "cell_type": "code",
   "execution_count": 13,
   "id": "f95d298b",
   "metadata": {
    "execution": {
     "iopub.execute_input": "2022-10-02T18:37:40.221276Z",
     "iopub.status.busy": "2022-10-02T18:37:40.220962Z",
     "iopub.status.idle": "2022-10-02T18:37:40.229996Z",
     "shell.execute_reply": "2022-10-02T18:37:40.228450Z"
    },
    "papermill": {
     "duration": 0.017795,
     "end_time": "2022-10-02T18:37:40.232062",
     "exception": false,
     "start_time": "2022-10-02T18:37:40.214267",
     "status": "completed"
    },
    "tags": []
   },
   "outputs": [
    {
     "data": {
      "text/plain": [
       "0         my period is due on my wedding day how can i s...\n",
       "1         how many numbers higher than a million can be ...\n",
       "2         how come i feel nothing for my family but stil...\n",
       "3         in case of collapse of the democratic party wi...\n",
       "4                                     who is émile naoumoff\n",
       "                                ...                        \n",
       "306117    did anyone get an update on maruti suzuki all ...\n",
       "306118    what  people in history do you find the most i...\n",
       "306119              how can i remove the tan on my forehead\n",
       "306120    if you are a well known hacker will you be mor...\n",
       "306121    if your new enemies be bigger and more dangero...\n",
       "Name: question_text, Length: 306122, dtype: object"
      ]
     },
     "execution_count": 13,
     "metadata": {},
     "output_type": "execute_result"
    }
   ],
   "source": [
    "train_df.question_text"
   ]
  },
  {
   "cell_type": "code",
   "execution_count": 14,
   "id": "21f899fe",
   "metadata": {
    "execution": {
     "iopub.execute_input": "2022-10-02T18:37:40.245760Z",
     "iopub.status.busy": "2022-10-02T18:37:40.245478Z",
     "iopub.status.idle": "2022-10-02T18:37:41.809297Z",
     "shell.execute_reply": "2022-10-02T18:37:41.808097Z"
    },
    "papermill": {
     "duration": 1.573331,
     "end_time": "2022-10-02T18:37:41.811740",
     "exception": false,
     "start_time": "2022-10-02T18:37:40.238409",
     "status": "completed"
    },
    "tags": []
   },
   "outputs": [],
   "source": [
    "# Tokenization\n",
    "#defining function for tokenization\n",
    "import re\n",
    "def tokenization(text):\n",
    "    tokens = re.split('W+',text)\n",
    "    return tokens[0].split(\" \")\n",
    "#applying function to the column\n",
    "train_df['question_text']= train_df['question_text'].apply(lambda x: tokenization(x))\n",
    "# train_df.iloc[1].question_text"
   ]
  },
  {
   "cell_type": "code",
   "execution_count": 15,
   "id": "dcaedbaa",
   "metadata": {
    "execution": {
     "iopub.execute_input": "2022-10-02T18:37:41.825678Z",
     "iopub.status.busy": "2022-10-02T18:37:41.825047Z",
     "iopub.status.idle": "2022-10-02T18:37:50.903163Z",
     "shell.execute_reply": "2022-10-02T18:37:50.902072Z"
    },
    "papermill": {
     "duration": 9.087258,
     "end_time": "2022-10-02T18:37:50.905223",
     "exception": false,
     "start_time": "2022-10-02T18:37:41.817965",
     "status": "completed"
    },
    "tags": []
   },
   "outputs": [
    {
     "name": "stderr",
     "output_type": "stream",
     "text": [
      "[nltk_data] Downloading package stopwords to /usr/share/nltk_data...\n",
      "[nltk_data]   Package stopwords is already up-to-date!\n"
     ]
    },
    {
     "data": {
      "text/html": [
       "<div>\n",
       "<style scoped>\n",
       "    .dataframe tbody tr th:only-of-type {\n",
       "        vertical-align: middle;\n",
       "    }\n",
       "\n",
       "    .dataframe tbody tr th {\n",
       "        vertical-align: top;\n",
       "    }\n",
       "\n",
       "    .dataframe thead th {\n",
       "        text-align: right;\n",
       "    }\n",
       "</style>\n",
       "<table border=\"1\" class=\"dataframe\">\n",
       "  <thead>\n",
       "    <tr style=\"text-align: right;\">\n",
       "      <th></th>\n",
       "      <th>qid</th>\n",
       "      <th>question_text</th>\n",
       "    </tr>\n",
       "  </thead>\n",
       "  <tbody>\n",
       "    <tr>\n",
       "      <th>0</th>\n",
       "      <td>a4f3da3a3df9dd881edd</td>\n",
       "      <td>[period, due, wedding, day, stop, pill, option]</td>\n",
       "    </tr>\n",
       "    <tr>\n",
       "      <th>1</th>\n",
       "      <td>9914c62ed3f69684d549</td>\n",
       "      <td>[many, numbers, higher, million, formed, digit...</td>\n",
       "    </tr>\n",
       "    <tr>\n",
       "      <th>2</th>\n",
       "      <td>8138ae48649e37091a91</td>\n",
       "      <td>[come, feel, nothing, family, still, love, pet...</td>\n",
       "    </tr>\n",
       "    <tr>\n",
       "      <th>3</th>\n",
       "      <td>981b4753d17ef14d09f7</td>\n",
       "      <td>[case, collapse, democratic, party, republican...</td>\n",
       "    </tr>\n",
       "    <tr>\n",
       "      <th>4</th>\n",
       "      <td>452e2c705276ba16b7b7</td>\n",
       "      <td>[émile, naoumoff]</td>\n",
       "    </tr>\n",
       "    <tr>\n",
       "      <th>...</th>\n",
       "      <td>...</td>\n",
       "      <td>...</td>\n",
       "    </tr>\n",
       "    <tr>\n",
       "      <th>306117</th>\n",
       "      <td>a352dff4fcc2571815ce</td>\n",
       "      <td>[anyone, get, update, maruti, suzuki, india, e...</td>\n",
       "    </tr>\n",
       "    <tr>\n",
       "      <th>306118</th>\n",
       "      <td>ad4a8498d97c536c67b9</td>\n",
       "      <td>[, people, history, find, interesting]</td>\n",
       "    </tr>\n",
       "    <tr>\n",
       "      <th>306119</th>\n",
       "      <td>19784a27b55d4b453fda</td>\n",
       "      <td>[remove, tan, forehead]</td>\n",
       "    </tr>\n",
       "    <tr>\n",
       "      <th>306120</th>\n",
       "      <td>370191dba26465997879</td>\n",
       "      <td>[well, known, hacker, prone, hacked]</td>\n",
       "    </tr>\n",
       "    <tr>\n",
       "      <th>306121</th>\n",
       "      <td>8077b4a45cea867d4ff2</td>\n",
       "      <td>[new, enemies, bigger, dangerous, old, enemies...</td>\n",
       "    </tr>\n",
       "  </tbody>\n",
       "</table>\n",
       "<p>306122 rows × 2 columns</p>\n",
       "</div>"
      ],
      "text/plain": [
       "                         qid  \\\n",
       "0       a4f3da3a3df9dd881edd   \n",
       "1       9914c62ed3f69684d549   \n",
       "2       8138ae48649e37091a91   \n",
       "3       981b4753d17ef14d09f7   \n",
       "4       452e2c705276ba16b7b7   \n",
       "...                      ...   \n",
       "306117  a352dff4fcc2571815ce   \n",
       "306118  ad4a8498d97c536c67b9   \n",
       "306119  19784a27b55d4b453fda   \n",
       "306120  370191dba26465997879   \n",
       "306121  8077b4a45cea867d4ff2   \n",
       "\n",
       "                                            question_text  \n",
       "0         [period, due, wedding, day, stop, pill, option]  \n",
       "1       [many, numbers, higher, million, formed, digit...  \n",
       "2       [come, feel, nothing, family, still, love, pet...  \n",
       "3       [case, collapse, democratic, party, republican...  \n",
       "4                                       [émile, naoumoff]  \n",
       "...                                                   ...  \n",
       "306117  [anyone, get, update, maruti, suzuki, india, e...  \n",
       "306118             [, people, history, find, interesting]  \n",
       "306119                            [remove, tan, forehead]  \n",
       "306120               [well, known, hacker, prone, hacked]  \n",
       "306121  [new, enemies, bigger, dangerous, old, enemies...  \n",
       "\n",
       "[306122 rows x 2 columns]"
      ]
     },
     "execution_count": 15,
     "metadata": {},
     "output_type": "execute_result"
    }
   ],
   "source": [
    "import nltk\n",
    "from nltk.corpus import stopwords\n",
    "nltk.download('stopwords')\n",
    "# train_df.question_text = [word for word in train_df.question_text if not word in stopwords.words('english')]\n",
    "# train_df\n",
    "# print(stopwords.words('english'))\n",
    "stopwords=stopwords.words('english')\n",
    "def remove_stopwords(text):\n",
    "    output= [i for i in text if i not in stopwords]\n",
    "    return output\n",
    "#applying the function\n",
    "train_df['question_text']= train_df['question_text'].apply(lambda x:remove_stopwords(x))\n",
    "train_df"
   ]
  },
  {
   "cell_type": "code",
   "execution_count": 16,
   "id": "8a12f79c",
   "metadata": {
    "execution": {
     "iopub.execute_input": "2022-10-02T18:37:50.918746Z",
     "iopub.status.busy": "2022-10-02T18:37:50.918453Z",
     "iopub.status.idle": "2022-10-02T18:37:50.922570Z",
     "shell.execute_reply": "2022-10-02T18:37:50.921513Z"
    },
    "papermill": {
     "duration": 0.013373,
     "end_time": "2022-10-02T18:37:50.924838",
     "exception": false,
     "start_time": "2022-10-02T18:37:50.911465",
     "status": "completed"
    },
    "tags": []
   },
   "outputs": [],
   "source": [
    "# import nltk\n",
    "# from nltk.stem import PorterStemmer\n",
    "# ps = PorterStemmer()"
   ]
  },
  {
   "cell_type": "code",
   "execution_count": 17,
   "id": "df80511b",
   "metadata": {
    "execution": {
     "iopub.execute_input": "2022-10-02T18:37:50.937745Z",
     "iopub.status.busy": "2022-10-02T18:37:50.937472Z",
     "iopub.status.idle": "2022-10-02T18:37:50.941391Z",
     "shell.execute_reply": "2022-10-02T18:37:50.940503Z"
    },
    "papermill": {
     "duration": 0.012484,
     "end_time": "2022-10-02T18:37:50.943260",
     "exception": false,
     "start_time": "2022-10-02T18:37:50.930776",
     "status": "completed"
    },
    "tags": []
   },
   "outputs": [],
   "source": [
    "# train_df['question_text'] = train_df['question_text'].apply(lambda x: [ps.stem(y) for y in x]) # Stem every word.\n",
    "# # train_df = train_df.drop(columns=['question_text']) # Get rid of the unstemmed column."
   ]
  },
  {
   "cell_type": "code",
   "execution_count": 18,
   "id": "15d62cf2",
   "metadata": {
    "execution": {
     "iopub.execute_input": "2022-10-02T18:37:50.957962Z",
     "iopub.status.busy": "2022-10-02T18:37:50.956407Z",
     "iopub.status.idle": "2022-10-02T18:37:50.971116Z",
     "shell.execute_reply": "2022-10-02T18:37:50.970107Z"
    },
    "papermill": {
     "duration": 0.024017,
     "end_time": "2022-10-02T18:37:50.973111",
     "exception": false,
     "start_time": "2022-10-02T18:37:50.949094",
     "status": "completed"
    },
    "tags": []
   },
   "outputs": [
    {
     "data": {
      "text/html": [
       "<div>\n",
       "<style scoped>\n",
       "    .dataframe tbody tr th:only-of-type {\n",
       "        vertical-align: middle;\n",
       "    }\n",
       "\n",
       "    .dataframe tbody tr th {\n",
       "        vertical-align: top;\n",
       "    }\n",
       "\n",
       "    .dataframe thead th {\n",
       "        text-align: right;\n",
       "    }\n",
       "</style>\n",
       "<table border=\"1\" class=\"dataframe\">\n",
       "  <thead>\n",
       "    <tr style=\"text-align: right;\">\n",
       "      <th></th>\n",
       "      <th>qid</th>\n",
       "      <th>question_text</th>\n",
       "    </tr>\n",
       "  </thead>\n",
       "  <tbody>\n",
       "    <tr>\n",
       "      <th>0</th>\n",
       "      <td>a4f3da3a3df9dd881edd</td>\n",
       "      <td>[period, due, wedding, day, stop, pill, option]</td>\n",
       "    </tr>\n",
       "    <tr>\n",
       "      <th>1</th>\n",
       "      <td>9914c62ed3f69684d549</td>\n",
       "      <td>[many, numbers, higher, million, formed, digit...</td>\n",
       "    </tr>\n",
       "    <tr>\n",
       "      <th>2</th>\n",
       "      <td>8138ae48649e37091a91</td>\n",
       "      <td>[come, feel, nothing, family, still, love, pet...</td>\n",
       "    </tr>\n",
       "    <tr>\n",
       "      <th>3</th>\n",
       "      <td>981b4753d17ef14d09f7</td>\n",
       "      <td>[case, collapse, democratic, party, republican...</td>\n",
       "    </tr>\n",
       "    <tr>\n",
       "      <th>4</th>\n",
       "      <td>452e2c705276ba16b7b7</td>\n",
       "      <td>[émile, naoumoff]</td>\n",
       "    </tr>\n",
       "    <tr>\n",
       "      <th>...</th>\n",
       "      <td>...</td>\n",
       "      <td>...</td>\n",
       "    </tr>\n",
       "    <tr>\n",
       "      <th>306117</th>\n",
       "      <td>a352dff4fcc2571815ce</td>\n",
       "      <td>[anyone, get, update, maruti, suzuki, india, e...</td>\n",
       "    </tr>\n",
       "    <tr>\n",
       "      <th>306118</th>\n",
       "      <td>ad4a8498d97c536c67b9</td>\n",
       "      <td>[, people, history, find, interesting]</td>\n",
       "    </tr>\n",
       "    <tr>\n",
       "      <th>306119</th>\n",
       "      <td>19784a27b55d4b453fda</td>\n",
       "      <td>[remove, tan, forehead]</td>\n",
       "    </tr>\n",
       "    <tr>\n",
       "      <th>306120</th>\n",
       "      <td>370191dba26465997879</td>\n",
       "      <td>[well, known, hacker, prone, hacked]</td>\n",
       "    </tr>\n",
       "    <tr>\n",
       "      <th>306121</th>\n",
       "      <td>8077b4a45cea867d4ff2</td>\n",
       "      <td>[new, enemies, bigger, dangerous, old, enemies...</td>\n",
       "    </tr>\n",
       "  </tbody>\n",
       "</table>\n",
       "<p>306122 rows × 2 columns</p>\n",
       "</div>"
      ],
      "text/plain": [
       "                         qid  \\\n",
       "0       a4f3da3a3df9dd881edd   \n",
       "1       9914c62ed3f69684d549   \n",
       "2       8138ae48649e37091a91   \n",
       "3       981b4753d17ef14d09f7   \n",
       "4       452e2c705276ba16b7b7   \n",
       "...                      ...   \n",
       "306117  a352dff4fcc2571815ce   \n",
       "306118  ad4a8498d97c536c67b9   \n",
       "306119  19784a27b55d4b453fda   \n",
       "306120  370191dba26465997879   \n",
       "306121  8077b4a45cea867d4ff2   \n",
       "\n",
       "                                            question_text  \n",
       "0         [period, due, wedding, day, stop, pill, option]  \n",
       "1       [many, numbers, higher, million, formed, digit...  \n",
       "2       [come, feel, nothing, family, still, love, pet...  \n",
       "3       [case, collapse, democratic, party, republican...  \n",
       "4                                       [émile, naoumoff]  \n",
       "...                                                   ...  \n",
       "306117  [anyone, get, update, maruti, suzuki, india, e...  \n",
       "306118             [, people, history, find, interesting]  \n",
       "306119                            [remove, tan, forehead]  \n",
       "306120               [well, known, hacker, prone, hacked]  \n",
       "306121  [new, enemies, bigger, dangerous, old, enemies...  \n",
       "\n",
       "[306122 rows x 2 columns]"
      ]
     },
     "execution_count": 18,
     "metadata": {},
     "output_type": "execute_result"
    }
   ],
   "source": [
    "train_df"
   ]
  },
  {
   "cell_type": "code",
   "execution_count": 19,
   "id": "28b56082",
   "metadata": {
    "execution": {
     "iopub.execute_input": "2022-10-02T18:37:50.987419Z",
     "iopub.status.busy": "2022-10-02T18:37:50.986679Z",
     "iopub.status.idle": "2022-10-02T18:38:01.974399Z",
     "shell.execute_reply": "2022-10-02T18:38:01.973344Z"
    },
    "papermill": {
     "duration": 10.997179,
     "end_time": "2022-10-02T18:38:01.976936",
     "exception": false,
     "start_time": "2022-10-02T18:37:50.979757",
     "status": "completed"
    },
    "tags": []
   },
   "outputs": [
    {
     "name": "stderr",
     "output_type": "stream",
     "text": [
      "[nltk_data] Downloading package omw-1.4 to /usr/share/nltk_data...\n",
      "[nltk_data] Downloading package wordnet to /usr/share/nltk_data...\n",
      "[nltk_data]   Package wordnet is already up-to-date!\n"
     ]
    }
   ],
   "source": [
    "import nltk\n",
    "nltk.download('omw-1.4')\n",
    "  \n",
    "\n",
    "# Lemmatization\n",
    "from nltk.stem import WordNetLemmatizer\n",
    "nltk.download('wordnet')\n",
    "#defining the object for Lemmatization\n",
    "wordnet_lemmatizer = WordNetLemmatizer()\n",
    "#defining the function for lemmatization\n",
    "def lemmatizer(text):\n",
    "    lemm_text = [wordnet_lemmatizer.lemmatize(word) for word in text]\n",
    "    return lemm_text\n",
    "train_df['question_text']=train_df['question_text'].apply(lambda x:lemmatizer(x))\n",
    "# train_df"
   ]
  },
  {
   "cell_type": "code",
   "execution_count": 20,
   "id": "f6ea2544",
   "metadata": {
    "execution": {
     "iopub.execute_input": "2022-10-02T18:38:01.991910Z",
     "iopub.status.busy": "2022-10-02T18:38:01.991600Z",
     "iopub.status.idle": "2022-10-02T18:38:01.995776Z",
     "shell.execute_reply": "2022-10-02T18:38:01.994730Z"
    },
    "papermill": {
     "duration": 0.014242,
     "end_time": "2022-10-02T18:38:01.998026",
     "exception": false,
     "start_time": "2022-10-02T18:38:01.983784",
     "status": "completed"
    },
    "tags": []
   },
   "outputs": [],
   "source": [
    "# listOfWords = train_df.question_text[:][0]\n",
    "# listOfWords.extend(train_df.question_text[:][1])\n",
    "# listOfWords"
   ]
  },
  {
   "cell_type": "code",
   "execution_count": 21,
   "id": "f93b5ce1",
   "metadata": {
    "execution": {
     "iopub.execute_input": "2022-10-02T18:38:02.011797Z",
     "iopub.status.busy": "2022-10-02T18:38:02.011530Z",
     "iopub.status.idle": "2022-10-02T18:38:34.366056Z",
     "shell.execute_reply": "2022-10-02T18:38:34.365089Z"
    },
    "papermill": {
     "duration": 32.370422,
     "end_time": "2022-10-02T18:38:34.374621",
     "exception": false,
     "start_time": "2022-10-02T18:38:02.004199",
     "status": "completed"
    },
    "tags": []
   },
   "outputs": [
    {
     "data": {
      "text/html": [
       "<div>\n",
       "<style scoped>\n",
       "    .dataframe tbody tr th:only-of-type {\n",
       "        vertical-align: middle;\n",
       "    }\n",
       "\n",
       "    .dataframe tbody tr th {\n",
       "        vertical-align: top;\n",
       "    }\n",
       "\n",
       "    .dataframe thead th {\n",
       "        text-align: right;\n",
       "    }\n",
       "</style>\n",
       "<table border=\"1\" class=\"dataframe\">\n",
       "  <thead>\n",
       "    <tr style=\"text-align: right;\">\n",
       "      <th></th>\n",
       "      <th>aa</th>\n",
       "      <th>aaa</th>\n",
       "      <th>aaabbb</th>\n",
       "      <th>aaalike</th>\n",
       "      <th>aaaq</th>\n",
       "      <th>aaarated</th>\n",
       "      <th>aac</th>\n",
       "      <th>aachen</th>\n",
       "      <th>aadar</th>\n",
       "      <th>aadgar</th>\n",
       "      <th>...</th>\n",
       "      <th>鸡汤文</th>\n",
       "      <th>齐天大圣</th>\n",
       "      <th>고등학교는</th>\n",
       "      <th>몇시간</th>\n",
       "      <th>뽀비엠퍼러</th>\n",
       "      <th>수업하니까</th>\n",
       "      <th>청하</th>\n",
       "      <th>한국</th>\n",
       "      <th>ﬁle</th>\n",
       "      <th>ｈow</th>\n",
       "    </tr>\n",
       "  </thead>\n",
       "  <tbody>\n",
       "    <tr>\n",
       "      <th>0</th>\n",
       "      <td>0</td>\n",
       "      <td>0</td>\n",
       "      <td>0</td>\n",
       "      <td>0</td>\n",
       "      <td>0</td>\n",
       "      <td>0</td>\n",
       "      <td>0</td>\n",
       "      <td>0</td>\n",
       "      <td>0</td>\n",
       "      <td>0</td>\n",
       "      <td>...</td>\n",
       "      <td>0</td>\n",
       "      <td>0</td>\n",
       "      <td>0</td>\n",
       "      <td>0</td>\n",
       "      <td>0</td>\n",
       "      <td>0</td>\n",
       "      <td>0</td>\n",
       "      <td>0</td>\n",
       "      <td>0</td>\n",
       "      <td>0</td>\n",
       "    </tr>\n",
       "    <tr>\n",
       "      <th>1</th>\n",
       "      <td>0</td>\n",
       "      <td>0</td>\n",
       "      <td>0</td>\n",
       "      <td>0</td>\n",
       "      <td>0</td>\n",
       "      <td>0</td>\n",
       "      <td>0</td>\n",
       "      <td>0</td>\n",
       "      <td>0</td>\n",
       "      <td>0</td>\n",
       "      <td>...</td>\n",
       "      <td>0</td>\n",
       "      <td>0</td>\n",
       "      <td>0</td>\n",
       "      <td>0</td>\n",
       "      <td>0</td>\n",
       "      <td>0</td>\n",
       "      <td>0</td>\n",
       "      <td>0</td>\n",
       "      <td>0</td>\n",
       "      <td>0</td>\n",
       "    </tr>\n",
       "    <tr>\n",
       "      <th>2</th>\n",
       "      <td>0</td>\n",
       "      <td>0</td>\n",
       "      <td>0</td>\n",
       "      <td>0</td>\n",
       "      <td>0</td>\n",
       "      <td>0</td>\n",
       "      <td>0</td>\n",
       "      <td>0</td>\n",
       "      <td>0</td>\n",
       "      <td>0</td>\n",
       "      <td>...</td>\n",
       "      <td>0</td>\n",
       "      <td>0</td>\n",
       "      <td>0</td>\n",
       "      <td>0</td>\n",
       "      <td>0</td>\n",
       "      <td>0</td>\n",
       "      <td>0</td>\n",
       "      <td>0</td>\n",
       "      <td>0</td>\n",
       "      <td>0</td>\n",
       "    </tr>\n",
       "    <tr>\n",
       "      <th>3</th>\n",
       "      <td>0</td>\n",
       "      <td>0</td>\n",
       "      <td>0</td>\n",
       "      <td>0</td>\n",
       "      <td>0</td>\n",
       "      <td>0</td>\n",
       "      <td>0</td>\n",
       "      <td>0</td>\n",
       "      <td>0</td>\n",
       "      <td>0</td>\n",
       "      <td>...</td>\n",
       "      <td>0</td>\n",
       "      <td>0</td>\n",
       "      <td>0</td>\n",
       "      <td>0</td>\n",
       "      <td>0</td>\n",
       "      <td>0</td>\n",
       "      <td>0</td>\n",
       "      <td>0</td>\n",
       "      <td>0</td>\n",
       "      <td>0</td>\n",
       "    </tr>\n",
       "    <tr>\n",
       "      <th>4</th>\n",
       "      <td>0</td>\n",
       "      <td>0</td>\n",
       "      <td>0</td>\n",
       "      <td>0</td>\n",
       "      <td>0</td>\n",
       "      <td>0</td>\n",
       "      <td>0</td>\n",
       "      <td>0</td>\n",
       "      <td>0</td>\n",
       "      <td>0</td>\n",
       "      <td>...</td>\n",
       "      <td>0</td>\n",
       "      <td>0</td>\n",
       "      <td>0</td>\n",
       "      <td>0</td>\n",
       "      <td>0</td>\n",
       "      <td>0</td>\n",
       "      <td>0</td>\n",
       "      <td>0</td>\n",
       "      <td>0</td>\n",
       "      <td>0</td>\n",
       "    </tr>\n",
       "    <tr>\n",
       "      <th>...</th>\n",
       "      <td>...</td>\n",
       "      <td>...</td>\n",
       "      <td>...</td>\n",
       "      <td>...</td>\n",
       "      <td>...</td>\n",
       "      <td>...</td>\n",
       "      <td>...</td>\n",
       "      <td>...</td>\n",
       "      <td>...</td>\n",
       "      <td>...</td>\n",
       "      <td>...</td>\n",
       "      <td>...</td>\n",
       "      <td>...</td>\n",
       "      <td>...</td>\n",
       "      <td>...</td>\n",
       "      <td>...</td>\n",
       "      <td>...</td>\n",
       "      <td>...</td>\n",
       "      <td>...</td>\n",
       "      <td>...</td>\n",
       "      <td>...</td>\n",
       "    </tr>\n",
       "    <tr>\n",
       "      <th>1999611</th>\n",
       "      <td>0</td>\n",
       "      <td>0</td>\n",
       "      <td>0</td>\n",
       "      <td>0</td>\n",
       "      <td>0</td>\n",
       "      <td>0</td>\n",
       "      <td>0</td>\n",
       "      <td>0</td>\n",
       "      <td>0</td>\n",
       "      <td>0</td>\n",
       "      <td>...</td>\n",
       "      <td>0</td>\n",
       "      <td>0</td>\n",
       "      <td>0</td>\n",
       "      <td>0</td>\n",
       "      <td>0</td>\n",
       "      <td>0</td>\n",
       "      <td>0</td>\n",
       "      <td>0</td>\n",
       "      <td>0</td>\n",
       "      <td>0</td>\n",
       "    </tr>\n",
       "    <tr>\n",
       "      <th>1999612</th>\n",
       "      <td>0</td>\n",
       "      <td>0</td>\n",
       "      <td>0</td>\n",
       "      <td>0</td>\n",
       "      <td>0</td>\n",
       "      <td>0</td>\n",
       "      <td>0</td>\n",
       "      <td>0</td>\n",
       "      <td>0</td>\n",
       "      <td>0</td>\n",
       "      <td>...</td>\n",
       "      <td>0</td>\n",
       "      <td>0</td>\n",
       "      <td>0</td>\n",
       "      <td>0</td>\n",
       "      <td>0</td>\n",
       "      <td>0</td>\n",
       "      <td>0</td>\n",
       "      <td>0</td>\n",
       "      <td>0</td>\n",
       "      <td>0</td>\n",
       "    </tr>\n",
       "    <tr>\n",
       "      <th>1999613</th>\n",
       "      <td>0</td>\n",
       "      <td>0</td>\n",
       "      <td>0</td>\n",
       "      <td>0</td>\n",
       "      <td>0</td>\n",
       "      <td>0</td>\n",
       "      <td>0</td>\n",
       "      <td>0</td>\n",
       "      <td>0</td>\n",
       "      <td>0</td>\n",
       "      <td>...</td>\n",
       "      <td>0</td>\n",
       "      <td>0</td>\n",
       "      <td>0</td>\n",
       "      <td>0</td>\n",
       "      <td>0</td>\n",
       "      <td>0</td>\n",
       "      <td>0</td>\n",
       "      <td>0</td>\n",
       "      <td>0</td>\n",
       "      <td>0</td>\n",
       "    </tr>\n",
       "    <tr>\n",
       "      <th>1999614</th>\n",
       "      <td>0</td>\n",
       "      <td>0</td>\n",
       "      <td>0</td>\n",
       "      <td>0</td>\n",
       "      <td>0</td>\n",
       "      <td>0</td>\n",
       "      <td>0</td>\n",
       "      <td>0</td>\n",
       "      <td>0</td>\n",
       "      <td>0</td>\n",
       "      <td>...</td>\n",
       "      <td>0</td>\n",
       "      <td>0</td>\n",
       "      <td>0</td>\n",
       "      <td>0</td>\n",
       "      <td>0</td>\n",
       "      <td>0</td>\n",
       "      <td>0</td>\n",
       "      <td>0</td>\n",
       "      <td>0</td>\n",
       "      <td>0</td>\n",
       "    </tr>\n",
       "    <tr>\n",
       "      <th>1999615</th>\n",
       "      <td>0</td>\n",
       "      <td>0</td>\n",
       "      <td>0</td>\n",
       "      <td>0</td>\n",
       "      <td>0</td>\n",
       "      <td>0</td>\n",
       "      <td>0</td>\n",
       "      <td>0</td>\n",
       "      <td>0</td>\n",
       "      <td>0</td>\n",
       "      <td>...</td>\n",
       "      <td>0</td>\n",
       "      <td>0</td>\n",
       "      <td>0</td>\n",
       "      <td>0</td>\n",
       "      <td>0</td>\n",
       "      <td>0</td>\n",
       "      <td>0</td>\n",
       "      <td>0</td>\n",
       "      <td>0</td>\n",
       "      <td>0</td>\n",
       "    </tr>\n",
       "  </tbody>\n",
       "</table>\n",
       "<p>1999616 rows × 90237 columns</p>\n",
       "</div>"
      ],
      "text/plain": [
       "         aa  aaa  aaabbb  aaalike  aaaq  aaarated  aac  aachen  aadar  aadgar  \\\n",
       "0         0    0       0        0     0         0    0       0      0       0   \n",
       "1         0    0       0        0     0         0    0       0      0       0   \n",
       "2         0    0       0        0     0         0    0       0      0       0   \n",
       "3         0    0       0        0     0         0    0       0      0       0   \n",
       "4         0    0       0        0     0         0    0       0      0       0   \n",
       "...      ..  ...     ...      ...   ...       ...  ...     ...    ...     ...   \n",
       "1999611   0    0       0        0     0         0    0       0      0       0   \n",
       "1999612   0    0       0        0     0         0    0       0      0       0   \n",
       "1999613   0    0       0        0     0         0    0       0      0       0   \n",
       "1999614   0    0       0        0     0         0    0       0      0       0   \n",
       "1999615   0    0       0        0     0         0    0       0      0       0   \n",
       "\n",
       "         ...  鸡汤文  齐天大圣  고등학교는  몇시간  뽀비엠퍼러  수업하니까  청하  한국  ﬁle  ｈow  \n",
       "0        ...    0     0      0    0      0      0   0   0    0    0  \n",
       "1        ...    0     0      0    0      0      0   0   0    0    0  \n",
       "2        ...    0     0      0    0      0      0   0   0    0    0  \n",
       "3        ...    0     0      0    0      0      0   0   0    0    0  \n",
       "4        ...    0     0      0    0      0      0   0   0    0    0  \n",
       "...      ...  ...   ...    ...  ...    ...    ...  ..  ..  ...  ...  \n",
       "1999611  ...    0     0      0    0      0      0   0   0    0    0  \n",
       "1999612  ...    0     0      0    0      0      0   0   0    0    0  \n",
       "1999613  ...    0     0      0    0      0      0   0   0    0    0  \n",
       "1999614  ...    0     0      0    0      0      0   0   0    0    0  \n",
       "1999615  ...    0     0      0    0      0      0   0   0    0    0  \n",
       "\n",
       "[1999616 rows x 90237 columns]"
      ]
     },
     "execution_count": 21,
     "metadata": {},
     "output_type": "execute_result"
    }
   ],
   "source": [
    "# We are going to create a document-term matrix using CountVectorizer, and exclude common English stop words\n",
    "from sklearn.feature_extraction.text import CountVectorizer\n",
    "\n",
    "cv = CountVectorizer(stop_words='english')\n",
    "words=[]\n",
    "for i in range(train_df.question_text.shape[0]):\n",
    "    words.extend(word for word in train_df.question_text[:][i])\n",
    "# print(words)\n",
    "data_cv = cv.fit_transform(word for word in words)\n",
    "# data_cv = train_df.question_text \n",
    "data_dtm = pd.DataFrame(data_cv.toarray(), columns=cv.get_feature_names_out())\n",
    "# data_dtm.index = train_df.index\n",
    "data_dtm"
   ]
  }
 ],
 "metadata": {
  "kernelspec": {
   "display_name": "Python 3",
   "language": "python",
   "name": "python3"
  },
  "language_info": {
   "codemirror_mode": {
    "name": "ipython",
    "version": 3
   },
   "file_extension": ".py",
   "mimetype": "text/x-python",
   "name": "python",
   "nbconvert_exporter": "python",
   "pygments_lexer": "ipython3",
   "version": "3.7.12"
  },
  "papermill": {
   "default_parameters": {},
   "duration": 72.068134,
   "end_time": "2022-10-02T18:38:36.507968",
   "environment_variables": {},
   "exception": null,
   "input_path": "__notebook__.ipynb",
   "output_path": "__notebook__.ipynb",
   "parameters": {},
   "start_time": "2022-10-02T18:37:24.439834",
   "version": "2.3.4"
  }
 },
 "nbformat": 4,
 "nbformat_minor": 5
}
