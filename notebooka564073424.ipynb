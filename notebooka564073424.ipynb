{
 "cells": [
  {
   "cell_type": "markdown",
   "id": "96e55405",
   "metadata": {
    "papermill": {
     "duration": 0.005071,
     "end_time": "2022-12-08T06:12:59.950465",
     "exception": false,
     "start_time": "2022-12-08T06:12:59.945394",
     "status": "completed"
    },
    "tags": []
   },
   "source": [
    "## Reading Preprocessed data"
   ]
  },
  {
   "cell_type": "code",
   "execution_count": 1,
   "id": "dbaf83e5",
   "metadata": {
    "execution": {
     "iopub.execute_input": "2022-12-08T06:12:59.960688Z",
     "iopub.status.busy": "2022-12-08T06:12:59.960168Z",
     "iopub.status.idle": "2022-12-08T06:13:01.121993Z",
     "shell.execute_reply": "2022-12-08T06:13:01.120578Z"
    },
    "papermill": {
     "duration": 1.170674,
     "end_time": "2022-12-08T06:13:01.125234",
     "exception": false,
     "start_time": "2022-12-08T06:12:59.954560",
     "status": "completed"
    },
    "tags": []
   },
   "outputs": [],
   "source": [
    "import numpy as np \n",
    "import pandas as pd\n",
    "from sklearn.model_selection import train_test_split\n",
    "from sklearn import metrics\n",
    "from sklearn.metrics import confusion_matrix,accuracy_score,roc_auc_score,roc_curve,auc,f1_score\n",
    "from sklearn.feature_extraction.text import TfidfVectorizer, CountVectorizer\n",
    "from sklearn.model_selection import GridSearchCV"
   ]
  },
  {
   "cell_type": "code",
   "execution_count": 2,
   "id": "1c5c22a5",
   "metadata": {
    "execution": {
     "iopub.execute_input": "2022-12-08T06:13:01.136463Z",
     "iopub.status.busy": "2022-12-08T06:13:01.135258Z",
     "iopub.status.idle": "2022-12-08T06:13:06.603229Z",
     "shell.execute_reply": "2022-12-08T06:13:06.602006Z"
    },
    "papermill": {
     "duration": 5.476771,
     "end_time": "2022-12-08T06:13:06.606190",
     "exception": false,
     "start_time": "2022-12-08T06:13:01.129419",
     "status": "completed"
    },
    "tags": []
   },
   "outputs": [],
   "source": [
    "train_df = pd.read_csv(\"/kaggle/input/datafiles/train_df.csv\")\n",
    "test_df = pd.read_csv(\"/kaggle/input/datafiles/test_df.csv\")"
   ]
  },
  {
   "cell_type": "code",
   "execution_count": 3,
   "id": "3a50c814",
   "metadata": {
    "execution": {
     "iopub.execute_input": "2022-12-08T06:13:06.615990Z",
     "iopub.status.busy": "2022-12-08T06:13:06.615587Z",
     "iopub.status.idle": "2022-12-08T06:13:06.640273Z",
     "shell.execute_reply": "2022-12-08T06:13:06.638930Z"
    },
    "papermill": {
     "duration": 0.033502,
     "end_time": "2022-12-08T06:13:06.643793",
     "exception": false,
     "start_time": "2022-12-08T06:13:06.610291",
     "status": "completed"
    },
    "tags": []
   },
   "outputs": [
    {
     "data": {
      "text/html": [
       "<div>\n",
       "<style scoped>\n",
       "    .dataframe tbody tr th:only-of-type {\n",
       "        vertical-align: middle;\n",
       "    }\n",
       "\n",
       "    .dataframe tbody tr th {\n",
       "        vertical-align: top;\n",
       "    }\n",
       "\n",
       "    .dataframe thead th {\n",
       "        text-align: right;\n",
       "    }\n",
       "</style>\n",
       "<table border=\"1\" class=\"dataframe\">\n",
       "  <thead>\n",
       "    <tr style=\"text-align: right;\">\n",
       "      <th></th>\n",
       "      <th>qid</th>\n",
       "      <th>question_text</th>\n",
       "    </tr>\n",
       "  </thead>\n",
       "  <tbody>\n",
       "    <tr>\n",
       "      <th>0</th>\n",
       "      <td>a4f3da3a3df9dd881edd</td>\n",
       "      <td>My period is due on my wedding day. How can I ...</td>\n",
       "    </tr>\n",
       "    <tr>\n",
       "      <th>1</th>\n",
       "      <td>9914c62ed3f69684d549</td>\n",
       "      <td>How many numbers higher than a million can be ...</td>\n",
       "    </tr>\n",
       "    <tr>\n",
       "      <th>2</th>\n",
       "      <td>8138ae48649e37091a91</td>\n",
       "      <td>How come I feel nothing for my family, but sti...</td>\n",
       "    </tr>\n",
       "    <tr>\n",
       "      <th>3</th>\n",
       "      <td>981b4753d17ef14d09f7</td>\n",
       "      <td>In case of collapse of the Democratic party, w...</td>\n",
       "    </tr>\n",
       "    <tr>\n",
       "      <th>4</th>\n",
       "      <td>452e2c705276ba16b7b7</td>\n",
       "      <td>Who is Émile Naoumoff?</td>\n",
       "    </tr>\n",
       "    <tr>\n",
       "      <th>...</th>\n",
       "      <td>...</td>\n",
       "      <td>...</td>\n",
       "    </tr>\n",
       "    <tr>\n",
       "      <th>306117</th>\n",
       "      <td>a352dff4fcc2571815ce</td>\n",
       "      <td>Did anyone get an update on Maruti Suzuki All ...</td>\n",
       "    </tr>\n",
       "    <tr>\n",
       "      <th>306118</th>\n",
       "      <td>ad4a8498d97c536c67b9</td>\n",
       "      <td>What 5 people in history do you find the most ...</td>\n",
       "    </tr>\n",
       "    <tr>\n",
       "      <th>306119</th>\n",
       "      <td>19784a27b55d4b453fda</td>\n",
       "      <td>How can I remove the tan on my forehead?</td>\n",
       "    </tr>\n",
       "    <tr>\n",
       "      <th>306120</th>\n",
       "      <td>370191dba26465997879</td>\n",
       "      <td>If you are a well known hacker, will you be mo...</td>\n",
       "    </tr>\n",
       "    <tr>\n",
       "      <th>306121</th>\n",
       "      <td>8077b4a45cea867d4ff2</td>\n",
       "      <td>If your new enemies be bigger and more dangero...</td>\n",
       "    </tr>\n",
       "  </tbody>\n",
       "</table>\n",
       "<p>306122 rows × 2 columns</p>\n",
       "</div>"
      ],
      "text/plain": [
       "                         qid  \\\n",
       "0       a4f3da3a3df9dd881edd   \n",
       "1       9914c62ed3f69684d549   \n",
       "2       8138ae48649e37091a91   \n",
       "3       981b4753d17ef14d09f7   \n",
       "4       452e2c705276ba16b7b7   \n",
       "...                      ...   \n",
       "306117  a352dff4fcc2571815ce   \n",
       "306118  ad4a8498d97c536c67b9   \n",
       "306119  19784a27b55d4b453fda   \n",
       "306120  370191dba26465997879   \n",
       "306121  8077b4a45cea867d4ff2   \n",
       "\n",
       "                                            question_text  \n",
       "0       My period is due on my wedding day. How can I ...  \n",
       "1       How many numbers higher than a million can be ...  \n",
       "2       How come I feel nothing for my family, but sti...  \n",
       "3       In case of collapse of the Democratic party, w...  \n",
       "4                                  Who is Émile Naoumoff?  \n",
       "...                                                   ...  \n",
       "306117  Did anyone get an update on Maruti Suzuki All ...  \n",
       "306118  What 5 people in history do you find the most ...  \n",
       "306119           How can I remove the tan on my forehead?  \n",
       "306120  If you are a well known hacker, will you be mo...  \n",
       "306121  If your new enemies be bigger and more dangero...  \n",
       "\n",
       "[306122 rows x 2 columns]"
      ]
     },
     "execution_count": 3,
     "metadata": {},
     "output_type": "execute_result"
    }
   ],
   "source": [
    "test_df"
   ]
  },
  {
   "cell_type": "markdown",
   "id": "afe7f93f",
   "metadata": {
    "papermill": {
     "duration": 0.004056,
     "end_time": "2022-12-08T06:13:06.653027",
     "exception": false,
     "start_time": "2022-12-08T06:13:06.648971",
     "status": "completed"
    },
    "tags": []
   },
   "source": [
    "## Vectorization of the dataset"
   ]
  },
  {
   "cell_type": "code",
   "execution_count": 4,
   "id": "2b1892c7",
   "metadata": {
    "execution": {
     "iopub.execute_input": "2022-12-08T06:13:06.663294Z",
     "iopub.status.busy": "2022-12-08T06:13:06.662859Z",
     "iopub.status.idle": "2022-12-08T06:19:25.221791Z",
     "shell.execute_reply": "2022-12-08T06:19:25.219814Z"
    },
    "papermill": {
     "duration": 378.568341,
     "end_time": "2022-12-08T06:19:25.225587",
     "exception": false,
     "start_time": "2022-12-08T06:13:06.657246",
     "status": "completed"
    },
    "tags": []
   },
   "outputs": [],
   "source": [
    "from sklearn.feature_extraction.text import TfidfVectorizer\n",
    "from scipy.sparse import hstack\n",
    "\n",
    "# # from sklearn.feature_extraction.text import TfidfVectorizer\n",
    "\n",
    "# # We can change the number of words counted together and see results on accuracy\n",
    "# CountVectorizer(analyzer='word', ngram_range=(1, 3))\n",
    "\n",
    "word_vectorizer = TfidfVectorizer(\n",
    "    strip_accents = 'unicode',\n",
    "    analyzer = 'word',\n",
    "    ngram_range = (1, 3),\n",
    "#     max_df = 0.9,\n",
    "#     max_features = 150000,\n",
    ")\n",
    "\n",
    "char_vectorizer = TfidfVectorizer(\n",
    "    strip_accents = 'unicode',\n",
    "    analyzer = 'char',\n",
    "    ngram_range = (1, 3),\n",
    "#     max_df = 0.9,\n",
    "#     max_features = 150000,\n",
    ")\n",
    "\n",
    "# # tfidf = TfidfVectorizer()\n",
    "\n",
    "X_train1_wv = word_vectorizer.fit_transform(train_df.question_text.values.astype('U'))\n",
    "# X_validate1_wv = word_vectorizer.transform(X_validate.values.astype('U'))\n",
    "\n",
    "X_train1_cv = char_vectorizer.fit_transform(train_df.question_text.values.astype('U'))\n",
    "# X_validate1_cv = char_vectorizer.transform(X_validate.values.astype('U'))\n",
    "# # X_train = tfidf.fit(X_train)\n",
    "\n",
    "train = hstack((X_train1_wv, X_train1_cv)).tocsr()\n",
    "# X_validate1 = hstack((X_validate1_wv, X_validate1_cv)).tocsr()\n",
    "\n",
    "\n",
    "X_test1_wv = word_vectorizer.transform(test_df.question_text)\n",
    "X_test1_cv = char_vectorizer.transform(test_df.question_text)\n",
    "\n",
    "test_df_matrix = hstack((X_test1_wv, X_test1_cv)).tocsr()\n"
   ]
  },
  {
   "cell_type": "code",
   "execution_count": 5,
   "id": "5417d872",
   "metadata": {
    "execution": {
     "iopub.execute_input": "2022-12-08T06:19:25.241476Z",
     "iopub.status.busy": "2022-12-08T06:19:25.241065Z",
     "iopub.status.idle": "2022-12-08T06:19:25.246226Z",
     "shell.execute_reply": "2022-12-08T06:19:25.245041Z"
    },
    "papermill": {
     "duration": 0.015771,
     "end_time": "2022-12-08T06:19:25.248492",
     "exception": false,
     "start_time": "2022-12-08T06:19:25.232721",
     "status": "completed"
    },
    "tags": []
   },
   "outputs": [],
   "source": [
    "# tfidf = TfidfVectorizer(ngram_range=(1,3))\n",
    "# # Numericalize the train dataset\n",
    "# train = tfidf.fit_transform(train_df.question_text.values.astype('U'))\n",
    "\n",
    "# # for test_df\n",
    "# test_df_matrix = tfidf.transform(test_df.question_text.values.astype('U'))\n",
    "# # print(test_df_matrix.shape)\n",
    "# test_df_matrix"
   ]
  },
  {
   "cell_type": "code",
   "execution_count": 6,
   "id": "532984c9",
   "metadata": {
    "execution": {
     "iopub.execute_input": "2022-12-08T06:19:25.260513Z",
     "iopub.status.busy": "2022-12-08T06:19:25.259407Z",
     "iopub.status.idle": "2022-12-08T06:19:25.267561Z",
     "shell.execute_reply": "2022-12-08T06:19:25.266520Z"
    },
    "papermill": {
     "duration": 0.016678,
     "end_time": "2022-12-08T06:19:25.269994",
     "exception": false,
     "start_time": "2022-12-08T06:19:25.253316",
     "status": "completed"
    },
    "tags": []
   },
   "outputs": [
    {
     "data": {
      "text/plain": [
       "<1000000x8818837 sparse matrix of type '<class 'numpy.float64'>'\n",
       "\twith 170183662 stored elements in Compressed Sparse Row format>"
      ]
     },
     "execution_count": 6,
     "metadata": {},
     "output_type": "execute_result"
    }
   ],
   "source": [
    "train"
   ]
  },
  {
   "cell_type": "markdown",
   "id": "00e09a6c",
   "metadata": {
    "papermill": {
     "duration": 0.004121,
     "end_time": "2022-12-08T06:19:25.279119",
     "exception": false,
     "start_time": "2022-12-08T06:19:25.274998",
     "status": "completed"
    },
    "tags": []
   },
   "source": [
    "## Doing train test split of the train_df.csv"
   ]
  },
  {
   "cell_type": "code",
   "execution_count": 7,
   "id": "429d5967",
   "metadata": {
    "execution": {
     "iopub.execute_input": "2022-12-08T06:19:25.290295Z",
     "iopub.status.busy": "2022-12-08T06:19:25.289807Z",
     "iopub.status.idle": "2022-12-08T06:19:25.295433Z",
     "shell.execute_reply": "2022-12-08T06:19:25.294374Z"
    },
    "papermill": {
     "duration": 0.014349,
     "end_time": "2022-12-08T06:19:25.297984",
     "exception": false,
     "start_time": "2022-12-08T06:19:25.283635",
     "status": "completed"
    },
    "tags": []
   },
   "outputs": [],
   "source": [
    "\n",
    "# X_train, X_test, y_train, y_test = train_test_split(\n",
    "#     train, train_df.target.values, test_size=0.0005)\n",
    "\n",
    "# X_train.shape\n",
    "# train = X_train\n",
    "# test = X_test\n",
    "train=train\n",
    "y_train=train_df.target"
   ]
  },
  {
   "cell_type": "code",
   "execution_count": 8,
   "id": "b5e99391",
   "metadata": {
    "execution": {
     "iopub.execute_input": "2022-12-08T06:19:25.311454Z",
     "iopub.status.busy": "2022-12-08T06:19:25.310521Z",
     "iopub.status.idle": "2022-12-08T06:19:25.317924Z",
     "shell.execute_reply": "2022-12-08T06:19:25.316898Z"
    },
    "papermill": {
     "duration": 0.015835,
     "end_time": "2022-12-08T06:19:25.320253",
     "exception": false,
     "start_time": "2022-12-08T06:19:25.304418",
     "status": "completed"
    },
    "tags": []
   },
   "outputs": [
    {
     "data": {
      "text/plain": [
       "(1000000, 8818837)"
      ]
     },
     "execution_count": 8,
     "metadata": {},
     "output_type": "execute_result"
    }
   ],
   "source": [
    "train.shape"
   ]
  },
  {
   "cell_type": "code",
   "execution_count": 9,
   "id": "84a30695",
   "metadata": {
    "execution": {
     "iopub.execute_input": "2022-12-08T06:19:25.331952Z",
     "iopub.status.busy": "2022-12-08T06:19:25.331104Z",
     "iopub.status.idle": "2022-12-08T06:39:43.093751Z",
     "shell.execute_reply": "2022-12-08T06:39:43.091756Z"
    },
    "papermill": {
     "duration": 1217.771685,
     "end_time": "2022-12-08T06:39:43.096495",
     "exception": false,
     "start_time": "2022-12-08T06:19:25.324810",
     "status": "completed"
    },
    "tags": []
   },
   "outputs": [
    {
     "name": "stdout",
     "output_type": "stream",
     "text": [
      "train f1 score:  0.6911455488293088\n",
      "              precision    recall  f1-score   support\n",
      "\n",
      "           0       0.98      0.97      0.98    938130\n",
      "           1       0.64      0.75      0.69     61870\n",
      "\n",
      "    accuracy                           0.96   1000000\n",
      "   macro avg       0.81      0.86      0.83   1000000\n",
      "weighted avg       0.96      0.96      0.96   1000000\n",
      "\n"
     ]
    }
   ],
   "source": [
    "from sklearn.linear_model import LogisticRegression \n",
    "model = LogisticRegression(penalty='l2', max_iter=50000,solver='lbfgs',\n",
    "                           class_weight = {0: 0.23, 1: 0.77})\n",
    "model.fit(train,y_train)\n",
    "y_pred = model.predict(train)\n",
    "print(\"train f1 score: \",f1_score(y_train,y_pred))\n",
    "# print(\"test f1 score: \",f1_score(y_test,model.predict(test)))\n",
    "test_y_pred = model.predict(test_df_matrix)\n",
    "print(metrics.classification_report(y_train,y_pred) )"
   ]
  },
  {
   "cell_type": "code",
   "execution_count": 10,
   "id": "02833722",
   "metadata": {
    "execution": {
     "iopub.execute_input": "2022-12-08T06:39:43.107662Z",
     "iopub.status.busy": "2022-12-08T06:39:43.107221Z",
     "iopub.status.idle": "2022-12-08T06:39:45.179497Z",
     "shell.execute_reply": "2022-12-08T06:39:45.178009Z"
    },
    "papermill": {
     "duration": 2.080688,
     "end_time": "2022-12-08T06:39:45.181933",
     "exception": false,
     "start_time": "2022-12-08T06:39:43.101245",
     "status": "completed"
    },
    "tags": []
   },
   "outputs": [
    {
     "name": "stdout",
     "output_type": "stream",
     "text": [
      "              precision    recall  f1-score   support\n",
      "\n",
      "           0       0.98      0.97      0.98    938130\n",
      "           1       0.64      0.75      0.69     61870\n",
      "\n",
      "    accuracy                           0.96   1000000\n",
      "   macro avg       0.81      0.86      0.83   1000000\n",
      "weighted avg       0.96      0.96      0.96   1000000\n",
      "\n"
     ]
    }
   ],
   "source": [
    "print(metrics.classification_report(y_train,y_pred) )"
   ]
  },
  {
   "cell_type": "code",
   "execution_count": 11,
   "id": "a9973905",
   "metadata": {
    "execution": {
     "iopub.execute_input": "2022-12-08T06:39:45.193307Z",
     "iopub.status.busy": "2022-12-08T06:39:45.192937Z",
     "iopub.status.idle": "2022-12-08T06:39:45.619439Z",
     "shell.execute_reply": "2022-12-08T06:39:45.618037Z"
    },
    "papermill": {
     "duration": 0.435581,
     "end_time": "2022-12-08T06:39:45.622279",
     "exception": false,
     "start_time": "2022-12-08T06:39:45.186698",
     "status": "completed"
    },
    "tags": []
   },
   "outputs": [],
   "source": [
    "Test_DF_TARGET = pd.DataFrame(test_y_pred,columns=['target'])\n",
    "TEST_DF_QID = pd.DataFrame(test_df ,columns=['qid'])\n",
    "TEST_DF = pd.concat([TEST_DF_QID, Test_DF_TARGET], axis=1, join='inner')\n",
    "TEST_DF.to_csv(\"sample_submission_tfidf_max_df=0.9Novalidation.csv\",index=False)"
   ]
  }
 ],
 "metadata": {
  "kernelspec": {
   "display_name": "Python 3",
   "language": "python",
   "name": "python3"
  },
  "language_info": {
   "codemirror_mode": {
    "name": "ipython",
    "version": 3
   },
   "file_extension": ".py",
   "mimetype": "text/x-python",
   "name": "python",
   "nbconvert_exporter": "python",
   "pygments_lexer": "ipython3",
   "version": "3.7.12"
  },
  "papermill": {
   "default_parameters": {},
   "duration": 1617.497176,
   "end_time": "2022-12-08T06:39:48.250847",
   "environment_variables": {},
   "exception": null,
   "input_path": "__notebook__.ipynb",
   "output_path": "__notebook__.ipynb",
   "parameters": {},
   "start_time": "2022-12-08T06:12:50.753671",
   "version": "2.3.4"
  }
 },
 "nbformat": 4,
 "nbformat_minor": 5
}
