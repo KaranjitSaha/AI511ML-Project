{
 "cells": [
  {
   "cell_type": "markdown",
   "id": "586f574a",
   "metadata": {
    "papermill": {
     "duration": 0.009067,
     "end_time": "2022-12-15T05:15:52.147683",
     "exception": false,
     "start_time": "2022-12-15T05:15:52.138616",
     "status": "completed"
    },
    "tags": []
   },
   "source": [
    "## Reading Preprocessed data"
   ]
  },
  {
   "cell_type": "code",
   "execution_count": 1,
   "id": "afde8d6d",
   "metadata": {
    "execution": {
     "iopub.execute_input": "2022-12-15T05:15:52.162675Z",
     "iopub.status.busy": "2022-12-15T05:15:52.161594Z",
     "iopub.status.idle": "2022-12-15T05:15:53.574662Z",
     "shell.execute_reply": "2022-12-15T05:15:53.573356Z"
    },
    "papermill": {
     "duration": 1.423327,
     "end_time": "2022-12-15T05:15:53.577721",
     "exception": false,
     "start_time": "2022-12-15T05:15:52.154394",
     "status": "completed"
    },
    "tags": []
   },
   "outputs": [],
   "source": [
    "import numpy as np \n",
    "import pandas as pd\n",
    "from sklearn.model_selection import train_test_split\n",
    "from sklearn import metrics\n",
    "from sklearn.metrics import confusion_matrix,accuracy_score,roc_auc_score,roc_curve,auc,f1_score\n",
    "from sklearn.feature_extraction.text import TfidfVectorizer, CountVectorizer\n",
    "from sklearn.model_selection import GridSearchCV"
   ]
  },
  {
   "cell_type": "code",
   "execution_count": 2,
   "id": "c858d8e6",
   "metadata": {
    "execution": {
     "iopub.execute_input": "2022-12-15T05:15:53.590166Z",
     "iopub.status.busy": "2022-12-15T05:15:53.589773Z",
     "iopub.status.idle": "2022-12-15T05:15:58.799774Z",
     "shell.execute_reply": "2022-12-15T05:15:58.798415Z"
    },
    "papermill": {
     "duration": 5.219864,
     "end_time": "2022-12-15T05:15:58.803023",
     "exception": false,
     "start_time": "2022-12-15T05:15:53.583159",
     "status": "completed"
    },
    "tags": []
   },
   "outputs": [],
   "source": [
    "train_df = pd.read_csv(\"/kaggle/input/yahoo-troll-question-detection/train_df.csv\")\n",
    "test_df = pd.read_csv(\"/kaggle/input/yahoo-troll-question-detection/test_df.csv\")"
   ]
  },
  {
   "cell_type": "code",
   "execution_count": 3,
   "id": "c55169d2",
   "metadata": {
    "execution": {
     "iopub.execute_input": "2022-12-15T05:15:58.816593Z",
     "iopub.status.busy": "2022-12-15T05:15:58.815401Z",
     "iopub.status.idle": "2022-12-15T05:15:58.839350Z",
     "shell.execute_reply": "2022-12-15T05:15:58.838155Z"
    },
    "papermill": {
     "duration": 0.034052,
     "end_time": "2022-12-15T05:15:58.842693",
     "exception": false,
     "start_time": "2022-12-15T05:15:58.808641",
     "status": "completed"
    },
    "tags": []
   },
   "outputs": [
    {
     "data": {
      "text/html": [
       "<div>\n",
       "<style scoped>\n",
       "    .dataframe tbody tr th:only-of-type {\n",
       "        vertical-align: middle;\n",
       "    }\n",
       "\n",
       "    .dataframe tbody tr th {\n",
       "        vertical-align: top;\n",
       "    }\n",
       "\n",
       "    .dataframe thead th {\n",
       "        text-align: right;\n",
       "    }\n",
       "</style>\n",
       "<table border=\"1\" class=\"dataframe\">\n",
       "  <thead>\n",
       "    <tr style=\"text-align: right;\">\n",
       "      <th></th>\n",
       "      <th>qid</th>\n",
       "      <th>question_text</th>\n",
       "    </tr>\n",
       "  </thead>\n",
       "  <tbody>\n",
       "    <tr>\n",
       "      <th>0</th>\n",
       "      <td>a4f3da3a3df9dd881edd</td>\n",
       "      <td>My period is due on my wedding day. How can I ...</td>\n",
       "    </tr>\n",
       "    <tr>\n",
       "      <th>1</th>\n",
       "      <td>9914c62ed3f69684d549</td>\n",
       "      <td>How many numbers higher than a million can be ...</td>\n",
       "    </tr>\n",
       "    <tr>\n",
       "      <th>2</th>\n",
       "      <td>8138ae48649e37091a91</td>\n",
       "      <td>How come I feel nothing for my family, but sti...</td>\n",
       "    </tr>\n",
       "    <tr>\n",
       "      <th>3</th>\n",
       "      <td>981b4753d17ef14d09f7</td>\n",
       "      <td>In case of collapse of the Democratic party, w...</td>\n",
       "    </tr>\n",
       "    <tr>\n",
       "      <th>4</th>\n",
       "      <td>452e2c705276ba16b7b7</td>\n",
       "      <td>Who is Émile Naoumoff?</td>\n",
       "    </tr>\n",
       "    <tr>\n",
       "      <th>...</th>\n",
       "      <td>...</td>\n",
       "      <td>...</td>\n",
       "    </tr>\n",
       "    <tr>\n",
       "      <th>306117</th>\n",
       "      <td>a352dff4fcc2571815ce</td>\n",
       "      <td>Did anyone get an update on Maruti Suzuki All ...</td>\n",
       "    </tr>\n",
       "    <tr>\n",
       "      <th>306118</th>\n",
       "      <td>ad4a8498d97c536c67b9</td>\n",
       "      <td>What 5 people in history do you find the most ...</td>\n",
       "    </tr>\n",
       "    <tr>\n",
       "      <th>306119</th>\n",
       "      <td>19784a27b55d4b453fda</td>\n",
       "      <td>How can I remove the tan on my forehead?</td>\n",
       "    </tr>\n",
       "    <tr>\n",
       "      <th>306120</th>\n",
       "      <td>370191dba26465997879</td>\n",
       "      <td>If you are a well known hacker, will you be mo...</td>\n",
       "    </tr>\n",
       "    <tr>\n",
       "      <th>306121</th>\n",
       "      <td>8077b4a45cea867d4ff2</td>\n",
       "      <td>If your new enemies be bigger and more dangero...</td>\n",
       "    </tr>\n",
       "  </tbody>\n",
       "</table>\n",
       "<p>306122 rows × 2 columns</p>\n",
       "</div>"
      ],
      "text/plain": [
       "                         qid  \\\n",
       "0       a4f3da3a3df9dd881edd   \n",
       "1       9914c62ed3f69684d549   \n",
       "2       8138ae48649e37091a91   \n",
       "3       981b4753d17ef14d09f7   \n",
       "4       452e2c705276ba16b7b7   \n",
       "...                      ...   \n",
       "306117  a352dff4fcc2571815ce   \n",
       "306118  ad4a8498d97c536c67b9   \n",
       "306119  19784a27b55d4b453fda   \n",
       "306120  370191dba26465997879   \n",
       "306121  8077b4a45cea867d4ff2   \n",
       "\n",
       "                                            question_text  \n",
       "0       My period is due on my wedding day. How can I ...  \n",
       "1       How many numbers higher than a million can be ...  \n",
       "2       How come I feel nothing for my family, but sti...  \n",
       "3       In case of collapse of the Democratic party, w...  \n",
       "4                                  Who is Émile Naoumoff?  \n",
       "...                                                   ...  \n",
       "306117  Did anyone get an update on Maruti Suzuki All ...  \n",
       "306118  What 5 people in history do you find the most ...  \n",
       "306119           How can I remove the tan on my forehead?  \n",
       "306120  If you are a well known hacker, will you be mo...  \n",
       "306121  If your new enemies be bigger and more dangero...  \n",
       "\n",
       "[306122 rows x 2 columns]"
      ]
     },
     "execution_count": 3,
     "metadata": {},
     "output_type": "execute_result"
    }
   ],
   "source": [
    "test_df"
   ]
  },
  {
   "cell_type": "markdown",
   "id": "51083282",
   "metadata": {
    "papermill": {
     "duration": 0.005109,
     "end_time": "2022-12-15T05:15:58.853382",
     "exception": false,
     "start_time": "2022-12-15T05:15:58.848273",
     "status": "completed"
    },
    "tags": []
   },
   "source": [
    "## Vectorization of the dataset"
   ]
  },
  {
   "cell_type": "code",
   "execution_count": 4,
   "id": "db21ddb8",
   "metadata": {
    "execution": {
     "iopub.execute_input": "2022-12-15T05:15:58.866188Z",
     "iopub.status.busy": "2022-12-15T05:15:58.865032Z",
     "iopub.status.idle": "2022-12-15T05:21:21.827846Z",
     "shell.execute_reply": "2022-12-15T05:21:21.826471Z"
    },
    "papermill": {
     "duration": 322.973399,
     "end_time": "2022-12-15T05:21:21.831951",
     "exception": false,
     "start_time": "2022-12-15T05:15:58.858552",
     "status": "completed"
    },
    "tags": []
   },
   "outputs": [],
   "source": [
    "from sklearn.feature_extraction.text import TfidfVectorizer\n",
    "from scipy.sparse import hstack\n",
    "\n",
    "# # from sklearn.feature_extraction.text import TfidfVectorizer\n",
    "\n",
    "# # We can change the number of words counted together and see results on accuracy\n",
    "# CountVectorizer(analyzer='word', ngram_range=(1, 3))\n",
    "\n",
    "word_vectorizer = TfidfVectorizer(\n",
    "    strip_accents = 'unicode',\n",
    "    analyzer = 'word',\n",
    "    ngram_range = (1, 3),\n",
    "    max_df = 0.5,\n",
    "    max_features = 150000,\n",
    ")\n",
    "\n",
    "char_vectorizer = TfidfVectorizer(\n",
    "    strip_accents = 'unicode',\n",
    "    analyzer = 'char',\n",
    "    ngram_range = (1, 3),\n",
    "    max_df = 0.5,\n",
    "    max_features = 150000,\n",
    ")\n",
    "\n",
    "# # tfidf = TfidfVectorizer()\n",
    "\n",
    "X_train1_wv = word_vectorizer.fit_transform(train_df.question_text.values.astype('U'))\n",
    "# X_validate1_wv = word_vectorizer.transform(X_validate.values.astype('U'))\n",
    "\n",
    "X_train1_cv = char_vectorizer.fit_transform(train_df.question_text.values.astype('U'))\n",
    "# X_validate1_cv = char_vectorizer.transform(X_validate.values.astype('U'))\n",
    "# # X_train = tfidf.fit(X_train)\n",
    "\n",
    "train = hstack((X_train1_wv, X_train1_cv)).tocsr()\n",
    "# X_validate1 = hstack((X_validate1_wv, X_validate1_cv)).tocsr()\n",
    "\n",
    "\n",
    "X_test1_wv = word_vectorizer.transform(test_df.question_text)\n",
    "X_test1_cv = char_vectorizer.transform(test_df.question_text)\n",
    "\n",
    "test_df_matrix = hstack((X_test1_wv, X_test1_cv)).tocsr()\n"
   ]
  },
  {
   "cell_type": "code",
   "execution_count": 5,
   "id": "3b764037",
   "metadata": {
    "execution": {
     "iopub.execute_input": "2022-12-15T05:21:21.845977Z",
     "iopub.status.busy": "2022-12-15T05:21:21.845179Z",
     "iopub.status.idle": "2022-12-15T05:21:21.850164Z",
     "shell.execute_reply": "2022-12-15T05:21:21.849140Z"
    },
    "papermill": {
     "duration": 0.014724,
     "end_time": "2022-12-15T05:21:21.853023",
     "exception": false,
     "start_time": "2022-12-15T05:21:21.838299",
     "status": "completed"
    },
    "tags": []
   },
   "outputs": [],
   "source": [
    "# tfidf = TfidfVectorizer(ngram_range=(1,3))\n",
    "# # Numericalize the train dataset\n",
    "# train = tfidf.fit_transform(train_df.question_text.values.astype('U'))\n",
    "\n",
    "# # for test_df\n",
    "# test_df_matrix = tfidf.transform(test_df.question_text.values.astype('U'))\n",
    "# # print(test_df_matrix.shape)\n",
    "# test_df_matrix"
   ]
  },
  {
   "cell_type": "code",
   "execution_count": 6,
   "id": "fb7de425",
   "metadata": {
    "execution": {
     "iopub.execute_input": "2022-12-15T05:21:21.866091Z",
     "iopub.status.busy": "2022-12-15T05:21:21.865255Z",
     "iopub.status.idle": "2022-12-15T05:21:21.873059Z",
     "shell.execute_reply": "2022-12-15T05:21:21.871810Z"
    },
    "papermill": {
     "duration": 0.01731,
     "end_time": "2022-12-15T05:21:21.875831",
     "exception": false,
     "start_time": "2022-12-15T05:21:21.858521",
     "status": "completed"
    },
    "tags": []
   },
   "outputs": [
    {
     "data": {
      "text/plain": [
       "<1000000x232101 sparse matrix of type '<class 'numpy.float64'>'\n",
       "\twith 127658239 stored elements in Compressed Sparse Row format>"
      ]
     },
     "execution_count": 6,
     "metadata": {},
     "output_type": "execute_result"
    }
   ],
   "source": [
    "train"
   ]
  },
  {
   "cell_type": "markdown",
   "id": "c4cf391f",
   "metadata": {
    "papermill": {
     "duration": 0.005247,
     "end_time": "2022-12-15T05:21:21.887201",
     "exception": false,
     "start_time": "2022-12-15T05:21:21.881954",
     "status": "completed"
    },
    "tags": []
   },
   "source": [
    "## Doing train test split of the train_df.csv"
   ]
  },
  {
   "cell_type": "code",
   "execution_count": 7,
   "id": "6c8a8cd1",
   "metadata": {
    "execution": {
     "iopub.execute_input": "2022-12-15T05:21:21.902081Z",
     "iopub.status.busy": "2022-12-15T05:21:21.901225Z",
     "iopub.status.idle": "2022-12-15T05:21:21.906890Z",
     "shell.execute_reply": "2022-12-15T05:21:21.906055Z"
    },
    "papermill": {
     "duration": 0.016555,
     "end_time": "2022-12-15T05:21:21.909298",
     "exception": false,
     "start_time": "2022-12-15T05:21:21.892743",
     "status": "completed"
    },
    "tags": []
   },
   "outputs": [],
   "source": [
    "\n",
    "# X_train, X_test, y_train, y_test = train_test_split(\n",
    "#     train, train_df.target.values, test_size=0.80)\n",
    "\n",
    "# X_train.shape\n",
    "# train = X_train\n",
    "# test = X_test\n",
    "# y_test\n",
    "train=train\n",
    "y_train=train_df.target"
   ]
  },
  {
   "cell_type": "code",
   "execution_count": 8,
   "id": "5fe6f6ae",
   "metadata": {
    "execution": {
     "iopub.execute_input": "2022-12-15T05:21:21.922358Z",
     "iopub.status.busy": "2022-12-15T05:21:21.921920Z",
     "iopub.status.idle": "2022-12-15T05:21:21.928927Z",
     "shell.execute_reply": "2022-12-15T05:21:21.927728Z"
    },
    "papermill": {
     "duration": 0.016385,
     "end_time": "2022-12-15T05:21:21.931265",
     "exception": false,
     "start_time": "2022-12-15T05:21:21.914880",
     "status": "completed"
    },
    "tags": []
   },
   "outputs": [
    {
     "data": {
      "text/plain": [
       "(1000000, 232101)"
      ]
     },
     "execution_count": 8,
     "metadata": {},
     "output_type": "execute_result"
    }
   ],
   "source": [
    "train.shape"
   ]
  },
  {
   "cell_type": "code",
   "execution_count": 9,
   "id": "3fecd634",
   "metadata": {
    "execution": {
     "iopub.execute_input": "2022-12-15T05:21:21.945074Z",
     "iopub.status.busy": "2022-12-15T05:21:21.944172Z",
     "iopub.status.idle": "2022-12-15T05:23:19.196655Z",
     "shell.execute_reply": "2022-12-15T05:23:19.195204Z"
    },
    "papermill": {
     "duration": 117.262555,
     "end_time": "2022-12-15T05:23:19.199482",
     "exception": false,
     "start_time": "2022-12-15T05:21:21.936927",
     "status": "completed"
    },
    "tags": []
   },
   "outputs": [
    {
     "name": "stderr",
     "output_type": "stream",
     "text": [
      "/opt/conda/lib/python3.7/site-packages/sklearn/linear_model/_logistic.py:818: ConvergenceWarning: lbfgs failed to converge (status=1):\n",
      "STOP: TOTAL NO. of ITERATIONS REACHED LIMIT.\n",
      "\n",
      "Increase the number of iterations (max_iter) or scale the data as shown in:\n",
      "    https://scikit-learn.org/stable/modules/preprocessing.html\n",
      "Please also refer to the documentation for alternative solver options:\n",
      "    https://scikit-learn.org/stable/modules/linear_model.html#logistic-regression\n",
      "  extra_warning_msg=_LOGISTIC_SOLVER_CONVERGENCE_MSG,\n"
     ]
    },
    {
     "name": "stdout",
     "output_type": "stream",
     "text": [
      "train f1 score:  0.7207046777117053\n"
     ]
    }
   ],
   "source": [
    "from sklearn.linear_model import LogisticRegression \n",
    "model = LogisticRegression(dual = False,\n",
    "    class_weight = {0: 0.9, 1: 2})\n",
    "# parameters = {'class_weight':[{0:0.2, 1:0.8},{0:0.25,1:0.75},{0:0.3, 1:0.7}]}\n",
    "# model=GridSearchCV(model1,parameters,verbose=4,cv=2,scoring='f1')\n",
    "model.fit(train,y_train)\n",
    "y_pred = model.predict(train)\n",
    "print(\"train f1 score: \",f1_score(y_train,y_pred))\n",
    "# print(\"test f1 score: \",f1_score(y_test,model.predict(test)))\n",
    "# test_y_pred = model.predict(test_df_matrix)\n",
    "# print(metrics.classification_report(y_train,y_pred) )\n",
    "# print(model.predict_proba(train))"
   ]
  },
  {
   "cell_type": "code",
   "execution_count": 10,
   "id": "d35e8605",
   "metadata": {
    "execution": {
     "iopub.execute_input": "2022-12-15T05:23:19.212292Z",
     "iopub.status.busy": "2022-12-15T05:23:19.211898Z",
     "iopub.status.idle": "2022-12-15T05:23:20.065438Z",
     "shell.execute_reply": "2022-12-15T05:23:20.063917Z"
    },
    "papermill": {
     "duration": 0.863059,
     "end_time": "2022-12-15T05:23:20.068192",
     "exception": false,
     "start_time": "2022-12-15T05:23:19.205133",
     "status": "completed"
    },
    "tags": []
   },
   "outputs": [
    {
     "name": "stdout",
     "output_type": "stream",
     "text": [
      "train f1 score:  0.7256295782584197\n"
     ]
    }
   ],
   "source": [
    "def custom_predict(X, threshold):\n",
    "    probs = model.predict_proba(X) \n",
    "    return (probs[:, 1] > threshold).astype(int)\n",
    "    \n",
    "Y_pred = custom_predict(train,0.4)\n",
    "print(\"train f1 score: \",f1_score(y_train,Y_pred))"
   ]
  },
  {
   "cell_type": "code",
   "execution_count": 11,
   "id": "f8584b0b",
   "metadata": {
    "execution": {
     "iopub.execute_input": "2022-12-15T05:23:20.081892Z",
     "iopub.status.busy": "2022-12-15T05:23:20.081499Z",
     "iopub.status.idle": "2022-12-15T05:23:20.215435Z",
     "shell.execute_reply": "2022-12-15T05:23:20.213873Z"
    },
    "papermill": {
     "duration": 0.144071,
     "end_time": "2022-12-15T05:23:20.218213",
     "exception": false,
     "start_time": "2022-12-15T05:23:20.074142",
     "status": "completed"
    },
    "tags": []
   },
   "outputs": [],
   "source": [
    "test_y_pred = custom_predict(X=test_df_matrix,threshold=0.4)"
   ]
  },
  {
   "cell_type": "code",
   "execution_count": 12,
   "id": "c5a859c4",
   "metadata": {
    "execution": {
     "iopub.execute_input": "2022-12-15T05:23:20.231803Z",
     "iopub.status.busy": "2022-12-15T05:23:20.231289Z",
     "iopub.status.idle": "2022-12-15T05:23:20.237489Z",
     "shell.execute_reply": "2022-12-15T05:23:20.236238Z"
    },
    "papermill": {
     "duration": 0.015823,
     "end_time": "2022-12-15T05:23:20.239893",
     "exception": false,
     "start_time": "2022-12-15T05:23:20.224070",
     "status": "completed"
    },
    "tags": []
   },
   "outputs": [],
   "source": [
    "# pred_proba_df = pd.DataFrame(model.predict_proba(train))\n",
    "# threshold_list = [0.05,0.1,0.15,0.2,0.25,0.3,0.35,0.4,0.45,0.5,0.55,0.6,0.65,.7,.75,.8,.85,.9,.95,.99]\n",
    "# for i in threshold_list:\n",
    "#     print ('\\n******** For i = {} **q****'.format(i))\n",
    "#     Y_test_pred = [1 if j > i else 0 for j in pred_proba_df[1]]\n",
    "# #     print((Y_test_pred))\n",
    "# #     print(pred_proba_df[1])\n",
    "# #     print((Y_test_pred))\n",
    "# #     print(y_test.shape)\n",
    "# #     print(np.array(Y_test_pred).shape)\n",
    "    \n",
    "#     test_accuracy = metrics.f1_score(y_train,Y_test_pred)\n",
    "#     print(test_accuracy)\n",
    "# #                                          y_train_pred.iloc[:,1].as_matrix().reshape(y_train_pred.iloc[:,1].size,1))\n",
    "# #     print('Our testing accuracy is {}'.format(test_accuracy))\n",
    "\n",
    "# #     print(confusion_matrix(y_train.reshape(y_train.as_matrix().size,1),\n",
    "# #                            y_test_pred.iloc[:,1].as_matrix().reshape(y_test_pred.iloc[:,1].as_matrix().size,1)))"
   ]
  },
  {
   "cell_type": "code",
   "execution_count": 13,
   "id": "6dc0991e",
   "metadata": {
    "execution": {
     "iopub.execute_input": "2022-12-15T05:23:20.253271Z",
     "iopub.status.busy": "2022-12-15T05:23:20.252861Z",
     "iopub.status.idle": "2022-12-15T05:23:20.258805Z",
     "shell.execute_reply": "2022-12-15T05:23:20.257609Z"
    },
    "papermill": {
     "duration": 0.015699,
     "end_time": "2022-12-15T05:23:20.261413",
     "exception": false,
     "start_time": "2022-12-15T05:23:20.245714",
     "status": "completed"
    },
    "tags": []
   },
   "outputs": [],
   "source": [
    "# # y_test_pred = [1 if j > 0.05 else 0 for j in pred_proba_df[1]]\n",
    "# y_test_pred=[]\n",
    "# pred_proba_df = pd.DataFrame(model.predict_proba(test))\n",
    "# # for i in range(len(pred_proba_df)):\n",
    "# #     if(pred_proba_df[1][i] > 0.45):\n",
    "# #         y_test_pred.append(1)\n",
    "# #     else:\n",
    "# #         y_test_pred.append(0)\n",
    "\n",
    "# # test_accuracy = metrics.f1_score(y_test,y_test_pred)\n",
    "# # print(test_accuracy)\n",
    "# threshold_list = [0.05,0.1,0.15,0.2,0.25,0.3,0.35,0.4,0.45,0.5,0.55,0.6,0.65,.7,.75,.8,.85,.9,.95,.99]\n",
    "# for i in threshold_list:\n",
    "#     print ('\\n******** For i = {} ******'.format(i))\n",
    "#     Y_test_pred = [1 if j > i else 0 for j in pred_proba_df[1]]\n",
    "# #     print((Y_test_pred))\n",
    "# #     print(pred_proba_df[1])\n",
    "# #     print((Y_test_pred))\n",
    "# #     print(y_test.shape)\n",
    "# #     print(np.array(Y_test_pred).shape)\n",
    "    \n",
    "#     test_accuracy = metrics.f1_score(y_test,Y_test_pred)\n",
    "#     print(test_accuracy)\n",
    "# #                                  \n",
    "\n",
    "\n",
    "\n",
    "# # print(y_test_pred)"
   ]
  },
  {
   "cell_type": "code",
   "execution_count": 14,
   "id": "ef6056a4",
   "metadata": {
    "execution": {
     "iopub.execute_input": "2022-12-15T05:23:20.274808Z",
     "iopub.status.busy": "2022-12-15T05:23:20.274416Z",
     "iopub.status.idle": "2022-12-15T05:23:20.279897Z",
     "shell.execute_reply": "2022-12-15T05:23:20.278586Z"
    },
    "papermill": {
     "duration": 0.014744,
     "end_time": "2022-12-15T05:23:20.282021",
     "exception": false,
     "start_time": "2022-12-15T05:23:20.267277",
     "status": "completed"
    },
    "tags": []
   },
   "outputs": [],
   "source": [
    "# # y_test_pred = [1 if j > 0.05 else 0 for j in pred_proba_df[1]]\n",
    "# y_test_pred=[]\n",
    "# pred_proba_df = pd.DataFrame(model.predict_proba(test_df_matrix))\n",
    "# # lund = pred_proba_df.to_numpy().reshape(2,500000)\n",
    "# # print(lund.shape)\n",
    "# # print(pred_proba_df)\n",
    "# # print(pred_proba_df[0][3])\n",
    "# for i in range(len(pred_proba_df)):\n",
    "#     if(pred_proba_df[1][i] > 0.45):\n",
    "#         y_test_pred.append(1)\n",
    "#     else:\n",
    "#         y_test_pred.append(0)\n",
    "\n",
    "# # test_accuracy = metrics.f1_score(y_test,y_test_pred)\n",
    "# # print(test_accuracy)\n",
    "# # print(y_test_pred)\n",
    "# # y_test_pred"
   ]
  },
  {
   "cell_type": "code",
   "execution_count": 15,
   "id": "c079dfbb",
   "metadata": {
    "execution": {
     "iopub.execute_input": "2022-12-15T05:23:20.295113Z",
     "iopub.status.busy": "2022-12-15T05:23:20.294680Z",
     "iopub.status.idle": "2022-12-15T05:23:20.300256Z",
     "shell.execute_reply": "2022-12-15T05:23:20.298983Z"
    },
    "papermill": {
     "duration": 0.014871,
     "end_time": "2022-12-15T05:23:20.302596",
     "exception": false,
     "start_time": "2022-12-15T05:23:20.287725",
     "status": "completed"
    },
    "tags": []
   },
   "outputs": [],
   "source": [
    "# print(metrics.classification_report(y_train,y_pred) )"
   ]
  },
  {
   "cell_type": "code",
   "execution_count": 16,
   "id": "c96ded1a",
   "metadata": {
    "execution": {
     "iopub.execute_input": "2022-12-15T05:23:20.315878Z",
     "iopub.status.busy": "2022-12-15T05:23:20.315467Z",
     "iopub.status.idle": "2022-12-15T05:23:20.728894Z",
     "shell.execute_reply": "2022-12-15T05:23:20.727838Z"
    },
    "papermill": {
     "duration": 0.422993,
     "end_time": "2022-12-15T05:23:20.731573",
     "exception": false,
     "start_time": "2022-12-15T05:23:20.308580",
     "status": "completed"
    },
    "tags": []
   },
   "outputs": [],
   "source": [
    "Test_DF_TARGET = pd.DataFrame(test_y_pred,columns=['target'])\n",
    "TEST_DF_QID = pd.DataFrame(test_df ,columns=['qid'])\n",
    "TEST_DF = pd.concat([TEST_DF_QID, Test_DF_TARGET], axis=1, join='inner')\n",
    "TEST_DF.to_csv(\"sample_submission69.csv\",index=False)"
   ]
  }
 ],
 "metadata": {
  "kernelspec": {
   "display_name": "Python 3",
   "language": "python",
   "name": "python3"
  },
  "language_info": {
   "codemirror_mode": {
    "name": "ipython",
    "version": 3
   },
   "file_extension": ".py",
   "mimetype": "text/x-python",
   "name": "python",
   "nbconvert_exporter": "python",
   "pygments_lexer": "ipython3",
   "version": "3.7.12"
  },
  "papermill": {
   "default_parameters": {},
   "duration": 460.713239,
   "end_time": "2022-12-15T05:23:23.359124",
   "environment_variables": {},
   "exception": null,
   "input_path": "__notebook__.ipynb",
   "output_path": "__notebook__.ipynb",
   "parameters": {},
   "start_time": "2022-12-15T05:15:42.645885",
   "version": "2.3.4"
  }
 },
 "nbformat": 4,
 "nbformat_minor": 5
}
