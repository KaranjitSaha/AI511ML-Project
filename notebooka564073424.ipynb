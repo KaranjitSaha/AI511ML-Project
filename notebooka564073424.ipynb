{
 "cells": [
  {
   "cell_type": "code",
   "execution_count": 1,
   "id": "766b1550",
   "metadata": {
    "execution": {
     "iopub.execute_input": "2022-10-02T18:55:59.081377Z",
     "iopub.status.busy": "2022-10-02T18:55:59.080727Z",
     "iopub.status.idle": "2022-10-02T18:56:02.244693Z",
     "shell.execute_reply": "2022-10-02T18:56:02.243381Z"
    },
    "papermill": {
     "duration": 3.181556,
     "end_time": "2022-10-02T18:56:02.248057",
     "exception": false,
     "start_time": "2022-10-02T18:55:59.066501",
     "status": "completed"
    },
    "tags": []
   },
   "outputs": [],
   "source": [
    "import numpy as np \n",
    "import pandas as pd\n",
    "from sklearn.preprocessing import LabelEncoder\n",
    "import matplotlib.pyplot as plt \n",
    "train_df = pd.read_csv(\"../input/datafiles/test_df.csv\")\n",
    "test_df = pd.read_csv(\"../input/datafiles/test_df.csv\")"
   ]
  },
  {
   "cell_type": "markdown",
   "id": "6f9d80e8",
   "metadata": {
    "papermill": {
     "duration": 0.005767,
     "end_time": "2022-10-02T18:56:02.260464",
     "exception": false,
     "start_time": "2022-10-02T18:56:02.254697",
     "status": "completed"
    },
    "tags": []
   },
   "source": [
    "## Preprocessing training data"
   ]
  },
  {
   "cell_type": "code",
   "execution_count": 2,
   "id": "3d243801",
   "metadata": {
    "execution": {
     "iopub.execute_input": "2022-10-02T18:56:02.273579Z",
     "iopub.status.busy": "2022-10-02T18:56:02.273156Z",
     "iopub.status.idle": "2022-10-02T18:56:02.278520Z",
     "shell.execute_reply": "2022-10-02T18:56:02.277167Z"
    },
    "papermill": {
     "duration": 0.014904,
     "end_time": "2022-10-02T18:56:02.281052",
     "exception": false,
     "start_time": "2022-10-02T18:56:02.266148",
     "status": "completed"
    },
    "tags": []
   },
   "outputs": [],
   "source": [
    "train_df = train_df\n",
    "# print(train_df)"
   ]
  },
  {
   "cell_type": "code",
   "execution_count": 3,
   "id": "c2aae56c",
   "metadata": {
    "execution": {
     "iopub.execute_input": "2022-10-02T18:56:02.294105Z",
     "iopub.status.busy": "2022-10-02T18:56:02.293744Z",
     "iopub.status.idle": "2022-10-02T18:56:02.812752Z",
     "shell.execute_reply": "2022-10-02T18:56:02.811380Z"
    },
    "papermill": {
     "duration": 0.528686,
     "end_time": "2022-10-02T18:56:02.815536",
     "exception": false,
     "start_time": "2022-10-02T18:56:02.286850",
     "status": "completed"
    },
    "tags": []
   },
   "outputs": [
    {
     "data": {
      "text/html": [
       "<div>\n",
       "<style scoped>\n",
       "    .dataframe tbody tr th:only-of-type {\n",
       "        vertical-align: middle;\n",
       "    }\n",
       "\n",
       "    .dataframe tbody tr th {\n",
       "        vertical-align: top;\n",
       "    }\n",
       "\n",
       "    .dataframe thead th {\n",
       "        text-align: right;\n",
       "    }\n",
       "</style>\n",
       "<table border=\"1\" class=\"dataframe\">\n",
       "  <thead>\n",
       "    <tr style=\"text-align: right;\">\n",
       "      <th></th>\n",
       "      <th>qid</th>\n",
       "      <th>question_text</th>\n",
       "    </tr>\n",
       "  </thead>\n",
       "  <tbody>\n",
       "    <tr>\n",
       "      <th>count</th>\n",
       "      <td>306122</td>\n",
       "      <td>306122</td>\n",
       "    </tr>\n",
       "    <tr>\n",
       "      <th>unique</th>\n",
       "      <td>306122</td>\n",
       "      <td>306122</td>\n",
       "    </tr>\n",
       "    <tr>\n",
       "      <th>top</th>\n",
       "      <td>a4f3da3a3df9dd881edd</td>\n",
       "      <td>My period is due on my wedding day. How can I ...</td>\n",
       "    </tr>\n",
       "    <tr>\n",
       "      <th>freq</th>\n",
       "      <td>1</td>\n",
       "      <td>1</td>\n",
       "    </tr>\n",
       "  </tbody>\n",
       "</table>\n",
       "</div>"
      ],
      "text/plain": [
       "                         qid  \\\n",
       "count                 306122   \n",
       "unique                306122   \n",
       "top     a4f3da3a3df9dd881edd   \n",
       "freq                       1   \n",
       "\n",
       "                                            question_text  \n",
       "count                                              306122  \n",
       "unique                                             306122  \n",
       "top     My period is due on my wedding day. How can I ...  \n",
       "freq                                                    1  "
      ]
     },
     "execution_count": 3,
     "metadata": {},
     "output_type": "execute_result"
    }
   ],
   "source": [
    "train_df.describe()"
   ]
  },
  {
   "cell_type": "code",
   "execution_count": 4,
   "id": "108b3377",
   "metadata": {
    "execution": {
     "iopub.execute_input": "2022-10-02T18:56:02.829739Z",
     "iopub.status.busy": "2022-10-02T18:56:02.829385Z",
     "iopub.status.idle": "2022-10-02T18:56:02.870678Z",
     "shell.execute_reply": "2022-10-02T18:56:02.869434Z"
    },
    "papermill": {
     "duration": 0.05146,
     "end_time": "2022-10-02T18:56:02.873428",
     "exception": false,
     "start_time": "2022-10-02T18:56:02.821968",
     "status": "completed"
    },
    "tags": []
   },
   "outputs": [
    {
     "data": {
      "text/plain": [
       "qid              0\n",
       "question_text    0\n",
       "dtype: int64"
      ]
     },
     "execution_count": 4,
     "metadata": {},
     "output_type": "execute_result"
    }
   ],
   "source": [
    "train_df.isna().sum()"
   ]
  },
  {
   "cell_type": "code",
   "execution_count": 5,
   "id": "3112337d",
   "metadata": {
    "execution": {
     "iopub.execute_input": "2022-10-02T18:56:02.887599Z",
     "iopub.status.busy": "2022-10-02T18:56:02.887198Z",
     "iopub.status.idle": "2022-10-02T18:56:02.892899Z",
     "shell.execute_reply": "2022-10-02T18:56:02.891382Z"
    },
    "papermill": {
     "duration": 0.016088,
     "end_time": "2022-10-02T18:56:02.896001",
     "exception": false,
     "start_time": "2022-10-02T18:56:02.879913",
     "status": "completed"
    },
    "tags": []
   },
   "outputs": [],
   "source": [
    "# train_df[\"target\"].unique()"
   ]
  },
  {
   "cell_type": "code",
   "execution_count": 6,
   "id": "d06b0396",
   "metadata": {
    "execution": {
     "iopub.execute_input": "2022-10-02T18:56:02.909581Z",
     "iopub.status.busy": "2022-10-02T18:56:02.909203Z",
     "iopub.status.idle": "2022-10-02T18:56:03.139648Z",
     "shell.execute_reply": "2022-10-02T18:56:03.138071Z"
    },
    "papermill": {
     "duration": 0.240777,
     "end_time": "2022-10-02T18:56:03.142910",
     "exception": false,
     "start_time": "2022-10-02T18:56:02.902133",
     "status": "completed"
    },
    "tags": []
   },
   "outputs": [
    {
     "data": {
      "text/plain": [
       "Int64Index([], dtype='int64')"
      ]
     },
     "execution_count": 6,
     "metadata": {},
     "output_type": "execute_result"
    }
   ],
   "source": [
    "train_df.index[train_df.duplicated()]"
   ]
  },
  {
   "cell_type": "markdown",
   "id": "7d2daeed",
   "metadata": {
    "papermill": {
     "duration": 0.00594,
     "end_time": "2022-10-02T18:56:03.155207",
     "exception": false,
     "start_time": "2022-10-02T18:56:03.149267",
     "status": "completed"
    },
    "tags": []
   },
   "source": [
    "## Preprocessing testing data"
   ]
  },
  {
   "cell_type": "code",
   "execution_count": 7,
   "id": "e730516b",
   "metadata": {
    "execution": {
     "iopub.execute_input": "2022-10-02T18:56:03.169294Z",
     "iopub.status.busy": "2022-10-02T18:56:03.168887Z",
     "iopub.status.idle": "2022-10-02T18:56:03.186407Z",
     "shell.execute_reply": "2022-10-02T18:56:03.185179Z"
    },
    "papermill": {
     "duration": 0.027705,
     "end_time": "2022-10-02T18:56:03.189091",
     "exception": false,
     "start_time": "2022-10-02T18:56:03.161386",
     "status": "completed"
    },
    "tags": []
   },
   "outputs": [
    {
     "data": {
      "text/html": [
       "<div>\n",
       "<style scoped>\n",
       "    .dataframe tbody tr th:only-of-type {\n",
       "        vertical-align: middle;\n",
       "    }\n",
       "\n",
       "    .dataframe tbody tr th {\n",
       "        vertical-align: top;\n",
       "    }\n",
       "\n",
       "    .dataframe thead th {\n",
       "        text-align: right;\n",
       "    }\n",
       "</style>\n",
       "<table border=\"1\" class=\"dataframe\">\n",
       "  <thead>\n",
       "    <tr style=\"text-align: right;\">\n",
       "      <th></th>\n",
       "      <th>qid</th>\n",
       "      <th>question_text</th>\n",
       "    </tr>\n",
       "  </thead>\n",
       "  <tbody>\n",
       "    <tr>\n",
       "      <th>0</th>\n",
       "      <td>a4f3da3a3df9dd881edd</td>\n",
       "      <td>My period is due on my wedding day. How can I ...</td>\n",
       "    </tr>\n",
       "    <tr>\n",
       "      <th>1</th>\n",
       "      <td>9914c62ed3f69684d549</td>\n",
       "      <td>How many numbers higher than a million can be ...</td>\n",
       "    </tr>\n",
       "    <tr>\n",
       "      <th>2</th>\n",
       "      <td>8138ae48649e37091a91</td>\n",
       "      <td>How come I feel nothing for my family, but sti...</td>\n",
       "    </tr>\n",
       "    <tr>\n",
       "      <th>3</th>\n",
       "      <td>981b4753d17ef14d09f7</td>\n",
       "      <td>In case of collapse of the Democratic party, w...</td>\n",
       "    </tr>\n",
       "    <tr>\n",
       "      <th>4</th>\n",
       "      <td>452e2c705276ba16b7b7</td>\n",
       "      <td>Who is Émile Naoumoff?</td>\n",
       "    </tr>\n",
       "    <tr>\n",
       "      <th>...</th>\n",
       "      <td>...</td>\n",
       "      <td>...</td>\n",
       "    </tr>\n",
       "    <tr>\n",
       "      <th>306117</th>\n",
       "      <td>a352dff4fcc2571815ce</td>\n",
       "      <td>Did anyone get an update on Maruti Suzuki All ...</td>\n",
       "    </tr>\n",
       "    <tr>\n",
       "      <th>306118</th>\n",
       "      <td>ad4a8498d97c536c67b9</td>\n",
       "      <td>What 5 people in history do you find the most ...</td>\n",
       "    </tr>\n",
       "    <tr>\n",
       "      <th>306119</th>\n",
       "      <td>19784a27b55d4b453fda</td>\n",
       "      <td>How can I remove the tan on my forehead?</td>\n",
       "    </tr>\n",
       "    <tr>\n",
       "      <th>306120</th>\n",
       "      <td>370191dba26465997879</td>\n",
       "      <td>If you are a well known hacker, will you be mo...</td>\n",
       "    </tr>\n",
       "    <tr>\n",
       "      <th>306121</th>\n",
       "      <td>8077b4a45cea867d4ff2</td>\n",
       "      <td>If your new enemies be bigger and more dangero...</td>\n",
       "    </tr>\n",
       "  </tbody>\n",
       "</table>\n",
       "<p>306122 rows × 2 columns</p>\n",
       "</div>"
      ],
      "text/plain": [
       "                         qid  \\\n",
       "0       a4f3da3a3df9dd881edd   \n",
       "1       9914c62ed3f69684d549   \n",
       "2       8138ae48649e37091a91   \n",
       "3       981b4753d17ef14d09f7   \n",
       "4       452e2c705276ba16b7b7   \n",
       "...                      ...   \n",
       "306117  a352dff4fcc2571815ce   \n",
       "306118  ad4a8498d97c536c67b9   \n",
       "306119  19784a27b55d4b453fda   \n",
       "306120  370191dba26465997879   \n",
       "306121  8077b4a45cea867d4ff2   \n",
       "\n",
       "                                            question_text  \n",
       "0       My period is due on my wedding day. How can I ...  \n",
       "1       How many numbers higher than a million can be ...  \n",
       "2       How come I feel nothing for my family, but sti...  \n",
       "3       In case of collapse of the Democratic party, w...  \n",
       "4                                  Who is Émile Naoumoff?  \n",
       "...                                                   ...  \n",
       "306117  Did anyone get an update on Maruti Suzuki All ...  \n",
       "306118  What 5 people in history do you find the most ...  \n",
       "306119           How can I remove the tan on my forehead?  \n",
       "306120  If you are a well known hacker, will you be mo...  \n",
       "306121  If your new enemies be bigger and more dangero...  \n",
       "\n",
       "[306122 rows x 2 columns]"
      ]
     },
     "execution_count": 7,
     "metadata": {},
     "output_type": "execute_result"
    }
   ],
   "source": [
    "test_df"
   ]
  },
  {
   "cell_type": "code",
   "execution_count": 8,
   "id": "d597258d",
   "metadata": {
    "execution": {
     "iopub.execute_input": "2022-10-02T18:56:03.204992Z",
     "iopub.status.busy": "2022-10-02T18:56:03.203731Z",
     "iopub.status.idle": "2022-10-02T18:56:03.244893Z",
     "shell.execute_reply": "2022-10-02T18:56:03.243379Z"
    },
    "papermill": {
     "duration": 0.052366,
     "end_time": "2022-10-02T18:56:03.248107",
     "exception": false,
     "start_time": "2022-10-02T18:56:03.195741",
     "status": "completed"
    },
    "tags": []
   },
   "outputs": [
    {
     "data": {
      "text/plain": [
       "qid              0\n",
       "question_text    0\n",
       "dtype: int64"
      ]
     },
     "execution_count": 8,
     "metadata": {},
     "output_type": "execute_result"
    }
   ],
   "source": [
    "test_df.isna().sum()"
   ]
  },
  {
   "cell_type": "markdown",
   "id": "af3205ae",
   "metadata": {
    "papermill": {
     "duration": 0.006292,
     "end_time": "2022-10-02T18:56:03.261411",
     "exception": false,
     "start_time": "2022-10-02T18:56:03.255119",
     "status": "completed"
    },
    "tags": []
   },
   "source": [
    "## Cleaning the text\n",
    "When dealing with numerical data, data cleaning often involves removing null values and duplicate data, dealing with outliers, etc. With text data, there are some common data cleaning techniques, which are also known as text pre-processing techniques.\n",
    "\n",
    "With text data, this cleaning process can go on forever. There's always an exception to every cleaning step. So, we're going to follow the MVP (minimum viable product) approach - start simple and iterate. Here are a bunch of things you can do to clean your data. We're going to execute just the common cleaning steps here and the rest can be done at a later point to improve our results.\n",
    "\n",
    "Common data cleaning steps on all text:\n",
    "\n",
    "Make text all lower case\n",
    "Remove punctuation\n",
    "Remove numerical values\n",
    "Remove common non-sensical text (/n)\n",
    "Tokenize text\n",
    "Remove stop words\n",
    "More data cleaning steps after tokenization:\n",
    "\n",
    "Stemming / lemmatization\n",
    "Parts of speech tagging\n",
    "Create bi-grams or tri-grams\n",
    "Deal with typos\n",
    "And more..."
   ]
  },
  {
   "cell_type": "code",
   "execution_count": 9,
   "id": "6216d076",
   "metadata": {
    "execution": {
     "iopub.execute_input": "2022-10-02T18:56:03.277235Z",
     "iopub.status.busy": "2022-10-02T18:56:03.276811Z",
     "iopub.status.idle": "2022-10-02T18:56:03.285151Z",
     "shell.execute_reply": "2022-10-02T18:56:03.283585Z"
    },
    "papermill": {
     "duration": 0.019773,
     "end_time": "2022-10-02T18:56:03.288621",
     "exception": false,
     "start_time": "2022-10-02T18:56:03.268848",
     "status": "completed"
    },
    "tags": []
   },
   "outputs": [],
   "source": [
    "import re\n",
    "import string\n",
    "\n",
    "def clean_text_round1(text):\n",
    "    '''Make text lowercase, remove text in square brackets, remove punctuation and remove words containing numbers.'''\n",
    "    text = text.lower()\n",
    "    text = re.sub('\\[.*?\\]', '', text)\n",
    "    text = re.sub('[%s]' % re.escape(string.punctuation), '', text)\n",
    "    text = re.sub('\\w*\\d\\w*', '', text)\n",
    "    return text\n",
    "\n",
    "round1 = lambda x: clean_text_round1(x)"
   ]
  },
  {
   "cell_type": "code",
   "execution_count": 10,
   "id": "2397118b",
   "metadata": {
    "execution": {
     "iopub.execute_input": "2022-10-02T18:56:03.303450Z",
     "iopub.status.busy": "2022-10-02T18:56:03.302996Z",
     "iopub.status.idle": "2022-10-02T18:56:08.271880Z",
     "shell.execute_reply": "2022-10-02T18:56:08.270358Z"
    },
    "papermill": {
     "duration": 4.979274,
     "end_time": "2022-10-02T18:56:08.274728",
     "exception": false,
     "start_time": "2022-10-02T18:56:03.295454",
     "status": "completed"
    },
    "tags": []
   },
   "outputs": [
    {
     "data": {
      "text/plain": [
       "0         my period is due on my wedding day how can i s...\n",
       "1         how many numbers higher than a million can be ...\n",
       "2         how come i feel nothing for my family but stil...\n",
       "3         in case of collapse of the democratic party wi...\n",
       "4                                     who is émile naoumoff\n",
       "                                ...                        \n",
       "306117    did anyone get an update on maruti suzuki all ...\n",
       "306118    what  people in history do you find the most i...\n",
       "306119              how can i remove the tan on my forehead\n",
       "306120    if you are a well known hacker will you be mor...\n",
       "306121    if your new enemies be bigger and more dangero...\n",
       "Name: question_text, Length: 306122, dtype: object"
      ]
     },
     "execution_count": 10,
     "metadata": {},
     "output_type": "execute_result"
    }
   ],
   "source": [
    "train_df.question_text = train_df.question_text.apply(round1)\n",
    "train_df.question_text"
   ]
  },
  {
   "cell_type": "code",
   "execution_count": 11,
   "id": "0c9f9578",
   "metadata": {
    "execution": {
     "iopub.execute_input": "2022-10-02T18:56:08.290710Z",
     "iopub.status.busy": "2022-10-02T18:56:08.289583Z",
     "iopub.status.idle": "2022-10-02T18:56:12.639589Z",
     "shell.execute_reply": "2022-10-02T18:56:12.638267Z"
    },
    "papermill": {
     "duration": 4.360908,
     "end_time": "2022-10-02T18:56:12.642684",
     "exception": false,
     "start_time": "2022-10-02T18:56:08.281776",
     "status": "completed"
    },
    "tags": []
   },
   "outputs": [],
   "source": [
    "def  clean_text(df, text_field, new_text_field_name):\n",
    "    df[new_text_field_name] = df[text_field].str.lower()\n",
    "    df[new_text_field_name] = df[new_text_field_name].apply(lambda elem: re.sub(r\"(@[A-Za-z0-9]+)|([^0-9A-Za-z \\t])|(\\w+:\\/\\/\\S+)|^rt|http.+?\", \"\", elem))  \n",
    "    # remove numbers\n",
    "    df[new_text_field_name] = df[new_text_field_name].apply(lambda elem: re.sub(r\"\\d+\", \"\", elem))\n",
    "    \n",
    "    return df\n",
    "data_clean = clean_text(train_df, 'question_text', 'question_text')\n",
    "# Apply a second round of cleaning\n",
    "def clean_text_round2(text):\n",
    "    '''Get rid of some additional punctuation and non-sensical text that was missed the first time around.'''\n",
    "    text = re.sub('[‘’“”…]', '', text)\n",
    "    text = re.sub('\\n', '', text)\n",
    "    text = re.sub(r\"(@[A-Za-z0-9]+)|([^0-9A-Za-z \\t])|(\\w+:\\/\\/\\S+)|^rt|http.+?\", \"\", text)\n",
    "    return text\n",
    "round2 = lambda x: clean_text_round2(x)"
   ]
  },
  {
   "cell_type": "code",
   "execution_count": 12,
   "id": "aee03896",
   "metadata": {
    "execution": {
     "iopub.execute_input": "2022-10-02T18:56:12.658382Z",
     "iopub.status.busy": "2022-10-02T18:56:12.657247Z",
     "iopub.status.idle": "2022-10-02T18:56:16.456632Z",
     "shell.execute_reply": "2022-10-02T18:56:16.455341Z"
    },
    "papermill": {
     "duration": 3.809874,
     "end_time": "2022-10-02T18:56:16.459526",
     "exception": false,
     "start_time": "2022-10-02T18:56:12.649652",
     "status": "completed"
    },
    "tags": []
   },
   "outputs": [
    {
     "data": {
      "text/plain": [
       "0         my period is due on my wedding day how can i s...\n",
       "1         how many numbers higher than a million can be ...\n",
       "2         how come i feel nothing for my family but stil...\n",
       "3         in case of collapse of the democratic party wi...\n",
       "4                                      who is mile naoumoff\n",
       "                                ...                        \n",
       "306117    did anyone get an update on maruti suzuki all ...\n",
       "306118    what  people in history do you find the most i...\n",
       "306119              how can i remove the tan on my forehead\n",
       "306120    if you are a well known hacker will you be mor...\n",
       "306121    if your new enemies be bigger and more dangero...\n",
       "Name: question_text, Length: 306122, dtype: object"
      ]
     },
     "execution_count": 12,
     "metadata": {},
     "output_type": "execute_result"
    }
   ],
   "source": [
    "train_df.question_text= train_df.question_text.apply(round2)\n",
    "train_df.question_text"
   ]
  },
  {
   "cell_type": "code",
   "execution_count": 13,
   "id": "08916b8a",
   "metadata": {
    "execution": {
     "iopub.execute_input": "2022-10-02T18:56:16.474705Z",
     "iopub.status.busy": "2022-10-02T18:56:16.474283Z",
     "iopub.status.idle": "2022-10-02T18:56:16.484495Z",
     "shell.execute_reply": "2022-10-02T18:56:16.483133Z"
    },
    "papermill": {
     "duration": 0.020659,
     "end_time": "2022-10-02T18:56:16.487177",
     "exception": false,
     "start_time": "2022-10-02T18:56:16.466518",
     "status": "completed"
    },
    "tags": []
   },
   "outputs": [
    {
     "data": {
      "text/plain": [
       "0         my period is due on my wedding day how can i s...\n",
       "1         how many numbers higher than a million can be ...\n",
       "2         how come i feel nothing for my family but stil...\n",
       "3         in case of collapse of the democratic party wi...\n",
       "4                                      who is mile naoumoff\n",
       "                                ...                        \n",
       "306117    did anyone get an update on maruti suzuki all ...\n",
       "306118    what  people in history do you find the most i...\n",
       "306119              how can i remove the tan on my forehead\n",
       "306120    if you are a well known hacker will you be mor...\n",
       "306121    if your new enemies be bigger and more dangero...\n",
       "Name: question_text, Length: 306122, dtype: object"
      ]
     },
     "execution_count": 13,
     "metadata": {},
     "output_type": "execute_result"
    }
   ],
   "source": [
    "train_df.question_text"
   ]
  },
  {
   "cell_type": "code",
   "execution_count": 14,
   "id": "745ed3b7",
   "metadata": {
    "execution": {
     "iopub.execute_input": "2022-10-02T18:56:16.503240Z",
     "iopub.status.busy": "2022-10-02T18:56:16.502096Z",
     "iopub.status.idle": "2022-10-02T18:56:18.308178Z",
     "shell.execute_reply": "2022-10-02T18:56:18.306807Z"
    },
    "papermill": {
     "duration": 1.817131,
     "end_time": "2022-10-02T18:56:18.311225",
     "exception": false,
     "start_time": "2022-10-02T18:56:16.494094",
     "status": "completed"
    },
    "tags": []
   },
   "outputs": [],
   "source": [
    "# Tokenization\n",
    "#defining function for tokenization\n",
    "import re\n",
    "def tokenization(text):\n",
    "    tokens = re.split('W+',text)\n",
    "    return tokens[0].split(\" \")\n",
    "#applying function to the column\n",
    "train_df['question_text']= train_df['question_text'].apply(lambda x: tokenization(x))\n",
    "# train_df.iloc[1].question_text"
   ]
  },
  {
   "cell_type": "code",
   "execution_count": 15,
   "id": "d23b334f",
   "metadata": {
    "execution": {
     "iopub.execute_input": "2022-10-02T18:56:18.328794Z",
     "iopub.status.busy": "2022-10-02T18:56:18.326767Z",
     "iopub.status.idle": "2022-10-02T18:56:27.909272Z",
     "shell.execute_reply": "2022-10-02T18:56:27.907922Z"
    },
    "papermill": {
     "duration": 9.593241,
     "end_time": "2022-10-02T18:56:27.912012",
     "exception": false,
     "start_time": "2022-10-02T18:56:18.318771",
     "status": "completed"
    },
    "tags": []
   },
   "outputs": [
    {
     "name": "stderr",
     "output_type": "stream",
     "text": [
      "[nltk_data] Downloading package stopwords to /usr/share/nltk_data...\n",
      "[nltk_data]   Package stopwords is already up-to-date!\n"
     ]
    },
    {
     "data": {
      "text/html": [
       "<div>\n",
       "<style scoped>\n",
       "    .dataframe tbody tr th:only-of-type {\n",
       "        vertical-align: middle;\n",
       "    }\n",
       "\n",
       "    .dataframe tbody tr th {\n",
       "        vertical-align: top;\n",
       "    }\n",
       "\n",
       "    .dataframe thead th {\n",
       "        text-align: right;\n",
       "    }\n",
       "</style>\n",
       "<table border=\"1\" class=\"dataframe\">\n",
       "  <thead>\n",
       "    <tr style=\"text-align: right;\">\n",
       "      <th></th>\n",
       "      <th>qid</th>\n",
       "      <th>question_text</th>\n",
       "    </tr>\n",
       "  </thead>\n",
       "  <tbody>\n",
       "    <tr>\n",
       "      <th>0</th>\n",
       "      <td>a4f3da3a3df9dd881edd</td>\n",
       "      <td>[period, due, wedding, day, stop, pill, option]</td>\n",
       "    </tr>\n",
       "    <tr>\n",
       "      <th>1</th>\n",
       "      <td>9914c62ed3f69684d549</td>\n",
       "      <td>[many, numbers, higher, million, formed, digit...</td>\n",
       "    </tr>\n",
       "    <tr>\n",
       "      <th>2</th>\n",
       "      <td>8138ae48649e37091a91</td>\n",
       "      <td>[come, feel, nothing, family, still, love, pet...</td>\n",
       "    </tr>\n",
       "    <tr>\n",
       "      <th>3</th>\n",
       "      <td>981b4753d17ef14d09f7</td>\n",
       "      <td>[case, collapse, democratic, party, republican...</td>\n",
       "    </tr>\n",
       "    <tr>\n",
       "      <th>4</th>\n",
       "      <td>452e2c705276ba16b7b7</td>\n",
       "      <td>[mile, naoumoff]</td>\n",
       "    </tr>\n",
       "    <tr>\n",
       "      <th>...</th>\n",
       "      <td>...</td>\n",
       "      <td>...</td>\n",
       "    </tr>\n",
       "    <tr>\n",
       "      <th>306117</th>\n",
       "      <td>a352dff4fcc2571815ce</td>\n",
       "      <td>[anyone, get, update, maruti, suzuki, india, e...</td>\n",
       "    </tr>\n",
       "    <tr>\n",
       "      <th>306118</th>\n",
       "      <td>ad4a8498d97c536c67b9</td>\n",
       "      <td>[, people, history, find, interesting]</td>\n",
       "    </tr>\n",
       "    <tr>\n",
       "      <th>306119</th>\n",
       "      <td>19784a27b55d4b453fda</td>\n",
       "      <td>[remove, tan, forehead]</td>\n",
       "    </tr>\n",
       "    <tr>\n",
       "      <th>306120</th>\n",
       "      <td>370191dba26465997879</td>\n",
       "      <td>[well, known, hacker, prone, hacked]</td>\n",
       "    </tr>\n",
       "    <tr>\n",
       "      <th>306121</th>\n",
       "      <td>8077b4a45cea867d4ff2</td>\n",
       "      <td>[new, enemies, bigger, dangerous, old, enemies...</td>\n",
       "    </tr>\n",
       "  </tbody>\n",
       "</table>\n",
       "<p>306122 rows × 2 columns</p>\n",
       "</div>"
      ],
      "text/plain": [
       "                         qid  \\\n",
       "0       a4f3da3a3df9dd881edd   \n",
       "1       9914c62ed3f69684d549   \n",
       "2       8138ae48649e37091a91   \n",
       "3       981b4753d17ef14d09f7   \n",
       "4       452e2c705276ba16b7b7   \n",
       "...                      ...   \n",
       "306117  a352dff4fcc2571815ce   \n",
       "306118  ad4a8498d97c536c67b9   \n",
       "306119  19784a27b55d4b453fda   \n",
       "306120  370191dba26465997879   \n",
       "306121  8077b4a45cea867d4ff2   \n",
       "\n",
       "                                            question_text  \n",
       "0         [period, due, wedding, day, stop, pill, option]  \n",
       "1       [many, numbers, higher, million, formed, digit...  \n",
       "2       [come, feel, nothing, family, still, love, pet...  \n",
       "3       [case, collapse, democratic, party, republican...  \n",
       "4                                        [mile, naoumoff]  \n",
       "...                                                   ...  \n",
       "306117  [anyone, get, update, maruti, suzuki, india, e...  \n",
       "306118             [, people, history, find, interesting]  \n",
       "306119                            [remove, tan, forehead]  \n",
       "306120               [well, known, hacker, prone, hacked]  \n",
       "306121  [new, enemies, bigger, dangerous, old, enemies...  \n",
       "\n",
       "[306122 rows x 2 columns]"
      ]
     },
     "execution_count": 15,
     "metadata": {},
     "output_type": "execute_result"
    }
   ],
   "source": [
    "import nltk\n",
    "from nltk.corpus import stopwords\n",
    "nltk.download('stopwords')\n",
    "# train_df.question_text = [word for word in train_df.question_text if not word in stopwords.words('english')]\n",
    "# train_df\n",
    "# print(stopwords.words('english'))\n",
    "stopwords=stopwords.words('english')\n",
    "def remove_stopwords(text):\n",
    "    output= [i for i in text if i not in stopwords]\n",
    "    return output\n",
    "#applying the function\n",
    "train_df['question_text']= train_df['question_text'].apply(lambda x:remove_stopwords(x))\n",
    "train_df"
   ]
  },
  {
   "cell_type": "code",
   "execution_count": 16,
   "id": "0151123f",
   "metadata": {
    "execution": {
     "iopub.execute_input": "2022-10-02T18:56:27.928671Z",
     "iopub.status.busy": "2022-10-02T18:56:27.928235Z",
     "iopub.status.idle": "2022-10-02T18:56:27.933497Z",
     "shell.execute_reply": "2022-10-02T18:56:27.932079Z"
    },
    "papermill": {
     "duration": 0.016597,
     "end_time": "2022-10-02T18:56:27.936193",
     "exception": false,
     "start_time": "2022-10-02T18:56:27.919596",
     "status": "completed"
    },
    "tags": []
   },
   "outputs": [],
   "source": [
    "# import nltk\n",
    "# from nltk.stem import PorterStemmer\n",
    "# ps = PorterStemmer()"
   ]
  },
  {
   "cell_type": "code",
   "execution_count": 17,
   "id": "4b527b98",
   "metadata": {
    "execution": {
     "iopub.execute_input": "2022-10-02T18:56:27.952523Z",
     "iopub.status.busy": "2022-10-02T18:56:27.952155Z",
     "iopub.status.idle": "2022-10-02T18:56:27.957245Z",
     "shell.execute_reply": "2022-10-02T18:56:27.955832Z"
    },
    "papermill": {
     "duration": 0.016432,
     "end_time": "2022-10-02T18:56:27.960125",
     "exception": false,
     "start_time": "2022-10-02T18:56:27.943693",
     "status": "completed"
    },
    "tags": []
   },
   "outputs": [],
   "source": [
    "# train_df['question_text'] = train_df['question_text'].apply(lambda x: [ps.stem(y) for y in x]) # Stem every word.\n",
    "# # train_df = train_df.drop(columns=['question_text']) # Get rid of the unstemmed column."
   ]
  },
  {
   "cell_type": "code",
   "execution_count": 18,
   "id": "0ff6776b",
   "metadata": {
    "execution": {
     "iopub.execute_input": "2022-10-02T18:56:27.975998Z",
     "iopub.status.busy": "2022-10-02T18:56:27.975650Z",
     "iopub.status.idle": "2022-10-02T18:56:27.992617Z",
     "shell.execute_reply": "2022-10-02T18:56:27.991323Z"
    },
    "papermill": {
     "duration": 0.027897,
     "end_time": "2022-10-02T18:56:27.995239",
     "exception": false,
     "start_time": "2022-10-02T18:56:27.967342",
     "status": "completed"
    },
    "tags": []
   },
   "outputs": [
    {
     "data": {
      "text/html": [
       "<div>\n",
       "<style scoped>\n",
       "    .dataframe tbody tr th:only-of-type {\n",
       "        vertical-align: middle;\n",
       "    }\n",
       "\n",
       "    .dataframe tbody tr th {\n",
       "        vertical-align: top;\n",
       "    }\n",
       "\n",
       "    .dataframe thead th {\n",
       "        text-align: right;\n",
       "    }\n",
       "</style>\n",
       "<table border=\"1\" class=\"dataframe\">\n",
       "  <thead>\n",
       "    <tr style=\"text-align: right;\">\n",
       "      <th></th>\n",
       "      <th>qid</th>\n",
       "      <th>question_text</th>\n",
       "    </tr>\n",
       "  </thead>\n",
       "  <tbody>\n",
       "    <tr>\n",
       "      <th>0</th>\n",
       "      <td>a4f3da3a3df9dd881edd</td>\n",
       "      <td>[period, due, wedding, day, stop, pill, option]</td>\n",
       "    </tr>\n",
       "    <tr>\n",
       "      <th>1</th>\n",
       "      <td>9914c62ed3f69684d549</td>\n",
       "      <td>[many, numbers, higher, million, formed, digit...</td>\n",
       "    </tr>\n",
       "    <tr>\n",
       "      <th>2</th>\n",
       "      <td>8138ae48649e37091a91</td>\n",
       "      <td>[come, feel, nothing, family, still, love, pet...</td>\n",
       "    </tr>\n",
       "    <tr>\n",
       "      <th>3</th>\n",
       "      <td>981b4753d17ef14d09f7</td>\n",
       "      <td>[case, collapse, democratic, party, republican...</td>\n",
       "    </tr>\n",
       "    <tr>\n",
       "      <th>4</th>\n",
       "      <td>452e2c705276ba16b7b7</td>\n",
       "      <td>[mile, naoumoff]</td>\n",
       "    </tr>\n",
       "    <tr>\n",
       "      <th>...</th>\n",
       "      <td>...</td>\n",
       "      <td>...</td>\n",
       "    </tr>\n",
       "    <tr>\n",
       "      <th>306117</th>\n",
       "      <td>a352dff4fcc2571815ce</td>\n",
       "      <td>[anyone, get, update, maruti, suzuki, india, e...</td>\n",
       "    </tr>\n",
       "    <tr>\n",
       "      <th>306118</th>\n",
       "      <td>ad4a8498d97c536c67b9</td>\n",
       "      <td>[, people, history, find, interesting]</td>\n",
       "    </tr>\n",
       "    <tr>\n",
       "      <th>306119</th>\n",
       "      <td>19784a27b55d4b453fda</td>\n",
       "      <td>[remove, tan, forehead]</td>\n",
       "    </tr>\n",
       "    <tr>\n",
       "      <th>306120</th>\n",
       "      <td>370191dba26465997879</td>\n",
       "      <td>[well, known, hacker, prone, hacked]</td>\n",
       "    </tr>\n",
       "    <tr>\n",
       "      <th>306121</th>\n",
       "      <td>8077b4a45cea867d4ff2</td>\n",
       "      <td>[new, enemies, bigger, dangerous, old, enemies...</td>\n",
       "    </tr>\n",
       "  </tbody>\n",
       "</table>\n",
       "<p>306122 rows × 2 columns</p>\n",
       "</div>"
      ],
      "text/plain": [
       "                         qid  \\\n",
       "0       a4f3da3a3df9dd881edd   \n",
       "1       9914c62ed3f69684d549   \n",
       "2       8138ae48649e37091a91   \n",
       "3       981b4753d17ef14d09f7   \n",
       "4       452e2c705276ba16b7b7   \n",
       "...                      ...   \n",
       "306117  a352dff4fcc2571815ce   \n",
       "306118  ad4a8498d97c536c67b9   \n",
       "306119  19784a27b55d4b453fda   \n",
       "306120  370191dba26465997879   \n",
       "306121  8077b4a45cea867d4ff2   \n",
       "\n",
       "                                            question_text  \n",
       "0         [period, due, wedding, day, stop, pill, option]  \n",
       "1       [many, numbers, higher, million, formed, digit...  \n",
       "2       [come, feel, nothing, family, still, love, pet...  \n",
       "3       [case, collapse, democratic, party, republican...  \n",
       "4                                        [mile, naoumoff]  \n",
       "...                                                   ...  \n",
       "306117  [anyone, get, update, maruti, suzuki, india, e...  \n",
       "306118             [, people, history, find, interesting]  \n",
       "306119                            [remove, tan, forehead]  \n",
       "306120               [well, known, hacker, prone, hacked]  \n",
       "306121  [new, enemies, bigger, dangerous, old, enemies...  \n",
       "\n",
       "[306122 rows x 2 columns]"
      ]
     },
     "execution_count": 18,
     "metadata": {},
     "output_type": "execute_result"
    }
   ],
   "source": [
    "train_df"
   ]
  },
  {
   "cell_type": "code",
   "execution_count": 19,
   "id": "d206f67f",
   "metadata": {
    "execution": {
     "iopub.execute_input": "2022-10-02T18:56:28.012566Z",
     "iopub.status.busy": "2022-10-02T18:56:28.012186Z",
     "iopub.status.idle": "2022-10-02T18:56:41.974321Z",
     "shell.execute_reply": "2022-10-02T18:56:41.972971Z"
    },
    "papermill": {
     "duration": 13.974539,
     "end_time": "2022-10-02T18:56:41.977541",
     "exception": false,
     "start_time": "2022-10-02T18:56:28.003002",
     "status": "completed"
    },
    "tags": []
   },
   "outputs": [
    {
     "name": "stderr",
     "output_type": "stream",
     "text": [
      "[nltk_data] Downloading package omw-1.4 to /usr/share/nltk_data...\n",
      "[nltk_data] Downloading package wordnet to /usr/share/nltk_data...\n",
      "[nltk_data]   Package wordnet is already up-to-date!\n"
     ]
    }
   ],
   "source": [
    "import nltk\n",
    "nltk.download('omw-1.4')\n",
    "  \n",
    "\n",
    "# Lemmatization\n",
    "from nltk.stem import WordNetLemmatizer\n",
    "nltk.download('wordnet')\n",
    "#defining the object for Lemmatization\n",
    "wordnet_lemmatizer = WordNetLemmatizer()\n",
    "#defining the function for lemmatization\n",
    "def lemmatizer(text):\n",
    "    lemm_text = [wordnet_lemmatizer.lemmatize(word) for word in text]\n",
    "    return lemm_text\n",
    "train_df['question_text']=train_df['question_text'].apply(lambda x:lemmatizer(x))\n",
    "# train_df"
   ]
  },
  {
   "cell_type": "code",
   "execution_count": 20,
   "id": "350219c8",
   "metadata": {
    "execution": {
     "iopub.execute_input": "2022-10-02T18:56:41.994443Z",
     "iopub.status.busy": "2022-10-02T18:56:41.994049Z",
     "iopub.status.idle": "2022-10-02T18:56:41.999420Z",
     "shell.execute_reply": "2022-10-02T18:56:41.997955Z"
    },
    "papermill": {
     "duration": 0.016792,
     "end_time": "2022-10-02T18:56:42.002231",
     "exception": false,
     "start_time": "2022-10-02T18:56:41.985439",
     "status": "completed"
    },
    "tags": []
   },
   "outputs": [],
   "source": [
    "# listOfWords = train_df.question_text[:][0]\n",
    "# listOfWords.extend(train_df.question_text[:][1])\n",
    "# listOfWords"
   ]
  },
  {
   "cell_type": "code",
   "execution_count": 21,
   "id": "fa9df8b8",
   "metadata": {
    "execution": {
     "iopub.execute_input": "2022-10-02T18:56:42.018772Z",
     "iopub.status.busy": "2022-10-02T18:56:42.018442Z",
     "iopub.status.idle": "2022-10-02T18:57:27.716961Z",
     "shell.execute_reply": "2022-10-02T18:57:27.715666Z"
    },
    "papermill": {
     "duration": 45.7181,
     "end_time": "2022-10-02T18:57:27.727825",
     "exception": false,
     "start_time": "2022-10-02T18:56:42.009725",
     "status": "completed"
    },
    "tags": []
   },
   "outputs": [
    {
     "data": {
      "text/html": [
       "<div>\n",
       "<style scoped>\n",
       "    .dataframe tbody tr th:only-of-type {\n",
       "        vertical-align: middle;\n",
       "    }\n",
       "\n",
       "    .dataframe tbody tr th {\n",
       "        vertical-align: top;\n",
       "    }\n",
       "\n",
       "    .dataframe thead th {\n",
       "        text-align: right;\n",
       "    }\n",
       "</style>\n",
       "<table border=\"1\" class=\"dataframe\">\n",
       "  <thead>\n",
       "    <tr style=\"text-align: right;\">\n",
       "      <th></th>\n",
       "      <th>aa</th>\n",
       "      <th>aaa</th>\n",
       "      <th>aaabbb</th>\n",
       "      <th>aaalike</th>\n",
       "      <th>aaaq</th>\n",
       "      <th>aaarated</th>\n",
       "      <th>aac</th>\n",
       "      <th>aachen</th>\n",
       "      <th>aadar</th>\n",
       "      <th>aadgar</th>\n",
       "      <th>...</th>\n",
       "      <th>zygote</th>\n",
       "      <th>zyklene</th>\n",
       "      <th>zyklon</th>\n",
       "      <th>zymase</th>\n",
       "      <th>zynga</th>\n",
       "      <th>zynq</th>\n",
       "      <th>zyrtec</th>\n",
       "      <th>zyzz</th>\n",
       "      <th>zz</th>\n",
       "      <th>zzzquil</th>\n",
       "    </tr>\n",
       "  </thead>\n",
       "  <tbody>\n",
       "    <tr>\n",
       "      <th>0</th>\n",
       "      <td>0</td>\n",
       "      <td>0</td>\n",
       "      <td>0</td>\n",
       "      <td>0</td>\n",
       "      <td>0</td>\n",
       "      <td>0</td>\n",
       "      <td>0</td>\n",
       "      <td>0</td>\n",
       "      <td>0</td>\n",
       "      <td>0</td>\n",
       "      <td>...</td>\n",
       "      <td>0</td>\n",
       "      <td>0</td>\n",
       "      <td>0</td>\n",
       "      <td>0</td>\n",
       "      <td>0</td>\n",
       "      <td>0</td>\n",
       "      <td>0</td>\n",
       "      <td>0</td>\n",
       "      <td>0</td>\n",
       "      <td>0</td>\n",
       "    </tr>\n",
       "    <tr>\n",
       "      <th>1</th>\n",
       "      <td>0</td>\n",
       "      <td>0</td>\n",
       "      <td>0</td>\n",
       "      <td>0</td>\n",
       "      <td>0</td>\n",
       "      <td>0</td>\n",
       "      <td>0</td>\n",
       "      <td>0</td>\n",
       "      <td>0</td>\n",
       "      <td>0</td>\n",
       "      <td>...</td>\n",
       "      <td>0</td>\n",
       "      <td>0</td>\n",
       "      <td>0</td>\n",
       "      <td>0</td>\n",
       "      <td>0</td>\n",
       "      <td>0</td>\n",
       "      <td>0</td>\n",
       "      <td>0</td>\n",
       "      <td>0</td>\n",
       "      <td>0</td>\n",
       "    </tr>\n",
       "    <tr>\n",
       "      <th>2</th>\n",
       "      <td>0</td>\n",
       "      <td>0</td>\n",
       "      <td>0</td>\n",
       "      <td>0</td>\n",
       "      <td>0</td>\n",
       "      <td>0</td>\n",
       "      <td>0</td>\n",
       "      <td>0</td>\n",
       "      <td>0</td>\n",
       "      <td>0</td>\n",
       "      <td>...</td>\n",
       "      <td>0</td>\n",
       "      <td>0</td>\n",
       "      <td>0</td>\n",
       "      <td>0</td>\n",
       "      <td>0</td>\n",
       "      <td>0</td>\n",
       "      <td>0</td>\n",
       "      <td>0</td>\n",
       "      <td>0</td>\n",
       "      <td>0</td>\n",
       "    </tr>\n",
       "    <tr>\n",
       "      <th>3</th>\n",
       "      <td>0</td>\n",
       "      <td>0</td>\n",
       "      <td>0</td>\n",
       "      <td>0</td>\n",
       "      <td>0</td>\n",
       "      <td>0</td>\n",
       "      <td>0</td>\n",
       "      <td>0</td>\n",
       "      <td>0</td>\n",
       "      <td>0</td>\n",
       "      <td>...</td>\n",
       "      <td>0</td>\n",
       "      <td>0</td>\n",
       "      <td>0</td>\n",
       "      <td>0</td>\n",
       "      <td>0</td>\n",
       "      <td>0</td>\n",
       "      <td>0</td>\n",
       "      <td>0</td>\n",
       "      <td>0</td>\n",
       "      <td>0</td>\n",
       "    </tr>\n",
       "    <tr>\n",
       "      <th>4</th>\n",
       "      <td>0</td>\n",
       "      <td>0</td>\n",
       "      <td>0</td>\n",
       "      <td>0</td>\n",
       "      <td>0</td>\n",
       "      <td>0</td>\n",
       "      <td>0</td>\n",
       "      <td>0</td>\n",
       "      <td>0</td>\n",
       "      <td>0</td>\n",
       "      <td>...</td>\n",
       "      <td>0</td>\n",
       "      <td>0</td>\n",
       "      <td>0</td>\n",
       "      <td>0</td>\n",
       "      <td>0</td>\n",
       "      <td>0</td>\n",
       "      <td>0</td>\n",
       "      <td>0</td>\n",
       "      <td>0</td>\n",
       "      <td>0</td>\n",
       "    </tr>\n",
       "    <tr>\n",
       "      <th>...</th>\n",
       "      <td>...</td>\n",
       "      <td>...</td>\n",
       "      <td>...</td>\n",
       "      <td>...</td>\n",
       "      <td>...</td>\n",
       "      <td>...</td>\n",
       "      <td>...</td>\n",
       "      <td>...</td>\n",
       "      <td>...</td>\n",
       "      <td>...</td>\n",
       "      <td>...</td>\n",
       "      <td>...</td>\n",
       "      <td>...</td>\n",
       "      <td>...</td>\n",
       "      <td>...</td>\n",
       "      <td>...</td>\n",
       "      <td>...</td>\n",
       "      <td>...</td>\n",
       "      <td>...</td>\n",
       "      <td>...</td>\n",
       "      <td>...</td>\n",
       "    </tr>\n",
       "    <tr>\n",
       "      <th>1999492</th>\n",
       "      <td>0</td>\n",
       "      <td>0</td>\n",
       "      <td>0</td>\n",
       "      <td>0</td>\n",
       "      <td>0</td>\n",
       "      <td>0</td>\n",
       "      <td>0</td>\n",
       "      <td>0</td>\n",
       "      <td>0</td>\n",
       "      <td>0</td>\n",
       "      <td>...</td>\n",
       "      <td>0</td>\n",
       "      <td>0</td>\n",
       "      <td>0</td>\n",
       "      <td>0</td>\n",
       "      <td>0</td>\n",
       "      <td>0</td>\n",
       "      <td>0</td>\n",
       "      <td>0</td>\n",
       "      <td>0</td>\n",
       "      <td>0</td>\n",
       "    </tr>\n",
       "    <tr>\n",
       "      <th>1999493</th>\n",
       "      <td>0</td>\n",
       "      <td>0</td>\n",
       "      <td>0</td>\n",
       "      <td>0</td>\n",
       "      <td>0</td>\n",
       "      <td>0</td>\n",
       "      <td>0</td>\n",
       "      <td>0</td>\n",
       "      <td>0</td>\n",
       "      <td>0</td>\n",
       "      <td>...</td>\n",
       "      <td>0</td>\n",
       "      <td>0</td>\n",
       "      <td>0</td>\n",
       "      <td>0</td>\n",
       "      <td>0</td>\n",
       "      <td>0</td>\n",
       "      <td>0</td>\n",
       "      <td>0</td>\n",
       "      <td>0</td>\n",
       "      <td>0</td>\n",
       "    </tr>\n",
       "    <tr>\n",
       "      <th>1999494</th>\n",
       "      <td>0</td>\n",
       "      <td>0</td>\n",
       "      <td>0</td>\n",
       "      <td>0</td>\n",
       "      <td>0</td>\n",
       "      <td>0</td>\n",
       "      <td>0</td>\n",
       "      <td>0</td>\n",
       "      <td>0</td>\n",
       "      <td>0</td>\n",
       "      <td>...</td>\n",
       "      <td>0</td>\n",
       "      <td>0</td>\n",
       "      <td>0</td>\n",
       "      <td>0</td>\n",
       "      <td>0</td>\n",
       "      <td>0</td>\n",
       "      <td>0</td>\n",
       "      <td>0</td>\n",
       "      <td>0</td>\n",
       "      <td>0</td>\n",
       "    </tr>\n",
       "    <tr>\n",
       "      <th>1999495</th>\n",
       "      <td>0</td>\n",
       "      <td>0</td>\n",
       "      <td>0</td>\n",
       "      <td>0</td>\n",
       "      <td>0</td>\n",
       "      <td>0</td>\n",
       "      <td>0</td>\n",
       "      <td>0</td>\n",
       "      <td>0</td>\n",
       "      <td>0</td>\n",
       "      <td>...</td>\n",
       "      <td>0</td>\n",
       "      <td>0</td>\n",
       "      <td>0</td>\n",
       "      <td>0</td>\n",
       "      <td>0</td>\n",
       "      <td>0</td>\n",
       "      <td>0</td>\n",
       "      <td>0</td>\n",
       "      <td>0</td>\n",
       "      <td>0</td>\n",
       "    </tr>\n",
       "    <tr>\n",
       "      <th>1999496</th>\n",
       "      <td>0</td>\n",
       "      <td>0</td>\n",
       "      <td>0</td>\n",
       "      <td>0</td>\n",
       "      <td>0</td>\n",
       "      <td>0</td>\n",
       "      <td>0</td>\n",
       "      <td>0</td>\n",
       "      <td>0</td>\n",
       "      <td>0</td>\n",
       "      <td>...</td>\n",
       "      <td>0</td>\n",
       "      <td>0</td>\n",
       "      <td>0</td>\n",
       "      <td>0</td>\n",
       "      <td>0</td>\n",
       "      <td>0</td>\n",
       "      <td>0</td>\n",
       "      <td>0</td>\n",
       "      <td>0</td>\n",
       "      <td>0</td>\n",
       "    </tr>\n",
       "  </tbody>\n",
       "</table>\n",
       "<p>1999497 rows × 89809 columns</p>\n",
       "</div>"
      ],
      "text/plain": [
       "         aa  aaa  aaabbb  aaalike  aaaq  aaarated  aac  aachen  aadar  aadgar  \\\n",
       "0         0    0       0        0     0         0    0       0      0       0   \n",
       "1         0    0       0        0     0         0    0       0      0       0   \n",
       "2         0    0       0        0     0         0    0       0      0       0   \n",
       "3         0    0       0        0     0         0    0       0      0       0   \n",
       "4         0    0       0        0     0         0    0       0      0       0   \n",
       "...      ..  ...     ...      ...   ...       ...  ...     ...    ...     ...   \n",
       "1999492   0    0       0        0     0         0    0       0      0       0   \n",
       "1999493   0    0       0        0     0         0    0       0      0       0   \n",
       "1999494   0    0       0        0     0         0    0       0      0       0   \n",
       "1999495   0    0       0        0     0         0    0       0      0       0   \n",
       "1999496   0    0       0        0     0         0    0       0      0       0   \n",
       "\n",
       "         ...  zygote  zyklene  zyklon  zymase  zynga  zynq  zyrtec  zyzz  zz  \\\n",
       "0        ...       0        0       0       0      0     0       0     0   0   \n",
       "1        ...       0        0       0       0      0     0       0     0   0   \n",
       "2        ...       0        0       0       0      0     0       0     0   0   \n",
       "3        ...       0        0       0       0      0     0       0     0   0   \n",
       "4        ...       0        0       0       0      0     0       0     0   0   \n",
       "...      ...     ...      ...     ...     ...    ...   ...     ...   ...  ..   \n",
       "1999492  ...       0        0       0       0      0     0       0     0   0   \n",
       "1999493  ...       0        0       0       0      0     0       0     0   0   \n",
       "1999494  ...       0        0       0       0      0     0       0     0   0   \n",
       "1999495  ...       0        0       0       0      0     0       0     0   0   \n",
       "1999496  ...       0        0       0       0      0     0       0     0   0   \n",
       "\n",
       "         zzzquil  \n",
       "0              0  \n",
       "1              0  \n",
       "2              0  \n",
       "3              0  \n",
       "4              0  \n",
       "...          ...  \n",
       "1999492        0  \n",
       "1999493        0  \n",
       "1999494        0  \n",
       "1999495        0  \n",
       "1999496        0  \n",
       "\n",
       "[1999497 rows x 89809 columns]"
      ]
     },
     "execution_count": 21,
     "metadata": {},
     "output_type": "execute_result"
    }
   ],
   "source": [
    "# We are going to create a document-term matrix using CountVectorizer, and exclude common English stop words\n",
    "from sklearn.feature_extraction.text import CountVectorizer\n",
    "\n",
    "cv = CountVectorizer(stop_words='english')\n",
    "words=[]\n",
    "for i in range(train_df.question_text.shape[0]):\n",
    "    words.extend(word for word in train_df.question_text[:][i])\n",
    "# print(words)\n",
    "data_cv = cv.fit_transform(word for word in words)\n",
    "# data_cv = train_df.question_text \n",
    "data_dtm = pd.DataFrame(data_cv.toarray(), columns=cv.get_feature_names_out())\n",
    "# data_dtm.index = train_df.index\n",
    "data_dtm"
   ]
  }
 ],
 "metadata": {
  "kernelspec": {
   "display_name": "Python 3",
   "language": "python",
   "name": "python3"
  },
  "language_info": {
   "codemirror_mode": {
    "name": "ipython",
    "version": 3
   },
   "file_extension": ".py",
   "mimetype": "text/x-python",
   "name": "python",
   "nbconvert_exporter": "python",
   "pygments_lexer": "ipython3",
   "version": "3.7.12"
  },
  "papermill": {
   "default_parameters": {},
   "duration": 103.363375,
   "end_time": "2022-10-02T18:57:32.467487",
   "environment_variables": {},
   "exception": null,
   "input_path": "__notebook__.ipynb",
   "output_path": "__notebook__.ipynb",
   "parameters": {},
   "start_time": "2022-10-02T18:55:49.104112",
   "version": "2.3.4"
  }
 },
 "nbformat": 4,
 "nbformat_minor": 5
}
