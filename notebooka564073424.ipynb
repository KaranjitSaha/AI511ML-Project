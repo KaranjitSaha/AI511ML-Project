{
 "cells": [
  {
   "cell_type": "markdown",
   "id": "cbbc39c9",
   "metadata": {
    "papermill": {
     "duration": 0.006136,
     "end_time": "2022-12-17T01:50:15.850078",
     "exception": false,
     "start_time": "2022-12-17T01:50:15.843942",
     "status": "completed"
    },
    "tags": []
   },
   "source": [
    "## Reading Preprocessed data"
   ]
  },
  {
   "cell_type": "code",
   "execution_count": 1,
   "id": "7c7f7137",
   "metadata": {
    "execution": {
     "iopub.execute_input": "2022-12-17T01:50:15.863232Z",
     "iopub.status.busy": "2022-12-17T01:50:15.862623Z",
     "iopub.status.idle": "2022-12-17T01:50:17.240579Z",
     "shell.execute_reply": "2022-12-17T01:50:17.239242Z"
    },
    "papermill": {
     "duration": 1.388395,
     "end_time": "2022-12-17T01:50:17.243838",
     "exception": false,
     "start_time": "2022-12-17T01:50:15.855443",
     "status": "completed"
    },
    "tags": []
   },
   "outputs": [],
   "source": [
    "import numpy as np \n",
    "import pandas as pd\n",
    "from sklearn.model_selection import train_test_split\n",
    "from sklearn import metrics\n",
    "from sklearn.metrics import confusion_matrix,accuracy_score,roc_auc_score,roc_curve,auc,f1_score\n",
    "from sklearn.feature_extraction.text import TfidfVectorizer, CountVectorizer\n",
    "from sklearn.model_selection import GridSearchCV"
   ]
  },
  {
   "cell_type": "code",
   "execution_count": 2,
   "id": "591783f0",
   "metadata": {
    "execution": {
     "iopub.execute_input": "2022-12-17T01:50:17.260102Z",
     "iopub.status.busy": "2022-12-17T01:50:17.259023Z",
     "iopub.status.idle": "2022-12-17T01:50:22.817185Z",
     "shell.execute_reply": "2022-12-17T01:50:22.815396Z"
    },
    "papermill": {
     "duration": 5.570389,
     "end_time": "2022-12-17T01:50:22.821374",
     "exception": false,
     "start_time": "2022-12-17T01:50:17.250985",
     "status": "completed"
    },
    "tags": []
   },
   "outputs": [],
   "source": [
    "train_df = pd.read_csv(\"/kaggle/input/yahoo-troll-question-detection/train_df.csv\")\n",
    "test_df = pd.read_csv(\"/kaggle/input/yahoo-troll-question-detection/test_df.csv\")"
   ]
  },
  {
   "cell_type": "code",
   "execution_count": 3,
   "id": "c0fde828",
   "metadata": {
    "execution": {
     "iopub.execute_input": "2022-12-17T01:50:22.833261Z",
     "iopub.status.busy": "2022-12-17T01:50:22.832778Z",
     "iopub.status.idle": "2022-12-17T01:50:22.862454Z",
     "shell.execute_reply": "2022-12-17T01:50:22.860989Z"
    },
    "papermill": {
     "duration": 0.039638,
     "end_time": "2022-12-17T01:50:22.866046",
     "exception": false,
     "start_time": "2022-12-17T01:50:22.826408",
     "status": "completed"
    },
    "tags": []
   },
   "outputs": [
    {
     "data": {
      "text/html": [
       "<div>\n",
       "<style scoped>\n",
       "    .dataframe tbody tr th:only-of-type {\n",
       "        vertical-align: middle;\n",
       "    }\n",
       "\n",
       "    .dataframe tbody tr th {\n",
       "        vertical-align: top;\n",
       "    }\n",
       "\n",
       "    .dataframe thead th {\n",
       "        text-align: right;\n",
       "    }\n",
       "</style>\n",
       "<table border=\"1\" class=\"dataframe\">\n",
       "  <thead>\n",
       "    <tr style=\"text-align: right;\">\n",
       "      <th></th>\n",
       "      <th>qid</th>\n",
       "      <th>question_text</th>\n",
       "    </tr>\n",
       "  </thead>\n",
       "  <tbody>\n",
       "    <tr>\n",
       "      <th>0</th>\n",
       "      <td>a4f3da3a3df9dd881edd</td>\n",
       "      <td>My period is due on my wedding day. How can I ...</td>\n",
       "    </tr>\n",
       "    <tr>\n",
       "      <th>1</th>\n",
       "      <td>9914c62ed3f69684d549</td>\n",
       "      <td>How many numbers higher than a million can be ...</td>\n",
       "    </tr>\n",
       "    <tr>\n",
       "      <th>2</th>\n",
       "      <td>8138ae48649e37091a91</td>\n",
       "      <td>How come I feel nothing for my family, but sti...</td>\n",
       "    </tr>\n",
       "    <tr>\n",
       "      <th>3</th>\n",
       "      <td>981b4753d17ef14d09f7</td>\n",
       "      <td>In case of collapse of the Democratic party, w...</td>\n",
       "    </tr>\n",
       "    <tr>\n",
       "      <th>4</th>\n",
       "      <td>452e2c705276ba16b7b7</td>\n",
       "      <td>Who is Émile Naoumoff?</td>\n",
       "    </tr>\n",
       "    <tr>\n",
       "      <th>...</th>\n",
       "      <td>...</td>\n",
       "      <td>...</td>\n",
       "    </tr>\n",
       "    <tr>\n",
       "      <th>306117</th>\n",
       "      <td>a352dff4fcc2571815ce</td>\n",
       "      <td>Did anyone get an update on Maruti Suzuki All ...</td>\n",
       "    </tr>\n",
       "    <tr>\n",
       "      <th>306118</th>\n",
       "      <td>ad4a8498d97c536c67b9</td>\n",
       "      <td>What 5 people in history do you find the most ...</td>\n",
       "    </tr>\n",
       "    <tr>\n",
       "      <th>306119</th>\n",
       "      <td>19784a27b55d4b453fda</td>\n",
       "      <td>How can I remove the tan on my forehead?</td>\n",
       "    </tr>\n",
       "    <tr>\n",
       "      <th>306120</th>\n",
       "      <td>370191dba26465997879</td>\n",
       "      <td>If you are a well known hacker, will you be mo...</td>\n",
       "    </tr>\n",
       "    <tr>\n",
       "      <th>306121</th>\n",
       "      <td>8077b4a45cea867d4ff2</td>\n",
       "      <td>If your new enemies be bigger and more dangero...</td>\n",
       "    </tr>\n",
       "  </tbody>\n",
       "</table>\n",
       "<p>306122 rows × 2 columns</p>\n",
       "</div>"
      ],
      "text/plain": [
       "                         qid  \\\n",
       "0       a4f3da3a3df9dd881edd   \n",
       "1       9914c62ed3f69684d549   \n",
       "2       8138ae48649e37091a91   \n",
       "3       981b4753d17ef14d09f7   \n",
       "4       452e2c705276ba16b7b7   \n",
       "...                      ...   \n",
       "306117  a352dff4fcc2571815ce   \n",
       "306118  ad4a8498d97c536c67b9   \n",
       "306119  19784a27b55d4b453fda   \n",
       "306120  370191dba26465997879   \n",
       "306121  8077b4a45cea867d4ff2   \n",
       "\n",
       "                                            question_text  \n",
       "0       My period is due on my wedding day. How can I ...  \n",
       "1       How many numbers higher than a million can be ...  \n",
       "2       How come I feel nothing for my family, but sti...  \n",
       "3       In case of collapse of the Democratic party, w...  \n",
       "4                                  Who is Émile Naoumoff?  \n",
       "...                                                   ...  \n",
       "306117  Did anyone get an update on Maruti Suzuki All ...  \n",
       "306118  What 5 people in history do you find the most ...  \n",
       "306119           How can I remove the tan on my forehead?  \n",
       "306120  If you are a well known hacker, will you be mo...  \n",
       "306121  If your new enemies be bigger and more dangero...  \n",
       "\n",
       "[306122 rows x 2 columns]"
      ]
     },
     "execution_count": 3,
     "metadata": {},
     "output_type": "execute_result"
    }
   ],
   "source": [
    "test_df"
   ]
  },
  {
   "cell_type": "markdown",
   "id": "5d159871",
   "metadata": {
    "papermill": {
     "duration": 0.005524,
     "end_time": "2022-12-17T01:50:22.877627",
     "exception": false,
     "start_time": "2022-12-17T01:50:22.872103",
     "status": "completed"
    },
    "tags": []
   },
   "source": [
    "## Vectorization of the dataset"
   ]
  },
  {
   "cell_type": "code",
   "execution_count": 4,
   "id": "9e684977",
   "metadata": {
    "execution": {
     "iopub.execute_input": "2022-12-17T01:50:22.890403Z",
     "iopub.status.busy": "2022-12-17T01:50:22.889927Z",
     "iopub.status.idle": "2022-12-17T01:56:00.054038Z",
     "shell.execute_reply": "2022-12-17T01:56:00.052593Z"
    },
    "papermill": {
     "duration": 337.174027,
     "end_time": "2022-12-17T01:56:00.057218",
     "exception": false,
     "start_time": "2022-12-17T01:50:22.883191",
     "status": "completed"
    },
    "tags": []
   },
   "outputs": [],
   "source": [
    "from sklearn.feature_extraction.text import TfidfVectorizer\n",
    "from scipy.sparse import hstack\n",
    "\n",
    "# # from sklearn.feature_extraction.text import TfidfVectorizer\n",
    "\n",
    "# # We can change the number of words counted together and see results on accuracy\n",
    "# CountVectorizer(analyzer='word', ngram_range=(1, 3))\n",
    "\n",
    "word_vectorizer = TfidfVectorizer(\n",
    "    strip_accents = 'unicode',\n",
    "    analyzer = 'word',\n",
    "    ngram_range = (1, 3),\n",
    "    max_df = 0.5,\n",
    "    max_features = 150000,\n",
    ")\n",
    "\n",
    "char_vectorizer = TfidfVectorizer(\n",
    "    strip_accents = 'unicode',\n",
    "    analyzer = 'char',\n",
    "    ngram_range = (1, 3),\n",
    "    max_df = 0.5,\n",
    "    max_features = 150000,\n",
    ")\n",
    "\n",
    "# # tfidf = TfidfVectorizer()\n",
    "\n",
    "X_train1_wv = word_vectorizer.fit_transform(train_df.question_text.values.astype('U'))\n",
    "# X_validate1_wv = word_vectorizer.transform(X_validate.values.astype('U'))\n",
    "\n",
    "X_train1_cv = char_vectorizer.fit_transform(train_df.question_text.values.astype('U'))\n",
    "# X_validate1_cv = char_vectorizer.transform(X_validate.values.astype('U'))\n",
    "# # X_train = tfidf.fit(X_train)\n",
    "\n",
    "train = hstack((X_train1_wv, X_train1_cv)).tocsr()\n",
    "# X_validate1 = hstack((X_validate1_wv, X_validate1_cv)).tocsr()\n",
    "\n",
    "\n",
    "X_test1_wv = word_vectorizer.transform(test_df.question_text)\n",
    "X_test1_cv = char_vectorizer.transform(test_df.question_text)\n",
    "\n",
    "test_df_matrix = hstack((X_test1_wv, X_test1_cv)).tocsr()\n"
   ]
  },
  {
   "cell_type": "code",
   "execution_count": 5,
   "id": "4db8c88e",
   "metadata": {
    "execution": {
     "iopub.execute_input": "2022-12-17T01:56:00.069976Z",
     "iopub.status.busy": "2022-12-17T01:56:00.069428Z",
     "iopub.status.idle": "2022-12-17T01:56:00.075059Z",
     "shell.execute_reply": "2022-12-17T01:56:00.073678Z"
    },
    "papermill": {
     "duration": 0.014943,
     "end_time": "2022-12-17T01:56:00.077730",
     "exception": false,
     "start_time": "2022-12-17T01:56:00.062787",
     "status": "completed"
    },
    "tags": []
   },
   "outputs": [],
   "source": [
    "# tfidf = TfidfVectorizer(ngram_range=(1,3))\n",
    "# # Numericalize the train dataset\n",
    "# train = tfidf.fit_transform(train_df.question_text.values.astype('U'))\n",
    "\n",
    "# # for test_df\n",
    "# test_df_matrix = tfidf.transform(test_df.question_text.values.astype('U'))\n",
    "# # print(test_df_matrix.shape)\n",
    "# test_df_matrix"
   ]
  },
  {
   "cell_type": "code",
   "execution_count": 6,
   "id": "e6ac6b2b",
   "metadata": {
    "execution": {
     "iopub.execute_input": "2022-12-17T01:56:00.090749Z",
     "iopub.status.busy": "2022-12-17T01:56:00.090310Z",
     "iopub.status.idle": "2022-12-17T01:56:00.097630Z",
     "shell.execute_reply": "2022-12-17T01:56:00.096366Z"
    },
    "papermill": {
     "duration": 0.016896,
     "end_time": "2022-12-17T01:56:00.099912",
     "exception": false,
     "start_time": "2022-12-17T01:56:00.083016",
     "status": "completed"
    },
    "tags": []
   },
   "outputs": [
    {
     "data": {
      "text/plain": [
       "<1000000x232101 sparse matrix of type '<class 'numpy.float64'>'\n",
       "\twith 127658239 stored elements in Compressed Sparse Row format>"
      ]
     },
     "execution_count": 6,
     "metadata": {},
     "output_type": "execute_result"
    }
   ],
   "source": [
    "train"
   ]
  },
  {
   "cell_type": "markdown",
   "id": "77b6d830",
   "metadata": {
    "papermill": {
     "duration": 0.005109,
     "end_time": "2022-12-17T01:56:00.110385",
     "exception": false,
     "start_time": "2022-12-17T01:56:00.105276",
     "status": "completed"
    },
    "tags": []
   },
   "source": [
    "## Doing train test split of the train_df.csv"
   ]
  },
  {
   "cell_type": "code",
   "execution_count": 7,
   "id": "683820ca",
   "metadata": {
    "execution": {
     "iopub.execute_input": "2022-12-17T01:56:00.124973Z",
     "iopub.status.busy": "2022-12-17T01:56:00.124527Z",
     "iopub.status.idle": "2022-12-17T01:56:00.928560Z",
     "shell.execute_reply": "2022-12-17T01:56:00.927338Z"
    },
    "papermill": {
     "duration": 0.815505,
     "end_time": "2022-12-17T01:56:00.931215",
     "exception": false,
     "start_time": "2022-12-17T01:56:00.115710",
     "status": "completed"
    },
    "tags": []
   },
   "outputs": [
    {
     "data": {
      "text/plain": [
       "array([0, 0, 0, ..., 0, 0, 0])"
      ]
     },
     "execution_count": 7,
     "metadata": {},
     "output_type": "execute_result"
    }
   ],
   "source": [
    "\n",
    "X_train, X_test, y_train, y_test = train_test_split(\n",
    "    train, train_df.target.values, test_size=0.20)\n",
    "\n",
    "X_train.shape\n",
    "train = X_train\n",
    "test = X_test\n",
    "y_test\n",
    "# train=train\n",
    "# y_train=train_df.target"
   ]
  },
  {
   "cell_type": "code",
   "execution_count": 8,
   "id": "a661f807",
   "metadata": {
    "execution": {
     "iopub.execute_input": "2022-12-17T01:56:00.944607Z",
     "iopub.status.busy": "2022-12-17T01:56:00.944193Z",
     "iopub.status.idle": "2022-12-17T01:56:00.951818Z",
     "shell.execute_reply": "2022-12-17T01:56:00.950521Z"
    },
    "papermill": {
     "duration": 0.016924,
     "end_time": "2022-12-17T01:56:00.954204",
     "exception": false,
     "start_time": "2022-12-17T01:56:00.937280",
     "status": "completed"
    },
    "tags": []
   },
   "outputs": [
    {
     "data": {
      "text/plain": [
       "(800000, 232101)"
      ]
     },
     "execution_count": 8,
     "metadata": {},
     "output_type": "execute_result"
    }
   ],
   "source": [
    "train.shape"
   ]
  },
  {
   "cell_type": "code",
   "execution_count": 9,
   "id": "109887b6",
   "metadata": {
    "execution": {
     "iopub.execute_input": "2022-12-17T01:56:00.967054Z",
     "iopub.status.busy": "2022-12-17T01:56:00.966618Z",
     "iopub.status.idle": "2022-12-17T02:00:50.385833Z",
     "shell.execute_reply": "2022-12-17T02:00:50.384414Z"
    },
    "papermill": {
     "duration": 289.429556,
     "end_time": "2022-12-17T02:00:50.389309",
     "exception": false,
     "start_time": "2022-12-17T01:56:00.959753",
     "status": "completed"
    },
    "tags": []
   },
   "outputs": [
    {
     "name": "stdout",
     "output_type": "stream",
     "text": [
      "train f1 score:  0.7257441128421724\n",
      "test f1 score:  0.640827922077922\n",
      "              precision    recall  f1-score   support\n",
      "\n",
      "           0       0.98      0.98      0.98    750478\n",
      "           1       0.72      0.74      0.73     49522\n",
      "\n",
      "    accuracy                           0.97    800000\n",
      "   macro avg       0.85      0.86      0.85    800000\n",
      "weighted avg       0.97      0.97      0.97    800000\n",
      "\n",
      "[[0.99825259 0.00174741]\n",
      " [0.98901815 0.01098185]\n",
      " [0.99710393 0.00289607]\n",
      " ...\n",
      " [0.97688296 0.02311704]\n",
      " [0.87083843 0.12916157]\n",
      " [0.9835356  0.0164644 ]]\n"
     ]
    }
   ],
   "source": [
    "from sklearn.linear_model import LogisticRegression \n",
    "model = LogisticRegression(dual = False,\n",
    "    class_weight = {0: 0.9, 1: 2},max_iter=10000)\n",
    "# parameters = {'class_weight':[{0:0.2, 1:0.8},{0:0.25,1:0.75},{0:0.3, 1:0.7}]}\n",
    "# model=GridSearchCV(model1,parameters,verbose=4,cv=2,scoring='f1')\n",
    "model.fit(train,y_train)\n",
    "y_pred = model.predict(train)\n",
    "print(\"train f1 score: \",f1_score(y_train,y_pred))\n",
    "print(\"test f1 score: \",f1_score(y_test,model.predict(test)))\n",
    "test_y_pred = model.predict(test_df_matrix)\n",
    "print(metrics.classification_report(y_train,y_pred) )\n",
    "print(model.predict_proba(train))"
   ]
  },
  {
   "cell_type": "code",
   "execution_count": 10,
   "id": "0abb0656",
   "metadata": {
    "execution": {
     "iopub.execute_input": "2022-12-17T02:00:50.403936Z",
     "iopub.status.busy": "2022-12-17T02:00:50.402889Z",
     "iopub.status.idle": "2022-12-17T02:00:51.218648Z",
     "shell.execute_reply": "2022-12-17T02:00:51.217269Z"
    },
    "papermill": {
     "duration": 0.826078,
     "end_time": "2022-12-17T02:00:51.221496",
     "exception": false,
     "start_time": "2022-12-17T02:00:50.395418",
     "status": "completed"
    },
    "tags": []
   },
   "outputs": [
    {
     "name": "stdout",
     "output_type": "stream",
     "text": [
      "train f1 score:  0.7299148547282318\n"
     ]
    }
   ],
   "source": [
    "def custom_predict(X, threshold):\n",
    "    probs = model.predict_proba(X) \n",
    "    return (probs[:, 1] > threshold).astype(int)\n",
    "    \n",
    "Y_pred = custom_predict(train,0.4)\n",
    "print(\"train f1 score: \",f1_score(y_train,Y_pred))"
   ]
  },
  {
   "cell_type": "code",
   "execution_count": 11,
   "id": "2ca3a0fe",
   "metadata": {
    "execution": {
     "iopub.execute_input": "2022-12-17T02:00:51.235605Z",
     "iopub.status.busy": "2022-12-17T02:00:51.235195Z",
     "iopub.status.idle": "2022-12-17T02:00:51.426032Z",
     "shell.execute_reply": "2022-12-17T02:00:51.424581Z"
    },
    "papermill": {
     "duration": 0.202616,
     "end_time": "2022-12-17T02:00:51.430074",
     "exception": false,
     "start_time": "2022-12-17T02:00:51.227458",
     "status": "completed"
    },
    "tags": []
   },
   "outputs": [],
   "source": [
    "test_y_pred = custom_predict(X=test_df_matrix,threshold=0.4)"
   ]
  },
  {
   "cell_type": "code",
   "execution_count": 12,
   "id": "f64bb613",
   "metadata": {
    "execution": {
     "iopub.execute_input": "2022-12-17T02:00:51.450959Z",
     "iopub.status.busy": "2022-12-17T02:00:51.450479Z",
     "iopub.status.idle": "2022-12-17T02:01:09.299213Z",
     "shell.execute_reply": "2022-12-17T02:01:09.297251Z"
    },
    "papermill": {
     "duration": 17.862849,
     "end_time": "2022-12-17T02:01:09.302321",
     "exception": false,
     "start_time": "2022-12-17T02:00:51.439472",
     "status": "completed"
    },
    "tags": []
   },
   "outputs": [
    {
     "name": "stdout",
     "output_type": "stream",
     "text": [
      "\n",
      "******** For i = 0.05 **q****\n",
      "0.4022440507993917\n",
      "\n",
      "******** For i = 0.1 **q****\n",
      "0.5256494286775469\n",
      "\n",
      "******** For i = 0.15 **q****\n",
      "0.6007580864676477\n",
      "\n",
      "******** For i = 0.2 **q****\n",
      "0.6505077574047955\n",
      "\n",
      "******** For i = 0.25 **q****\n",
      "0.6843654667480171\n",
      "\n",
      "******** For i = 0.3 **q****\n",
      "0.7087218155316879\n",
      "\n",
      "******** For i = 0.35 **q****\n",
      "0.7226828596986169\n",
      "\n",
      "******** For i = 0.4 **q****\n",
      "0.7299148547282318\n",
      "\n",
      "******** For i = 0.45 **q****\n",
      "0.7313479594064763\n",
      "\n",
      "******** For i = 0.5 **q****\n",
      "0.7257441128421724\n",
      "\n",
      "******** For i = 0.55 **q****\n",
      "0.7148052925315106\n",
      "\n",
      "******** For i = 0.6 **q****\n",
      "0.696938462213255\n",
      "\n",
      "******** For i = 0.65 **q****\n",
      "0.6727861895591406\n",
      "\n",
      "******** For i = 0.7 **q****\n",
      "0.6402885561263525\n",
      "\n",
      "******** For i = 0.75 **q****\n",
      "0.5974797479747975\n",
      "\n",
      "******** For i = 0.8 **q****\n",
      "0.5408277864519133\n",
      "\n",
      "******** For i = 0.85 **q****\n",
      "0.46741414527339786\n",
      "\n",
      "******** For i = 0.9 **q****\n",
      "0.3683614015484077\n",
      "\n",
      "******** For i = 0.95 **q****\n",
      "0.22402660581294556\n",
      "\n",
      "******** For i = 0.99 **q****\n",
      "0.04654917790686226\n"
     ]
    }
   ],
   "source": [
    "pred_proba_df = pd.DataFrame(model.predict_proba(train))\n",
    "threshold_list = [0.05,0.1,0.15,0.2,0.25,0.3,0.35,0.4,0.45,0.5,0.55,0.6,0.65,.7,.75,.8,.85,.9,.95,.99]\n",
    "for i in threshold_list:\n",
    "    print ('\\n******** For i = {} **q****'.format(i))\n",
    "    Y_test_pred = [1 if j > i else 0 for j in pred_proba_df[1]]\n",
    "#     print((Y_test_pred))\n",
    "#     print(pred_proba_df[1])\n",
    "#     print((Y_test_pred))\n",
    "#     print(y_test.shape)\n",
    "#     print(np.array(Y_test_pred).shape)\n",
    "    \n",
    "    test_accuracy = metrics.f1_score(y_train,Y_test_pred)\n",
    "    print(test_accuracy)\n",
    "#                                          y_train_pred.iloc[:,1].as_matrix().reshape(y_train_pred.iloc[:,1].size,1))\n",
    "#     print('Our testing accuracy is {}'.format(test_accuracy))\n",
    "\n",
    "#     print(confusion_matrix(y_train.reshape(y_train.as_matrix().size,1),\n",
    "#                            y_test_pred.iloc[:,1].as_matrix().reshape(y_test_pred.iloc[:,1].as_matrix().size,1)))"
   ]
  },
  {
   "cell_type": "code",
   "execution_count": 13,
   "id": "27ebae53",
   "metadata": {
    "execution": {
     "iopub.execute_input": "2022-12-17T02:01:09.319081Z",
     "iopub.status.busy": "2022-12-17T02:01:09.318634Z",
     "iopub.status.idle": "2022-12-17T02:01:13.618693Z",
     "shell.execute_reply": "2022-12-17T02:01:13.617165Z"
    },
    "papermill": {
     "duration": 4.311883,
     "end_time": "2022-12-17T02:01:13.621581",
     "exception": false,
     "start_time": "2022-12-17T02:01:09.309698",
     "status": "completed"
    },
    "tags": []
   },
   "outputs": [
    {
     "name": "stdout",
     "output_type": "stream",
     "text": [
      "\n",
      "******** For i = 0.05 ******\n",
      "0.38742873944363676\n",
      "\n",
      "******** For i = 0.1 ******\n",
      "0.4945217391304348\n",
      "\n",
      "******** For i = 0.15 ******\n",
      "0.5559731816334823\n",
      "\n",
      "******** For i = 0.2 ******\n",
      "0.593469295520027\n",
      "\n",
      "******** For i = 0.25 ******\n",
      "0.6177914110429448\n",
      "\n",
      "******** For i = 0.3 ******\n",
      "0.6329612606697308\n",
      "\n",
      "******** For i = 0.35 ******\n",
      "0.6425761531766754\n",
      "\n",
      "******** For i = 0.4 ******\n",
      "0.6461493368505898\n",
      "\n",
      "******** For i = 0.45 ******\n",
      "0.6447571914630373\n",
      "\n",
      "******** For i = 0.5 ******\n",
      "0.640827922077922\n",
      "\n",
      "******** For i = 0.55 ******\n",
      "0.6316552282705997\n",
      "\n",
      "******** For i = 0.6 ******\n",
      "0.6174052894924947\n",
      "\n",
      "******** For i = 0.65 ******\n",
      "0.59791881503703\n",
      "\n",
      "******** For i = 0.7 ******\n",
      "0.572244656751699\n",
      "\n",
      "******** For i = 0.75 ******\n",
      "0.5383136786326562\n",
      "\n",
      "******** For i = 0.8 ******\n",
      "0.4935537190082645\n",
      "\n",
      "******** For i = 0.85 ******\n",
      "0.43065693430656937\n",
      "\n",
      "******** For i = 0.9 ******\n",
      "0.3473664097828164\n",
      "\n",
      "******** For i = 0.95 ******\n",
      "0.21610558260992307\n",
      "\n",
      "******** For i = 0.99 ******\n",
      "0.04531459698428988\n"
     ]
    }
   ],
   "source": [
    "# y_test_pred = [1 if j > 0.05 else 0 for j in pred_proba_df[1]]\n",
    "y_test_pred=[]\n",
    "pred_proba_df = pd.DataFrame(model.predict_proba(test))\n",
    "# for i in range(len(pred_proba_df)):\n",
    "#     if(pred_proba_df[1][i] > 0.45):\n",
    "#         y_test_pred.append(1)\n",
    "#     else:\n",
    "#         y_test_pred.append(0)\n",
    "\n",
    "# test_accuracy = metrics.f1_score(y_test,y_test_pred)\n",
    "# print(test_accuracy)\n",
    "threshold_list = [0.05,0.1,0.15,0.2,0.25,0.3,0.35,0.4,0.45,0.5,0.55,0.6,0.65,.7,.75,.8,.85,.9,.95,.99]\n",
    "for i in threshold_list:\n",
    "    print ('\\n******** For i = {} ******'.format(i))\n",
    "    Y_test_pred = [1 if j > i else 0 for j in pred_proba_df[1]]\n",
    "#     print((Y_test_pred))\n",
    "#     print(pred_proba_df[1])\n",
    "#     print((Y_test_pred))\n",
    "#     print(y_test.shape)\n",
    "#     print(np.array(Y_test_pred).shape)\n",
    "    \n",
    "    test_accuracy = metrics.f1_score(y_test,Y_test_pred)\n",
    "    print(test_accuracy)\n",
    "#                                  \n",
    "\n",
    "\n",
    "\n",
    "# print(y_test_pred)"
   ]
  },
  {
   "cell_type": "code",
   "execution_count": 14,
   "id": "54fb58e9",
   "metadata": {
    "execution": {
     "iopub.execute_input": "2022-12-17T02:01:13.642595Z",
     "iopub.status.busy": "2022-12-17T02:01:13.641301Z",
     "iopub.status.idle": "2022-12-17T02:01:13.650090Z",
     "shell.execute_reply": "2022-12-17T02:01:13.648454Z"
    },
    "papermill": {
     "duration": 0.022076,
     "end_time": "2022-12-17T02:01:13.653073",
     "exception": false,
     "start_time": "2022-12-17T02:01:13.630997",
     "status": "completed"
    },
    "tags": []
   },
   "outputs": [],
   "source": [
    "# # y_test_pred = [1 if j > 0.05 else 0 for j in pred_proba_df[1]]\n",
    "# y_test_pred=[]\n",
    "# pred_proba_df = pd.DataFrame(model.predict_proba(test_df_matrix))\n",
    "# # lund = pred_proba_df.to_numpy().reshape(2,500000)\n",
    "# # print(lund.shape)\n",
    "# # print(pred_proba_df)\n",
    "# # print(pred_proba_df[0][3])\n",
    "# for i in range(len(pred_proba_df)):\n",
    "#     if(pred_proba_df[1][i] > 0.45):\n",
    "#         y_test_pred.append(1)\n",
    "#     else:\n",
    "#         y_test_pred.append(0)\n",
    "\n",
    "# # test_accuracy = metrics.f1_score(y_test,y_test_pred)\n",
    "# # print(test_accuracy)\n",
    "# # print(y_test_pred)\n",
    "# # y_test_pred"
   ]
  },
  {
   "cell_type": "code",
   "execution_count": 15,
   "id": "73d16c8b",
   "metadata": {
    "execution": {
     "iopub.execute_input": "2022-12-17T02:01:13.672632Z",
     "iopub.status.busy": "2022-12-17T02:01:13.672188Z",
     "iopub.status.idle": "2022-12-17T02:01:13.677748Z",
     "shell.execute_reply": "2022-12-17T02:01:13.676245Z"
    },
    "papermill": {
     "duration": 0.019401,
     "end_time": "2022-12-17T02:01:13.680904",
     "exception": false,
     "start_time": "2022-12-17T02:01:13.661503",
     "status": "completed"
    },
    "tags": []
   },
   "outputs": [],
   "source": [
    "# print(metrics.classification_report(y_train,y_pred) )"
   ]
  },
  {
   "cell_type": "code",
   "execution_count": 16,
   "id": "db5f986b",
   "metadata": {
    "execution": {
     "iopub.execute_input": "2022-12-17T02:01:13.699880Z",
     "iopub.status.busy": "2022-12-17T02:01:13.699448Z",
     "iopub.status.idle": "2022-12-17T02:01:14.151416Z",
     "shell.execute_reply": "2022-12-17T02:01:14.150225Z"
    },
    "papermill": {
     "duration": 0.465027,
     "end_time": "2022-12-17T02:01:14.154368",
     "exception": false,
     "start_time": "2022-12-17T02:01:13.689341",
     "status": "completed"
    },
    "tags": []
   },
   "outputs": [],
   "source": [
    "Test_DF_TARGET = pd.DataFrame(test_y_pred,columns=['target'])\n",
    "TEST_DF_QID = pd.DataFrame(test_df ,columns=['qid'])\n",
    "TEST_DF = pd.concat([TEST_DF_QID, Test_DF_TARGET], axis=1, join='inner')\n",
    "TEST_DF.to_csv(\"sample_submission69.csv\",index=False)"
   ]
  }
 ],
 "metadata": {
  "kernelspec": {
   "display_name": "Python 3",
   "language": "python",
   "name": "python3"
  },
  "language_info": {
   "codemirror_mode": {
    "name": "ipython",
    "version": 3
   },
   "file_extension": ".py",
   "mimetype": "text/x-python",
   "name": "python",
   "nbconvert_exporter": "python",
   "pygments_lexer": "ipython3",
   "version": "3.7.12"
  },
  "papermill": {
   "default_parameters": {},
   "duration": 672.77222,
   "end_time": "2022-12-17T02:01:16.888521",
   "environment_variables": {},
   "exception": null,
   "input_path": "__notebook__.ipynb",
   "output_path": "__notebook__.ipynb",
   "parameters": {},
   "start_time": "2022-12-17T01:50:04.116301",
   "version": "2.3.4"
  }
 },
 "nbformat": 4,
 "nbformat_minor": 5
}
