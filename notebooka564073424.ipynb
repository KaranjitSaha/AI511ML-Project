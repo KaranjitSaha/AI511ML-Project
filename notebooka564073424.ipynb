{
 "cells": [
  {
   "cell_type": "markdown",
   "id": "e484a49f",
   "metadata": {
    "papermill": {
     "duration": 0.005095,
     "end_time": "2022-12-07T13:01:41.187275",
     "exception": false,
     "start_time": "2022-12-07T13:01:41.182180",
     "status": "completed"
    },
    "tags": []
   },
   "source": [
    "## Reading Preprocessed data"
   ]
  },
  {
   "cell_type": "code",
   "execution_count": 1,
   "id": "c3f1e116",
   "metadata": {
    "execution": {
     "iopub.execute_input": "2022-12-07T13:01:41.197356Z",
     "iopub.status.busy": "2022-12-07T13:01:41.196661Z",
     "iopub.status.idle": "2022-12-07T13:01:42.600061Z",
     "shell.execute_reply": "2022-12-07T13:01:42.598583Z"
    },
    "papermill": {
     "duration": 1.411998,
     "end_time": "2022-12-07T13:01:42.603198",
     "exception": false,
     "start_time": "2022-12-07T13:01:41.191200",
     "status": "completed"
    },
    "tags": []
   },
   "outputs": [],
   "source": [
    "import numpy as np \n",
    "import pandas as pd\n",
    "from sklearn.model_selection import train_test_split\n",
    "from sklearn import metrics\n",
    "from sklearn.metrics import confusion_matrix,accuracy_score,roc_auc_score,roc_curve,auc,f1_score\n",
    "from sklearn.feature_extraction.text import TfidfVectorizer, CountVectorizer\n",
    "from sklearn.model_selection import GridSearchCV"
   ]
  },
  {
   "cell_type": "code",
   "execution_count": 2,
   "id": "72fad742",
   "metadata": {
    "execution": {
     "iopub.execute_input": "2022-12-07T13:01:42.612228Z",
     "iopub.status.busy": "2022-12-07T13:01:42.611827Z",
     "iopub.status.idle": "2022-12-07T13:01:48.078636Z",
     "shell.execute_reply": "2022-12-07T13:01:48.077100Z"
    },
    "papermill": {
     "duration": 5.474543,
     "end_time": "2022-12-07T13:01:48.081455",
     "exception": false,
     "start_time": "2022-12-07T13:01:42.606912",
     "status": "completed"
    },
    "tags": []
   },
   "outputs": [],
   "source": [
    "train_df = pd.read_csv(\"/kaggle/input/datafiles/train_df.csv\")\n",
    "test_df = pd.read_csv(\"/kaggle/input/datafiles/test_df.csv\")"
   ]
  },
  {
   "cell_type": "code",
   "execution_count": 3,
   "id": "36e78e00",
   "metadata": {
    "execution": {
     "iopub.execute_input": "2022-12-07T13:01:48.090739Z",
     "iopub.status.busy": "2022-12-07T13:01:48.090250Z",
     "iopub.status.idle": "2022-12-07T13:01:48.118355Z",
     "shell.execute_reply": "2022-12-07T13:01:48.117002Z"
    },
    "papermill": {
     "duration": 0.035813,
     "end_time": "2022-12-07T13:01:48.121045",
     "exception": false,
     "start_time": "2022-12-07T13:01:48.085232",
     "status": "completed"
    },
    "tags": []
   },
   "outputs": [
    {
     "data": {
      "text/html": [
       "<div>\n",
       "<style scoped>\n",
       "    .dataframe tbody tr th:only-of-type {\n",
       "        vertical-align: middle;\n",
       "    }\n",
       "\n",
       "    .dataframe tbody tr th {\n",
       "        vertical-align: top;\n",
       "    }\n",
       "\n",
       "    .dataframe thead th {\n",
       "        text-align: right;\n",
       "    }\n",
       "</style>\n",
       "<table border=\"1\" class=\"dataframe\">\n",
       "  <thead>\n",
       "    <tr style=\"text-align: right;\">\n",
       "      <th></th>\n",
       "      <th>qid</th>\n",
       "      <th>question_text</th>\n",
       "    </tr>\n",
       "  </thead>\n",
       "  <tbody>\n",
       "    <tr>\n",
       "      <th>0</th>\n",
       "      <td>a4f3da3a3df9dd881edd</td>\n",
       "      <td>My period is due on my wedding day. How can I ...</td>\n",
       "    </tr>\n",
       "    <tr>\n",
       "      <th>1</th>\n",
       "      <td>9914c62ed3f69684d549</td>\n",
       "      <td>How many numbers higher than a million can be ...</td>\n",
       "    </tr>\n",
       "    <tr>\n",
       "      <th>2</th>\n",
       "      <td>8138ae48649e37091a91</td>\n",
       "      <td>How come I feel nothing for my family, but sti...</td>\n",
       "    </tr>\n",
       "    <tr>\n",
       "      <th>3</th>\n",
       "      <td>981b4753d17ef14d09f7</td>\n",
       "      <td>In case of collapse of the Democratic party, w...</td>\n",
       "    </tr>\n",
       "    <tr>\n",
       "      <th>4</th>\n",
       "      <td>452e2c705276ba16b7b7</td>\n",
       "      <td>Who is Émile Naoumoff?</td>\n",
       "    </tr>\n",
       "    <tr>\n",
       "      <th>...</th>\n",
       "      <td>...</td>\n",
       "      <td>...</td>\n",
       "    </tr>\n",
       "    <tr>\n",
       "      <th>306117</th>\n",
       "      <td>a352dff4fcc2571815ce</td>\n",
       "      <td>Did anyone get an update on Maruti Suzuki All ...</td>\n",
       "    </tr>\n",
       "    <tr>\n",
       "      <th>306118</th>\n",
       "      <td>ad4a8498d97c536c67b9</td>\n",
       "      <td>What 5 people in history do you find the most ...</td>\n",
       "    </tr>\n",
       "    <tr>\n",
       "      <th>306119</th>\n",
       "      <td>19784a27b55d4b453fda</td>\n",
       "      <td>How can I remove the tan on my forehead?</td>\n",
       "    </tr>\n",
       "    <tr>\n",
       "      <th>306120</th>\n",
       "      <td>370191dba26465997879</td>\n",
       "      <td>If you are a well known hacker, will you be mo...</td>\n",
       "    </tr>\n",
       "    <tr>\n",
       "      <th>306121</th>\n",
       "      <td>8077b4a45cea867d4ff2</td>\n",
       "      <td>If your new enemies be bigger and more dangero...</td>\n",
       "    </tr>\n",
       "  </tbody>\n",
       "</table>\n",
       "<p>306122 rows × 2 columns</p>\n",
       "</div>"
      ],
      "text/plain": [
       "                         qid  \\\n",
       "0       a4f3da3a3df9dd881edd   \n",
       "1       9914c62ed3f69684d549   \n",
       "2       8138ae48649e37091a91   \n",
       "3       981b4753d17ef14d09f7   \n",
       "4       452e2c705276ba16b7b7   \n",
       "...                      ...   \n",
       "306117  a352dff4fcc2571815ce   \n",
       "306118  ad4a8498d97c536c67b9   \n",
       "306119  19784a27b55d4b453fda   \n",
       "306120  370191dba26465997879   \n",
       "306121  8077b4a45cea867d4ff2   \n",
       "\n",
       "                                            question_text  \n",
       "0       My period is due on my wedding day. How can I ...  \n",
       "1       How many numbers higher than a million can be ...  \n",
       "2       How come I feel nothing for my family, but sti...  \n",
       "3       In case of collapse of the Democratic party, w...  \n",
       "4                                  Who is Émile Naoumoff?  \n",
       "...                                                   ...  \n",
       "306117  Did anyone get an update on Maruti Suzuki All ...  \n",
       "306118  What 5 people in history do you find the most ...  \n",
       "306119           How can I remove the tan on my forehead?  \n",
       "306120  If you are a well known hacker, will you be mo...  \n",
       "306121  If your new enemies be bigger and more dangero...  \n",
       "\n",
       "[306122 rows x 2 columns]"
      ]
     },
     "execution_count": 3,
     "metadata": {},
     "output_type": "execute_result"
    }
   ],
   "source": [
    "test_df"
   ]
  },
  {
   "cell_type": "markdown",
   "id": "d17ab092",
   "metadata": {
    "papermill": {
     "duration": 0.003708,
     "end_time": "2022-12-07T13:01:48.129002",
     "exception": false,
     "start_time": "2022-12-07T13:01:48.125294",
     "status": "completed"
    },
    "tags": []
   },
   "source": [
    "## Vectorization of the dataset"
   ]
  },
  {
   "cell_type": "code",
   "execution_count": 4,
   "id": "6d66771d",
   "metadata": {
    "execution": {
     "iopub.execute_input": "2022-12-07T13:01:48.138940Z",
     "iopub.status.busy": "2022-12-07T13:01:48.138480Z",
     "iopub.status.idle": "2022-12-07T13:07:20.456709Z",
     "shell.execute_reply": "2022-12-07T13:07:20.455317Z"
    },
    "papermill": {
     "duration": 332.326578,
     "end_time": "2022-12-07T13:07:20.459720",
     "exception": false,
     "start_time": "2022-12-07T13:01:48.133142",
     "status": "completed"
    },
    "tags": []
   },
   "outputs": [],
   "source": [
    "from sklearn.feature_extraction.text import TfidfVectorizer\n",
    "from scipy.sparse import hstack\n",
    "\n",
    "# # from sklearn.feature_extraction.text import TfidfVectorizer\n",
    "\n",
    "# # We can change the number of words counted together and see results on accuracy\n",
    "# CountVectorizer(analyzer='word', ngram_range=(1, 3))\n",
    "\n",
    "word_vectorizer = TfidfVectorizer(\n",
    "    strip_accents = 'unicode',\n",
    "    analyzer = 'word',\n",
    "    ngram_range = (1, 3),\n",
    "#     max_df = 0.5,\n",
    "#     max_features = 150000,\n",
    ")\n",
    "\n",
    "char_vectorizer = TfidfVectorizer(\n",
    "    strip_accents = 'unicode',\n",
    "    analyzer = 'char',\n",
    "    ngram_range = (1, 3),\n",
    "#     max_df = 0.5,\n",
    "#     max_features = 150000,\n",
    ")\n",
    "\n",
    "# # tfidf = TfidfVectorizer()\n",
    "\n",
    "X_train1_wv = word_vectorizer.fit_transform(train_df.question_text.values.astype('U'))\n",
    "# X_validate1_wv = word_vectorizer.transform(X_validate.values.astype('U'))\n",
    "\n",
    "X_train1_cv = char_vectorizer.fit_transform(train_df.question_text.values.astype('U'))\n",
    "# X_validate1_cv = char_vectorizer.transform(X_validate.values.astype('U'))\n",
    "# # X_train = tfidf.fit(X_train)\n",
    "\n",
    "train = hstack((X_train1_wv, X_train1_cv)).tocsr()\n",
    "# X_validate1 = hstack((X_validate1_wv, X_validate1_cv)).tocsr()\n",
    "\n",
    "\n",
    "X_test1_wv = word_vectorizer.transform(test_df.question_text)\n",
    "X_test1_cv = char_vectorizer.transform(test_df.question_text)\n",
    "\n",
    "test_df_matrix = hstack((X_test1_wv, X_test1_cv)).tocsr()\n"
   ]
  },
  {
   "cell_type": "code",
   "execution_count": 5,
   "id": "ec82dbc4",
   "metadata": {
    "execution": {
     "iopub.execute_input": "2022-12-07T13:07:20.470254Z",
     "iopub.status.busy": "2022-12-07T13:07:20.469824Z",
     "iopub.status.idle": "2022-12-07T13:07:20.474713Z",
     "shell.execute_reply": "2022-12-07T13:07:20.473477Z"
    },
    "papermill": {
     "duration": 0.012762,
     "end_time": "2022-12-07T13:07:20.476851",
     "exception": false,
     "start_time": "2022-12-07T13:07:20.464089",
     "status": "completed"
    },
    "tags": []
   },
   "outputs": [],
   "source": [
    "# tfidf = TfidfVectorizer(ngram_range=(1,3))\n",
    "# # Numericalize the train dataset\n",
    "# train = tfidf.fit_transform(train_df.question_text.values.astype('U'))\n",
    "\n",
    "# # for test_df\n",
    "# test_df_matrix = tfidf.transform(test_df.question_text.values.astype('U'))\n",
    "# # print(test_df_matrix.shape)\n",
    "# test_df_matrix"
   ]
  },
  {
   "cell_type": "code",
   "execution_count": 6,
   "id": "c15ce9a7",
   "metadata": {
    "execution": {
     "iopub.execute_input": "2022-12-07T13:07:20.486341Z",
     "iopub.status.busy": "2022-12-07T13:07:20.485948Z",
     "iopub.status.idle": "2022-12-07T13:07:20.492998Z",
     "shell.execute_reply": "2022-12-07T13:07:20.491918Z"
    },
    "papermill": {
     "duration": 0.014495,
     "end_time": "2022-12-07T13:07:20.495280",
     "exception": false,
     "start_time": "2022-12-07T13:07:20.480785",
     "status": "completed"
    },
    "tags": []
   },
   "outputs": [
    {
     "data": {
      "text/plain": [
       "<1000000x8818837 sparse matrix of type '<class 'numpy.float64'>'\n",
       "\twith 170183662 stored elements in Compressed Sparse Row format>"
      ]
     },
     "execution_count": 6,
     "metadata": {},
     "output_type": "execute_result"
    }
   ],
   "source": [
    "train"
   ]
  },
  {
   "cell_type": "markdown",
   "id": "58ee45f8",
   "metadata": {
    "papermill": {
     "duration": 0.00363,
     "end_time": "2022-12-07T13:07:20.502906",
     "exception": false,
     "start_time": "2022-12-07T13:07:20.499276",
     "status": "completed"
    },
    "tags": []
   },
   "source": [
    "## Doing train test split of the train_df.csv"
   ]
  },
  {
   "cell_type": "code",
   "execution_count": 7,
   "id": "36c9053b",
   "metadata": {
    "execution": {
     "iopub.execute_input": "2022-12-07T13:07:20.512429Z",
     "iopub.status.busy": "2022-12-07T13:07:20.512022Z",
     "iopub.status.idle": "2022-12-07T13:07:21.383986Z",
     "shell.execute_reply": "2022-12-07T13:07:21.382784Z"
    },
    "papermill": {
     "duration": 0.8799,
     "end_time": "2022-12-07T13:07:21.386658",
     "exception": false,
     "start_time": "2022-12-07T13:07:20.506758",
     "status": "completed"
    },
    "tags": []
   },
   "outputs": [],
   "source": [
    "\n",
    "X_train, X_test, y_train, y_test = train_test_split(\n",
    "    train, train_df.target.values, test_size=0.90,random_state = 3)\n",
    "\n",
    "X_train.shape\n",
    "train = X_train\n",
    "test = X_test"
   ]
  },
  {
   "cell_type": "code",
   "execution_count": 8,
   "id": "42d4ee49",
   "metadata": {
    "execution": {
     "iopub.execute_input": "2022-12-07T13:07:21.396991Z",
     "iopub.status.busy": "2022-12-07T13:07:21.396582Z",
     "iopub.status.idle": "2022-12-07T13:07:21.403463Z",
     "shell.execute_reply": "2022-12-07T13:07:21.402260Z"
    },
    "papermill": {
     "duration": 0.015134,
     "end_time": "2022-12-07T13:07:21.406123",
     "exception": false,
     "start_time": "2022-12-07T13:07:21.390989",
     "status": "completed"
    },
    "tags": []
   },
   "outputs": [
    {
     "data": {
      "text/plain": [
       "(100000, 8818837)"
      ]
     },
     "execution_count": 8,
     "metadata": {},
     "output_type": "execute_result"
    }
   ],
   "source": [
    "train.shape"
   ]
  },
  {
   "cell_type": "code",
   "execution_count": 9,
   "id": "b6cb084d",
   "metadata": {
    "execution": {
     "iopub.execute_input": "2022-12-07T13:07:21.418369Z",
     "iopub.status.busy": "2022-12-07T13:07:21.417947Z",
     "iopub.status.idle": "2022-12-07T13:10:29.322335Z",
     "shell.execute_reply": "2022-12-07T13:10:29.320505Z"
    },
    "papermill": {
     "duration": 187.914537,
     "end_time": "2022-12-07T13:10:29.325092",
     "exception": false,
     "start_time": "2022-12-07T13:07:21.410555",
     "status": "completed"
    },
    "tags": []
   },
   "outputs": [
    {
     "name": "stdout",
     "output_type": "stream",
     "text": [
      "train f1 score:  0.6735550532773653\n",
      "test f1 score:  0.5612240135171719\n",
      "              precision    recall  f1-score   support\n",
      "\n",
      "           0       0.98      0.98      0.98     93769\n",
      "           1       0.68      0.67      0.67      6231\n",
      "\n",
      "    accuracy                           0.96    100000\n",
      "   macro avg       0.83      0.82      0.83    100000\n",
      "weighted avg       0.96      0.96      0.96    100000\n",
      "\n"
     ]
    }
   ],
   "source": [
    "from sklearn.linear_model import LogisticRegression \n",
    "model = LogisticRegression(penalty='l2', max_iter=50000,solver='lbfgs',\n",
    "                           class_weight = {0: 0.23, 1: 0.77},dual=False)\n",
    "model.fit(train,y_train)\n",
    "y_pred = model.predict(train)\n",
    "print(\"train f1 score: \",f1_score(y_train,y_pred))\n",
    "print(\"test f1 score: \",f1_score(y_test,model.predict(test)))\n",
    "test_y_pred = model.predict(test_df_matrix)\n",
    "print(metrics.classification_report(y_train,y_pred) )"
   ]
  },
  {
   "cell_type": "code",
   "execution_count": 10,
   "id": "b3d900aa",
   "metadata": {
    "execution": {
     "iopub.execute_input": "2022-12-07T13:10:29.336662Z",
     "iopub.status.busy": "2022-12-07T13:10:29.336243Z",
     "iopub.status.idle": "2022-12-07T13:10:29.507068Z",
     "shell.execute_reply": "2022-12-07T13:10:29.505931Z"
    },
    "papermill": {
     "duration": 0.180119,
     "end_time": "2022-12-07T13:10:29.509935",
     "exception": false,
     "start_time": "2022-12-07T13:10:29.329816",
     "status": "completed"
    },
    "tags": []
   },
   "outputs": [
    {
     "name": "stdout",
     "output_type": "stream",
     "text": [
      "              precision    recall  f1-score   support\n",
      "\n",
      "           0       0.98      0.98      0.98     93769\n",
      "           1       0.68      0.67      0.67      6231\n",
      "\n",
      "    accuracy                           0.96    100000\n",
      "   macro avg       0.83      0.82      0.83    100000\n",
      "weighted avg       0.96      0.96      0.96    100000\n",
      "\n"
     ]
    }
   ],
   "source": [
    "print(metrics.classification_report(y_train,y_pred) )"
   ]
  },
  {
   "cell_type": "code",
   "execution_count": 11,
   "id": "3b41438f",
   "metadata": {
    "execution": {
     "iopub.execute_input": "2022-12-07T13:10:29.521510Z",
     "iopub.status.busy": "2022-12-07T13:10:29.521135Z",
     "iopub.status.idle": "2022-12-07T13:10:29.931735Z",
     "shell.execute_reply": "2022-12-07T13:10:29.930471Z"
    },
    "papermill": {
     "duration": 0.419623,
     "end_time": "2022-12-07T13:10:29.934477",
     "exception": false,
     "start_time": "2022-12-07T13:10:29.514854",
     "status": "completed"
    },
    "tags": []
   },
   "outputs": [],
   "source": [
    "Test_DF_TARGET = pd.DataFrame(test_y_pred,columns=['target'])\n",
    "TEST_DF_QID = pd.DataFrame(test_df ,columns=['qid'])\n",
    "TEST_DF = pd.concat([TEST_DF_QID, Test_DF_TARGET], axis=1, join='inner')\n",
    "TEST_DF.to_csv(\"sample_submission_tfidf.csv\",index=False)"
   ]
  }
 ],
 "metadata": {
  "kernelspec": {
   "display_name": "Python 3",
   "language": "python",
   "name": "python3"
  },
  "language_info": {
   "codemirror_mode": {
    "name": "ipython",
    "version": 3
   },
   "file_extension": ".py",
   "mimetype": "text/x-python",
   "name": "python",
   "nbconvert_exporter": "python",
   "pygments_lexer": "ipython3",
   "version": "3.7.12"
  },
  "papermill": {
   "default_parameters": {},
   "duration": 541.851329,
   "end_time": "2022-12-07T13:10:31.967128",
   "environment_variables": {},
   "exception": null,
   "input_path": "__notebook__.ipynb",
   "output_path": "__notebook__.ipynb",
   "parameters": {},
   "start_time": "2022-12-07T13:01:30.115799",
   "version": "2.3.4"
  }
 },
 "nbformat": 4,
 "nbformat_minor": 5
}
