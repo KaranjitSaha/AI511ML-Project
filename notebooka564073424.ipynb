{
 "cells": [
  {
   "cell_type": "markdown",
   "id": "003d64b0",
   "metadata": {
    "papermill": {
     "duration": 0.015148,
     "end_time": "2022-11-15T05:03:21.319988",
     "exception": false,
     "start_time": "2022-11-15T05:03:21.304840",
     "status": "completed"
    },
    "tags": []
   },
   "source": [
    "## Importing important libraries and reading the training and testing data"
   ]
  },
  {
   "cell_type": "code",
   "execution_count": 1,
   "id": "4dfceddd",
   "metadata": {
    "execution": {
     "iopub.execute_input": "2022-11-15T05:03:21.347059Z",
     "iopub.status.busy": "2022-11-15T05:03:21.346246Z",
     "iopub.status.idle": "2022-11-15T05:03:23.277763Z",
     "shell.execute_reply": "2022-11-15T05:03:23.276456Z"
    },
    "papermill": {
     "duration": 1.947724,
     "end_time": "2022-11-15T05:03:23.280208",
     "exception": false,
     "start_time": "2022-11-15T05:03:21.332484",
     "status": "completed"
    },
    "tags": []
   },
   "outputs": [
    {
     "name": "stderr",
     "output_type": "stream",
     "text": [
      "[nltk_data] Downloading package punkt to /usr/share/nltk_data...\n",
      "[nltk_data]   Package punkt is already up-to-date!\n",
      "[nltk_data] Downloading package omw-1.4 to /usr/share/nltk_data...\n",
      "[nltk_data] Downloading package wordnet to /usr/share/nltk_data...\n",
      "[nltk_data]   Package wordnet is already up-to-date!\n",
      "[nltk_data] Downloading package stopwords to /usr/share/nltk_data...\n",
      "[nltk_data]   Package stopwords is already up-to-date!\n"
     ]
    },
    {
     "data": {
      "text/plain": [
       "True"
      ]
     },
     "execution_count": 1,
     "metadata": {},
     "output_type": "execute_result"
    }
   ],
   "source": [
    "import numpy as np \n",
    "import pandas as pd\n",
    "from sklearn.model_selection import train_test_split\n",
    "from sklearn import metrics\n",
    "from sklearn.feature_extraction.text import TfidfVectorizer, CountVectorizer\n",
    "import re\n",
    "import string\n",
    "import nltk\n",
    "nltk.download('punkt')\n",
    "from nltk.tokenize import sent_tokenize,word_tokenize\n",
    "nltk.download('omw-1.4')\n",
    "from nltk.stem import WordNetLemmatizer\n",
    "nltk.download('wordnet')\n",
    "from nltk.corpus import stopwords\n",
    "nltk.download('stopwords')"
   ]
  },
  {
   "cell_type": "code",
   "execution_count": 2,
   "id": "60765df9",
   "metadata": {
    "execution": {
     "iopub.execute_input": "2022-11-15T05:03:23.316303Z",
     "iopub.status.busy": "2022-11-15T05:03:23.315244Z",
     "iopub.status.idle": "2022-11-15T05:03:28.418972Z",
     "shell.execute_reply": "2022-11-15T05:03:28.417672Z"
    },
    "papermill": {
     "duration": 5.121854,
     "end_time": "2022-11-15T05:03:28.421882",
     "exception": false,
     "start_time": "2022-11-15T05:03:23.300028",
     "status": "completed"
    },
    "tags": []
   },
   "outputs": [],
   "source": [
    "train_df = pd.read_csv(\"../input/datafiles/train_df.csv\")\n",
    "test_df = pd.read_csv(\"../input/datafiles/test_df.csv\")"
   ]
  },
  {
   "cell_type": "markdown",
   "id": "f01cbcf9",
   "metadata": {
    "papermill": {
     "duration": 0.012896,
     "end_time": "2022-11-15T05:03:28.447485",
     "exception": false,
     "start_time": "2022-11-15T05:03:28.434589",
     "status": "completed"
    },
    "tags": []
   },
   "source": [
    "## EDA of training data"
   ]
  },
  {
   "cell_type": "markdown",
   "id": "3472b281",
   "metadata": {
    "papermill": {
     "duration": 0.0121,
     "end_time": "2022-11-15T05:03:28.472252",
     "exception": false,
     "start_time": "2022-11-15T05:03:28.460152",
     "status": "completed"
    },
    "tags": []
   },
   "source": [
    "### Checking for null values, invalid target values and duplicated rows"
   ]
  },
  {
   "cell_type": "code",
   "execution_count": 3,
   "id": "f439d248",
   "metadata": {
    "execution": {
     "iopub.execute_input": "2022-11-15T05:03:28.498641Z",
     "iopub.status.busy": "2022-11-15T05:03:28.498205Z",
     "iopub.status.idle": "2022-11-15T05:03:28.562551Z",
     "shell.execute_reply": "2022-11-15T05:03:28.561385Z"
    },
    "papermill": {
     "duration": 0.080942,
     "end_time": "2022-11-15T05:03:28.565534",
     "exception": false,
     "start_time": "2022-11-15T05:03:28.484592",
     "status": "completed"
    },
    "tags": []
   },
   "outputs": [
    {
     "data": {
      "text/html": [
       "<div>\n",
       "<style scoped>\n",
       "    .dataframe tbody tr th:only-of-type {\n",
       "        vertical-align: middle;\n",
       "    }\n",
       "\n",
       "    .dataframe tbody tr th {\n",
       "        vertical-align: top;\n",
       "    }\n",
       "\n",
       "    .dataframe thead th {\n",
       "        text-align: right;\n",
       "    }\n",
       "</style>\n",
       "<table border=\"1\" class=\"dataframe\">\n",
       "  <thead>\n",
       "    <tr style=\"text-align: right;\">\n",
       "      <th></th>\n",
       "      <th>target</th>\n",
       "    </tr>\n",
       "  </thead>\n",
       "  <tbody>\n",
       "    <tr>\n",
       "      <th>count</th>\n",
       "      <td>1000000.000000</td>\n",
       "    </tr>\n",
       "    <tr>\n",
       "      <th>mean</th>\n",
       "      <td>0.061870</td>\n",
       "    </tr>\n",
       "    <tr>\n",
       "      <th>std</th>\n",
       "      <td>0.240919</td>\n",
       "    </tr>\n",
       "    <tr>\n",
       "      <th>min</th>\n",
       "      <td>0.000000</td>\n",
       "    </tr>\n",
       "    <tr>\n",
       "      <th>25%</th>\n",
       "      <td>0.000000</td>\n",
       "    </tr>\n",
       "    <tr>\n",
       "      <th>50%</th>\n",
       "      <td>0.000000</td>\n",
       "    </tr>\n",
       "    <tr>\n",
       "      <th>75%</th>\n",
       "      <td>0.000000</td>\n",
       "    </tr>\n",
       "    <tr>\n",
       "      <th>max</th>\n",
       "      <td>1.000000</td>\n",
       "    </tr>\n",
       "  </tbody>\n",
       "</table>\n",
       "</div>"
      ],
      "text/plain": [
       "               target\n",
       "count  1000000.000000\n",
       "mean         0.061870\n",
       "std          0.240919\n",
       "min          0.000000\n",
       "25%          0.000000\n",
       "50%          0.000000\n",
       "75%          0.000000\n",
       "max          1.000000"
      ]
     },
     "execution_count": 3,
     "metadata": {},
     "output_type": "execute_result"
    }
   ],
   "source": [
    "train_df.describe()"
   ]
  },
  {
   "cell_type": "code",
   "execution_count": 4,
   "id": "85c31d51",
   "metadata": {
    "execution": {
     "iopub.execute_input": "2022-11-15T05:03:28.592953Z",
     "iopub.status.busy": "2022-11-15T05:03:28.592533Z",
     "iopub.status.idle": "2022-11-15T05:03:28.695044Z",
     "shell.execute_reply": "2022-11-15T05:03:28.694026Z"
    },
    "papermill": {
     "duration": 0.118871,
     "end_time": "2022-11-15T05:03:28.697351",
     "exception": false,
     "start_time": "2022-11-15T05:03:28.578480",
     "status": "completed"
    },
    "tags": []
   },
   "outputs": [
    {
     "data": {
      "text/plain": [
       "qid              0\n",
       "question_text    0\n",
       "target           0\n",
       "dtype: int64"
      ]
     },
     "execution_count": 4,
     "metadata": {},
     "output_type": "execute_result"
    }
   ],
   "source": [
    "train_df.isna().sum()"
   ]
  },
  {
   "cell_type": "code",
   "execution_count": 5,
   "id": "5dc0a2dd",
   "metadata": {
    "execution": {
     "iopub.execute_input": "2022-11-15T05:03:28.725482Z",
     "iopub.status.busy": "2022-11-15T05:03:28.724292Z",
     "iopub.status.idle": "2022-11-15T05:03:28.739014Z",
     "shell.execute_reply": "2022-11-15T05:03:28.737888Z"
    },
    "papermill": {
     "duration": 0.031163,
     "end_time": "2022-11-15T05:03:28.741303",
     "exception": false,
     "start_time": "2022-11-15T05:03:28.710140",
     "status": "completed"
    },
    "tags": []
   },
   "outputs": [
    {
     "data": {
      "text/plain": [
       "array([0, 1])"
      ]
     },
     "execution_count": 5,
     "metadata": {},
     "output_type": "execute_result"
    }
   ],
   "source": [
    "train_df[\"target\"].unique()"
   ]
  },
  {
   "cell_type": "code",
   "execution_count": 6,
   "id": "95a1a889",
   "metadata": {
    "execution": {
     "iopub.execute_input": "2022-11-15T05:03:28.769091Z",
     "iopub.status.busy": "2022-11-15T05:03:28.768268Z",
     "iopub.status.idle": "2022-11-15T05:03:29.525985Z",
     "shell.execute_reply": "2022-11-15T05:03:29.524959Z"
    },
    "papermill": {
     "duration": 0.773932,
     "end_time": "2022-11-15T05:03:29.528251",
     "exception": false,
     "start_time": "2022-11-15T05:03:28.754319",
     "status": "completed"
    },
    "tags": []
   },
   "outputs": [
    {
     "data": {
      "text/plain": [
       "Int64Index([], dtype='int64')"
      ]
     },
     "execution_count": 6,
     "metadata": {},
     "output_type": "execute_result"
    }
   ],
   "source": [
    "train_df.index[train_df.duplicated()]"
   ]
  },
  {
   "cell_type": "markdown",
   "id": "f792fc89",
   "metadata": {
    "papermill": {
     "duration": 0.012392,
     "end_time": "2022-11-15T05:03:29.553560",
     "exception": false,
     "start_time": "2022-11-15T05:03:29.541168",
     "status": "completed"
    },
    "tags": []
   },
   "source": [
    "## EDA of testing data"
   ]
  },
  {
   "cell_type": "markdown",
   "id": "74e9ac0f",
   "metadata": {
    "papermill": {
     "duration": 0.012507,
     "end_time": "2022-11-15T05:03:29.578853",
     "exception": false,
     "start_time": "2022-11-15T05:03:29.566346",
     "status": "completed"
    },
    "tags": []
   },
   "source": [
    "### Checking for null values and duplicated rows"
   ]
  },
  {
   "cell_type": "code",
   "execution_count": 7,
   "id": "2f58daa7",
   "metadata": {
    "execution": {
     "iopub.execute_input": "2022-11-15T05:03:29.606408Z",
     "iopub.status.busy": "2022-11-15T05:03:29.606007Z",
     "iopub.status.idle": "2022-11-15T05:03:29.618017Z",
     "shell.execute_reply": "2022-11-15T05:03:29.617226Z"
    },
    "papermill": {
     "duration": 0.028523,
     "end_time": "2022-11-15T05:03:29.620240",
     "exception": false,
     "start_time": "2022-11-15T05:03:29.591717",
     "status": "completed"
    },
    "tags": []
   },
   "outputs": [
    {
     "data": {
      "text/html": [
       "<div>\n",
       "<style scoped>\n",
       "    .dataframe tbody tr th:only-of-type {\n",
       "        vertical-align: middle;\n",
       "    }\n",
       "\n",
       "    .dataframe tbody tr th {\n",
       "        vertical-align: top;\n",
       "    }\n",
       "\n",
       "    .dataframe thead th {\n",
       "        text-align: right;\n",
       "    }\n",
       "</style>\n",
       "<table border=\"1\" class=\"dataframe\">\n",
       "  <thead>\n",
       "    <tr style=\"text-align: right;\">\n",
       "      <th></th>\n",
       "      <th>qid</th>\n",
       "      <th>question_text</th>\n",
       "    </tr>\n",
       "  </thead>\n",
       "  <tbody>\n",
       "    <tr>\n",
       "      <th>0</th>\n",
       "      <td>a4f3da3a3df9dd881edd</td>\n",
       "      <td>My period is due on my wedding day. How can I ...</td>\n",
       "    </tr>\n",
       "    <tr>\n",
       "      <th>1</th>\n",
       "      <td>9914c62ed3f69684d549</td>\n",
       "      <td>How many numbers higher than a million can be ...</td>\n",
       "    </tr>\n",
       "    <tr>\n",
       "      <th>2</th>\n",
       "      <td>8138ae48649e37091a91</td>\n",
       "      <td>How come I feel nothing for my family, but sti...</td>\n",
       "    </tr>\n",
       "    <tr>\n",
       "      <th>3</th>\n",
       "      <td>981b4753d17ef14d09f7</td>\n",
       "      <td>In case of collapse of the Democratic party, w...</td>\n",
       "    </tr>\n",
       "    <tr>\n",
       "      <th>4</th>\n",
       "      <td>452e2c705276ba16b7b7</td>\n",
       "      <td>Who is Émile Naoumoff?</td>\n",
       "    </tr>\n",
       "    <tr>\n",
       "      <th>...</th>\n",
       "      <td>...</td>\n",
       "      <td>...</td>\n",
       "    </tr>\n",
       "    <tr>\n",
       "      <th>306117</th>\n",
       "      <td>a352dff4fcc2571815ce</td>\n",
       "      <td>Did anyone get an update on Maruti Suzuki All ...</td>\n",
       "    </tr>\n",
       "    <tr>\n",
       "      <th>306118</th>\n",
       "      <td>ad4a8498d97c536c67b9</td>\n",
       "      <td>What 5 people in history do you find the most ...</td>\n",
       "    </tr>\n",
       "    <tr>\n",
       "      <th>306119</th>\n",
       "      <td>19784a27b55d4b453fda</td>\n",
       "      <td>How can I remove the tan on my forehead?</td>\n",
       "    </tr>\n",
       "    <tr>\n",
       "      <th>306120</th>\n",
       "      <td>370191dba26465997879</td>\n",
       "      <td>If you are a well known hacker, will you be mo...</td>\n",
       "    </tr>\n",
       "    <tr>\n",
       "      <th>306121</th>\n",
       "      <td>8077b4a45cea867d4ff2</td>\n",
       "      <td>If your new enemies be bigger and more dangero...</td>\n",
       "    </tr>\n",
       "  </tbody>\n",
       "</table>\n",
       "<p>306122 rows × 2 columns</p>\n",
       "</div>"
      ],
      "text/plain": [
       "                         qid  \\\n",
       "0       a4f3da3a3df9dd881edd   \n",
       "1       9914c62ed3f69684d549   \n",
       "2       8138ae48649e37091a91   \n",
       "3       981b4753d17ef14d09f7   \n",
       "4       452e2c705276ba16b7b7   \n",
       "...                      ...   \n",
       "306117  a352dff4fcc2571815ce   \n",
       "306118  ad4a8498d97c536c67b9   \n",
       "306119  19784a27b55d4b453fda   \n",
       "306120  370191dba26465997879   \n",
       "306121  8077b4a45cea867d4ff2   \n",
       "\n",
       "                                            question_text  \n",
       "0       My period is due on my wedding day. How can I ...  \n",
       "1       How many numbers higher than a million can be ...  \n",
       "2       How come I feel nothing for my family, but sti...  \n",
       "3       In case of collapse of the Democratic party, w...  \n",
       "4                                  Who is Émile Naoumoff?  \n",
       "...                                                   ...  \n",
       "306117  Did anyone get an update on Maruti Suzuki All ...  \n",
       "306118  What 5 people in history do you find the most ...  \n",
       "306119           How can I remove the tan on my forehead?  \n",
       "306120  If you are a well known hacker, will you be mo...  \n",
       "306121  If your new enemies be bigger and more dangero...  \n",
       "\n",
       "[306122 rows x 2 columns]"
      ]
     },
     "execution_count": 7,
     "metadata": {},
     "output_type": "execute_result"
    }
   ],
   "source": [
    "test_df"
   ]
  },
  {
   "cell_type": "code",
   "execution_count": 8,
   "id": "bd9f1804",
   "metadata": {
    "execution": {
     "iopub.execute_input": "2022-11-15T05:03:29.648634Z",
     "iopub.status.busy": "2022-11-15T05:03:29.647518Z",
     "iopub.status.idle": "2022-11-15T05:03:29.685248Z",
     "shell.execute_reply": "2022-11-15T05:03:29.684181Z"
    },
    "papermill": {
     "duration": 0.054205,
     "end_time": "2022-11-15T05:03:29.687442",
     "exception": false,
     "start_time": "2022-11-15T05:03:29.633237",
     "status": "completed"
    },
    "tags": []
   },
   "outputs": [
    {
     "data": {
      "text/plain": [
       "qid              0\n",
       "question_text    0\n",
       "dtype: int64"
      ]
     },
     "execution_count": 8,
     "metadata": {},
     "output_type": "execute_result"
    }
   ],
   "source": [
    "test_df.isna().sum()"
   ]
  },
  {
   "cell_type": "code",
   "execution_count": 9,
   "id": "e192b66c",
   "metadata": {
    "execution": {
     "iopub.execute_input": "2022-11-15T05:03:29.716875Z",
     "iopub.status.busy": "2022-11-15T05:03:29.715527Z",
     "iopub.status.idle": "2022-11-15T05:03:29.938105Z",
     "shell.execute_reply": "2022-11-15T05:03:29.937054Z"
    },
    "papermill": {
     "duration": 0.239229,
     "end_time": "2022-11-15T05:03:29.940318",
     "exception": false,
     "start_time": "2022-11-15T05:03:29.701089",
     "status": "completed"
    },
    "tags": []
   },
   "outputs": [
    {
     "data": {
      "text/plain": [
       "Int64Index([], dtype='int64')"
      ]
     },
     "execution_count": 9,
     "metadata": {},
     "output_type": "execute_result"
    }
   ],
   "source": [
    "test_df.index[test_df.duplicated()]"
   ]
  },
  {
   "cell_type": "markdown",
   "id": "fc5ed025",
   "metadata": {
    "papermill": {
     "duration": 0.012871,
     "end_time": "2022-11-15T05:03:29.966452",
     "exception": false,
     "start_time": "2022-11-15T05:03:29.953581",
     "status": "completed"
    },
    "tags": []
   },
   "source": [
    "## Preprocessing training and testing data"
   ]
  },
  {
   "cell_type": "markdown",
   "id": "b301aa50",
   "metadata": {
    "papermill": {
     "duration": 0.012867,
     "end_time": "2022-11-15T05:03:29.992467",
     "exception": false,
     "start_time": "2022-11-15T05:03:29.979600",
     "status": "completed"
    },
    "tags": []
   },
   "source": [
    "### Cleaning the text\n",
    "Common data cleaning steps on all text:\n",
    "\n",
    "1.Make text all lower case\n",
    "\n",
    "2.Remove punctuation\n",
    "\n",
    "3.Remove numerical values\n",
    "\n",
    "4.Remove common non-sensical text (/n)\n",
    "\n",
    "5.Tokenize text\n",
    "\n",
    "6.Remove stop words\n",
    "\n",
    "7.Stemming / lemmatization\n"
   ]
  },
  {
   "cell_type": "markdown",
   "id": "08b216a6",
   "metadata": {
    "papermill": {
     "duration": 0.012897,
     "end_time": "2022-11-15T05:03:30.018862",
     "exception": false,
     "start_time": "2022-11-15T05:03:30.005965",
     "status": "completed"
    },
    "tags": []
   },
   "source": [
    "### Here (in round 1) we are doing the following things:-\n",
    "1. Removing text in square brackets\n",
    "2. Removing punctuation marks from the text\n",
    "3. Removing words containing numbers."
   ]
  },
  {
   "cell_type": "code",
   "execution_count": 10,
   "id": "e541cf07",
   "metadata": {
    "execution": {
     "iopub.execute_input": "2022-11-15T05:03:30.047134Z",
     "iopub.status.busy": "2022-11-15T05:03:30.046717Z",
     "iopub.status.idle": "2022-11-15T05:03:30.053182Z",
     "shell.execute_reply": "2022-11-15T05:03:30.052106Z"
    },
    "papermill": {
     "duration": 0.023228,
     "end_time": "2022-11-15T05:03:30.055330",
     "exception": false,
     "start_time": "2022-11-15T05:03:30.032102",
     "status": "completed"
    },
    "tags": []
   },
   "outputs": [],
   "source": [
    "def clean_text_round1(text):\n",
    "    '''remove text in square brackets, remove punctuation and remove words containing numbers.'''\n",
    "    # text = text.lower()\n",
    "    text = re.sub('\\[.*?\\]', '', text)\n",
    "    text = re.sub('[%s]' % re.escape(string.punctuation), '', text)\n",
    "    text = re.sub('\\w*\\d\\w*', '', text)\n",
    "    return text\n",
    "\n",
    "round1 = lambda x: clean_text_round1(x)"
   ]
  },
  {
   "cell_type": "code",
   "execution_count": 11,
   "id": "13044179",
   "metadata": {
    "execution": {
     "iopub.execute_input": "2022-11-15T05:03:30.083848Z",
     "iopub.status.busy": "2022-11-15T05:03:30.083432Z",
     "iopub.status.idle": "2022-11-15T05:03:49.760612Z",
     "shell.execute_reply": "2022-11-15T05:03:49.759541Z"
    },
    "papermill": {
     "duration": 19.694715,
     "end_time": "2022-11-15T05:03:49.763427",
     "exception": false,
     "start_time": "2022-11-15T05:03:30.068712",
     "status": "completed"
    },
    "tags": []
   },
   "outputs": [],
   "source": [
    "train_df.question_text= train_df.question_text.apply(round1)\n",
    "test_df.question_text= test_df.question_text.apply(round1)"
   ]
  },
  {
   "cell_type": "markdown",
   "id": "383d2e06",
   "metadata": {
    "papermill": {
     "duration": 0.012943,
     "end_time": "2022-11-15T05:03:49.789834",
     "exception": false,
     "start_time": "2022-11-15T05:03:49.776891",
     "status": "completed"
    },
    "tags": []
   },
   "source": [
    "### Here (in round2) we are doing:-\n",
    "1. Getting rid of additional punctuation\n",
    "2. Removing some non-sensical text\n",
    "3. Removing urls\n",
    "4. Removing HTML tags"
   ]
  },
  {
   "cell_type": "code",
   "execution_count": 12,
   "id": "935e7215",
   "metadata": {
    "execution": {
     "iopub.execute_input": "2022-11-15T05:03:49.818181Z",
     "iopub.status.busy": "2022-11-15T05:03:49.817588Z",
     "iopub.status.idle": "2022-11-15T05:03:49.823060Z",
     "shell.execute_reply": "2022-11-15T05:03:49.822241Z"
    },
    "papermill": {
     "duration": 0.02196,
     "end_time": "2022-11-15T05:03:49.825042",
     "exception": false,
     "start_time": "2022-11-15T05:03:49.803082",
     "status": "completed"
    },
    "tags": []
   },
   "outputs": [],
   "source": [
    "# Apply a second round of cleaning\n",
    "def clean_text_round2(text):\n",
    "    '''Get rid of some additional punctuation and non-sensical text that was missed the first time around.'''\n",
    "    text = re.sub('[‘’“”…]', '', text)\n",
    "    text = re.sub('\\n', '', text)\n",
    "    text = re.sub(r\"http\\S+\", '', text)\n",
    "    text = re.sub(re.compile('<.*?>') , '', text)\n",
    "\n",
    "    return text\n",
    "round2 = lambda x: clean_text_round2(x)"
   ]
  },
  {
   "cell_type": "code",
   "execution_count": 13,
   "id": "b21e51ab",
   "metadata": {
    "execution": {
     "iopub.execute_input": "2022-11-15T05:03:49.853320Z",
     "iopub.status.busy": "2022-11-15T05:03:49.852581Z",
     "iopub.status.idle": "2022-11-15T05:03:58.412769Z",
     "shell.execute_reply": "2022-11-15T05:03:58.411657Z"
    },
    "papermill": {
     "duration": 8.576991,
     "end_time": "2022-11-15T05:03:58.415241",
     "exception": false,
     "start_time": "2022-11-15T05:03:49.838250",
     "status": "completed"
    },
    "tags": []
   },
   "outputs": [
    {
     "data": {
      "text/plain": [
       "0         My period is due on my wedding day How can I s...\n",
       "1         How many numbers higher than a million can be ...\n",
       "2         How come I feel nothing for my family but stil...\n",
       "3         In case of collapse of the Democratic party wi...\n",
       "4                                     Who is Émile Naoumoff\n",
       "                                ...                        \n",
       "306117    Did anyone get an update on Maruti Suzuki All ...\n",
       "306118    What  people in history do you find the most i...\n",
       "306119              How can I remove the tan on my forehead\n",
       "306120    If you are a well known hacker will you be mor...\n",
       "306121    If your new enemies be bigger and more dangero...\n",
       "Name: question_text, Length: 306122, dtype: object"
      ]
     },
     "execution_count": 13,
     "metadata": {},
     "output_type": "execute_result"
    }
   ],
   "source": [
    "train_df.question_text= train_df.question_text.apply(round2)\n",
    "test_df.question_text= test_df.question_text.apply(round2)\n",
    "test_df.question_text"
   ]
  },
  {
   "cell_type": "markdown",
   "id": "16d9fd2a",
   "metadata": {
    "papermill": {
     "duration": 0.012837,
     "end_time": "2022-11-15T05:03:58.441483",
     "exception": false,
     "start_time": "2022-11-15T05:03:58.428646",
     "status": "completed"
    },
    "tags": []
   },
   "source": [
    "### Tokenization\n",
    "Tokenization is the process of segmenting running text into sentences and words. In essence, it’s the task of cutting a text into pieces called tokens. \n",
    "$\\newline$ Here we are going to use word tokenizer i.e. the words are the tokens"
   ]
  },
  {
   "cell_type": "code",
   "execution_count": 14,
   "id": "f9fa4728",
   "metadata": {
    "execution": {
     "iopub.execute_input": "2022-11-15T05:03:58.470368Z",
     "iopub.status.busy": "2022-11-15T05:03:58.469438Z",
     "iopub.status.idle": "2022-11-15T05:06:31.486414Z",
     "shell.execute_reply": "2022-11-15T05:06:31.485219Z"
    },
    "papermill": {
     "duration": 153.034394,
     "end_time": "2022-11-15T05:06:31.489311",
     "exception": false,
     "start_time": "2022-11-15T05:03:58.454917",
     "status": "completed"
    },
    "tags": []
   },
   "outputs": [],
   "source": [
    "def tokenization(text):\n",
    "    return word_tokenize(text)\n",
    "# applying function to the column\n",
    "train_df['question_text']= train_df['question_text'].apply(lambda x: tokenization(x))\n",
    "test_df['question_text']= test_df['question_text'].apply(lambda x: tokenization(x))"
   ]
  },
  {
   "cell_type": "code",
   "execution_count": 15,
   "id": "4d584e00",
   "metadata": {
    "execution": {
     "iopub.execute_input": "2022-11-15T05:06:31.519868Z",
     "iopub.status.busy": "2022-11-15T05:06:31.518554Z",
     "iopub.status.idle": "2022-11-15T05:06:31.532109Z",
     "shell.execute_reply": "2022-11-15T05:06:31.530961Z"
    },
    "papermill": {
     "duration": 0.031254,
     "end_time": "2022-11-15T05:06:31.534752",
     "exception": false,
     "start_time": "2022-11-15T05:06:31.503498",
     "status": "completed"
    },
    "tags": []
   },
   "outputs": [
    {
     "data": {
      "text/plain": [
       "0         [What, are, interesting, facts, about, Microso...\n",
       "1         [What, are, those, things, which, are, not, go...\n",
       "2         [What, should, I, know, to, avoid, being, upso...\n",
       "3          [How, I, add, any, account, with, payment, bank]\n",
       "4         [Which, Multi, level, marketing, products, are...\n",
       "                                ...                        \n",
       "999995                     [How, is, CSE, at, VIT, Chennai]\n",
       "999996    [How, can, we, prevent, a, holocaust, by, robo...\n",
       "999997    [How, can, I, help, a, student, remember, key,...\n",
       "999998    [What, is, the, difference, between, lace, clo...\n",
       "999999    [What, happens, when, you, look, into, a, brok...\n",
       "Name: question_text, Length: 1000000, dtype: object"
      ]
     },
     "execution_count": 15,
     "metadata": {},
     "output_type": "execute_result"
    }
   ],
   "source": [
    "train_df.question_text"
   ]
  },
  {
   "cell_type": "code",
   "execution_count": 16,
   "id": "63a3c961",
   "metadata": {
    "execution": {
     "iopub.execute_input": "2022-11-15T05:06:31.564348Z",
     "iopub.status.busy": "2022-11-15T05:06:31.563566Z",
     "iopub.status.idle": "2022-11-15T05:06:31.580092Z",
     "shell.execute_reply": "2022-11-15T05:06:31.578955Z"
    },
    "papermill": {
     "duration": 0.034121,
     "end_time": "2022-11-15T05:06:31.582508",
     "exception": false,
     "start_time": "2022-11-15T05:06:31.548387",
     "status": "completed"
    },
    "tags": []
   },
   "outputs": [
    {
     "data": {
      "text/html": [
       "<div>\n",
       "<style scoped>\n",
       "    .dataframe tbody tr th:only-of-type {\n",
       "        vertical-align: middle;\n",
       "    }\n",
       "\n",
       "    .dataframe tbody tr th {\n",
       "        vertical-align: top;\n",
       "    }\n",
       "\n",
       "    .dataframe thead th {\n",
       "        text-align: right;\n",
       "    }\n",
       "</style>\n",
       "<table border=\"1\" class=\"dataframe\">\n",
       "  <thead>\n",
       "    <tr style=\"text-align: right;\">\n",
       "      <th></th>\n",
       "      <th>qid</th>\n",
       "      <th>question_text</th>\n",
       "    </tr>\n",
       "  </thead>\n",
       "  <tbody>\n",
       "    <tr>\n",
       "      <th>0</th>\n",
       "      <td>a4f3da3a3df9dd881edd</td>\n",
       "      <td>[My, period, is, due, on, my, wedding, day, Ho...</td>\n",
       "    </tr>\n",
       "    <tr>\n",
       "      <th>1</th>\n",
       "      <td>9914c62ed3f69684d549</td>\n",
       "      <td>[How, many, numbers, higher, than, a, million,...</td>\n",
       "    </tr>\n",
       "    <tr>\n",
       "      <th>2</th>\n",
       "      <td>8138ae48649e37091a91</td>\n",
       "      <td>[How, come, I, feel, nothing, for, my, family,...</td>\n",
       "    </tr>\n",
       "    <tr>\n",
       "      <th>3</th>\n",
       "      <td>981b4753d17ef14d09f7</td>\n",
       "      <td>[In, case, of, collapse, of, the, Democratic, ...</td>\n",
       "    </tr>\n",
       "    <tr>\n",
       "      <th>4</th>\n",
       "      <td>452e2c705276ba16b7b7</td>\n",
       "      <td>[Who, is, Émile, Naoumoff]</td>\n",
       "    </tr>\n",
       "    <tr>\n",
       "      <th>...</th>\n",
       "      <td>...</td>\n",
       "      <td>...</td>\n",
       "    </tr>\n",
       "    <tr>\n",
       "      <th>306117</th>\n",
       "      <td>a352dff4fcc2571815ce</td>\n",
       "      <td>[Did, anyone, get, an, update, on, Maruti, Suz...</td>\n",
       "    </tr>\n",
       "    <tr>\n",
       "      <th>306118</th>\n",
       "      <td>ad4a8498d97c536c67b9</td>\n",
       "      <td>[What, people, in, history, do, you, find, the...</td>\n",
       "    </tr>\n",
       "    <tr>\n",
       "      <th>306119</th>\n",
       "      <td>19784a27b55d4b453fda</td>\n",
       "      <td>[How, can, I, remove, the, tan, on, my, forehead]</td>\n",
       "    </tr>\n",
       "    <tr>\n",
       "      <th>306120</th>\n",
       "      <td>370191dba26465997879</td>\n",
       "      <td>[If, you, are, a, well, known, hacker, will, y...</td>\n",
       "    </tr>\n",
       "    <tr>\n",
       "      <th>306121</th>\n",
       "      <td>8077b4a45cea867d4ff2</td>\n",
       "      <td>[If, your, new, enemies, be, bigger, and, more...</td>\n",
       "    </tr>\n",
       "  </tbody>\n",
       "</table>\n",
       "<p>306122 rows × 2 columns</p>\n",
       "</div>"
      ],
      "text/plain": [
       "                         qid  \\\n",
       "0       a4f3da3a3df9dd881edd   \n",
       "1       9914c62ed3f69684d549   \n",
       "2       8138ae48649e37091a91   \n",
       "3       981b4753d17ef14d09f7   \n",
       "4       452e2c705276ba16b7b7   \n",
       "...                      ...   \n",
       "306117  a352dff4fcc2571815ce   \n",
       "306118  ad4a8498d97c536c67b9   \n",
       "306119  19784a27b55d4b453fda   \n",
       "306120  370191dba26465997879   \n",
       "306121  8077b4a45cea867d4ff2   \n",
       "\n",
       "                                            question_text  \n",
       "0       [My, period, is, due, on, my, wedding, day, Ho...  \n",
       "1       [How, many, numbers, higher, than, a, million,...  \n",
       "2       [How, come, I, feel, nothing, for, my, family,...  \n",
       "3       [In, case, of, collapse, of, the, Democratic, ...  \n",
       "4                              [Who, is, Émile, Naoumoff]  \n",
       "...                                                   ...  \n",
       "306117  [Did, anyone, get, an, update, on, Maruti, Suz...  \n",
       "306118  [What, people, in, history, do, you, find, the...  \n",
       "306119  [How, can, I, remove, the, tan, on, my, forehead]  \n",
       "306120  [If, you, are, a, well, known, hacker, will, y...  \n",
       "306121  [If, your, new, enemies, be, bigger, and, more...  \n",
       "\n",
       "[306122 rows x 2 columns]"
      ]
     },
     "execution_count": 16,
     "metadata": {},
     "output_type": "execute_result"
    }
   ],
   "source": [
    "test_df"
   ]
  },
  {
   "cell_type": "markdown",
   "id": "fce00c4a",
   "metadata": {
    "papermill": {
     "duration": 0.013552,
     "end_time": "2022-11-15T05:06:31.610135",
     "exception": false,
     "start_time": "2022-11-15T05:06:31.596583",
     "status": "completed"
    },
    "tags": []
   },
   "source": [
    "### Lemmatization\n",
    "Lemmatization is a tool that performs full morphological analysis to more accurately find the root, or “lemma” for a word."
   ]
  },
  {
   "cell_type": "code",
   "execution_count": 17,
   "id": "be775750",
   "metadata": {
    "execution": {
     "iopub.execute_input": "2022-11-15T05:06:31.640038Z",
     "iopub.status.busy": "2022-11-15T05:06:31.639630Z",
     "iopub.status.idle": "2022-11-15T05:07:53.770457Z",
     "shell.execute_reply": "2022-11-15T05:07:53.769218Z"
    },
    "papermill": {
     "duration": 82.162824,
     "end_time": "2022-11-15T05:07:53.787041",
     "exception": false,
     "start_time": "2022-11-15T05:06:31.624217",
     "status": "completed"
    },
    "tags": []
   },
   "outputs": [
    {
     "data": {
      "text/html": [
       "<div>\n",
       "<style scoped>\n",
       "    .dataframe tbody tr th:only-of-type {\n",
       "        vertical-align: middle;\n",
       "    }\n",
       "\n",
       "    .dataframe tbody tr th {\n",
       "        vertical-align: top;\n",
       "    }\n",
       "\n",
       "    .dataframe thead th {\n",
       "        text-align: right;\n",
       "    }\n",
       "</style>\n",
       "<table border=\"1\" class=\"dataframe\">\n",
       "  <thead>\n",
       "    <tr style=\"text-align: right;\">\n",
       "      <th></th>\n",
       "      <th>qid</th>\n",
       "      <th>question_text</th>\n",
       "      <th>target</th>\n",
       "    </tr>\n",
       "  </thead>\n",
       "  <tbody>\n",
       "    <tr>\n",
       "      <th>0</th>\n",
       "      <td>dda0b0efc8ba86e81ec4</td>\n",
       "      <td>[What, are, interesting, fact, about, Microsof...</td>\n",
       "      <td>0</td>\n",
       "    </tr>\n",
       "    <tr>\n",
       "      <th>1</th>\n",
       "      <td>dc708b74a108d0fc0ad9</td>\n",
       "      <td>[What, are, those, thing, which, are, not, gon...</td>\n",
       "      <td>0</td>\n",
       "    </tr>\n",
       "    <tr>\n",
       "      <th>2</th>\n",
       "      <td>06a27ec5d82dacd8bfe0</td>\n",
       "      <td>[What, should, I, know, to, avoid, being, upso...</td>\n",
       "      <td>0</td>\n",
       "    </tr>\n",
       "    <tr>\n",
       "      <th>3</th>\n",
       "      <td>00cbb6b17e3ceb7c5358</td>\n",
       "      <td>[How, I, add, any, account, with, payment, bank]</td>\n",
       "      <td>0</td>\n",
       "    </tr>\n",
       "    <tr>\n",
       "      <th>4</th>\n",
       "      <td>7c304888973a701585a0</td>\n",
       "      <td>[Which, Multi, level, marketing, product, are,...</td>\n",
       "      <td>0</td>\n",
       "    </tr>\n",
       "    <tr>\n",
       "      <th>...</th>\n",
       "      <td>...</td>\n",
       "      <td>...</td>\n",
       "      <td>...</td>\n",
       "    </tr>\n",
       "    <tr>\n",
       "      <th>999995</th>\n",
       "      <td>4bd96088d0b5f0f2c4f4</td>\n",
       "      <td>[How, is, CSE, at, VIT, Chennai]</td>\n",
       "      <td>0</td>\n",
       "    </tr>\n",
       "    <tr>\n",
       "      <th>999996</th>\n",
       "      <td>e80edbfc086f7125940f</td>\n",
       "      <td>[How, can, we, prevent, a, holocaust, by, robo...</td>\n",
       "      <td>0</td>\n",
       "    </tr>\n",
       "    <tr>\n",
       "      <th>999997</th>\n",
       "      <td>1506dfad6bd340782a1f</td>\n",
       "      <td>[How, can, I, help, a, student, remember, key,...</td>\n",
       "      <td>0</td>\n",
       "    </tr>\n",
       "    <tr>\n",
       "      <th>999998</th>\n",
       "      <td>b56c60fd407f2f85553c</td>\n",
       "      <td>[What, is, the, difference, between, lace, clo...</td>\n",
       "      <td>0</td>\n",
       "    </tr>\n",
       "    <tr>\n",
       "      <th>999999</th>\n",
       "      <td>a1b32d315c2782cdbcc3</td>\n",
       "      <td>[What, happens, when, you, look, into, a, brok...</td>\n",
       "      <td>0</td>\n",
       "    </tr>\n",
       "  </tbody>\n",
       "</table>\n",
       "<p>1000000 rows × 3 columns</p>\n",
       "</div>"
      ],
      "text/plain": [
       "                         qid  \\\n",
       "0       dda0b0efc8ba86e81ec4   \n",
       "1       dc708b74a108d0fc0ad9   \n",
       "2       06a27ec5d82dacd8bfe0   \n",
       "3       00cbb6b17e3ceb7c5358   \n",
       "4       7c304888973a701585a0   \n",
       "...                      ...   \n",
       "999995  4bd96088d0b5f0f2c4f4   \n",
       "999996  e80edbfc086f7125940f   \n",
       "999997  1506dfad6bd340782a1f   \n",
       "999998  b56c60fd407f2f85553c   \n",
       "999999  a1b32d315c2782cdbcc3   \n",
       "\n",
       "                                            question_text  target  \n",
       "0       [What, are, interesting, fact, about, Microsof...       0  \n",
       "1       [What, are, those, thing, which, are, not, gon...       0  \n",
       "2       [What, should, I, know, to, avoid, being, upso...       0  \n",
       "3        [How, I, add, any, account, with, payment, bank]       0  \n",
       "4       [Which, Multi, level, marketing, product, are,...       0  \n",
       "...                                                   ...     ...  \n",
       "999995                   [How, is, CSE, at, VIT, Chennai]       0  \n",
       "999996  [How, can, we, prevent, a, holocaust, by, robo...       0  \n",
       "999997  [How, can, I, help, a, student, remember, key,...       0  \n",
       "999998  [What, is, the, difference, between, lace, clo...       0  \n",
       "999999  [What, happens, when, you, look, into, a, brok...       0  \n",
       "\n",
       "[1000000 rows x 3 columns]"
      ]
     },
     "execution_count": 17,
     "metadata": {},
     "output_type": "execute_result"
    }
   ],
   "source": [
    "# Lemmatization\n",
    "#defining the object for Lemmatization\n",
    "wordnet_lemmatizer = WordNetLemmatizer()\n",
    "#defining the function for lemmatization\n",
    "def lemmatizer(text):\n",
    "    lemm_text = [wordnet_lemmatizer.lemmatize(word) for word in text]\n",
    "    return lemm_text\n",
    "train_df['question_text']=train_df['question_text'].apply(lambda x:lemmatizer(x))\n",
    "test_df['question_text']=test_df['question_text'].apply(lambda x:lemmatizer(x))\n",
    "# train_df.shape\n",
    "train_df"
   ]
  },
  {
   "cell_type": "markdown",
   "id": "77918fff",
   "metadata": {
    "papermill": {
     "duration": 0.013737,
     "end_time": "2022-11-15T05:07:53.814888",
     "exception": false,
     "start_time": "2022-11-15T05:07:53.801151",
     "status": "completed"
    },
    "tags": []
   },
   "source": [
    "### Stop Words removal\n",
    "Stop words are commonly occurring words that for some computational processes provide little information or in some cases introduce unnecessary noise and therefore need to be removed."
   ]
  },
  {
   "cell_type": "code",
   "execution_count": 18,
   "id": "4638608f",
   "metadata": {
    "execution": {
     "iopub.execute_input": "2022-11-15T05:07:53.845156Z",
     "iopub.status.busy": "2022-11-15T05:07:53.844770Z",
     "iopub.status.idle": "2022-11-15T05:08:36.485060Z",
     "shell.execute_reply": "2022-11-15T05:08:36.483694Z"
    },
    "papermill": {
     "duration": 42.658933,
     "end_time": "2022-11-15T05:08:36.487867",
     "exception": false,
     "start_time": "2022-11-15T05:07:53.828934",
     "status": "completed"
    },
    "tags": []
   },
   "outputs": [],
   "source": [
    "stopwords=stopwords.words('english')\n",
    "def remove_stopwords(text):\n",
    "    output= [i for i in text if i not in stopwords]\n",
    "    return output\n",
    "#applying the function\n",
    "train_df['question_text']= train_df['question_text'].apply(lambda x:remove_stopwords(x))\n",
    "test_df['question_text']= test_df['question_text'].apply(lambda x:remove_stopwords(x))"
   ]
  },
  {
   "cell_type": "code",
   "execution_count": 19,
   "id": "9845683b",
   "metadata": {
    "execution": {
     "iopub.execute_input": "2022-11-15T05:08:36.518403Z",
     "iopub.status.busy": "2022-11-15T05:08:36.517996Z",
     "iopub.status.idle": "2022-11-15T05:08:36.534256Z",
     "shell.execute_reply": "2022-11-15T05:08:36.533427Z"
    },
    "papermill": {
     "duration": 0.033771,
     "end_time": "2022-11-15T05:08:36.536311",
     "exception": false,
     "start_time": "2022-11-15T05:08:36.502540",
     "status": "completed"
    },
    "tags": []
   },
   "outputs": [
    {
     "data": {
      "text/html": [
       "<div>\n",
       "<style scoped>\n",
       "    .dataframe tbody tr th:only-of-type {\n",
       "        vertical-align: middle;\n",
       "    }\n",
       "\n",
       "    .dataframe tbody tr th {\n",
       "        vertical-align: top;\n",
       "    }\n",
       "\n",
       "    .dataframe thead th {\n",
       "        text-align: right;\n",
       "    }\n",
       "</style>\n",
       "<table border=\"1\" class=\"dataframe\">\n",
       "  <thead>\n",
       "    <tr style=\"text-align: right;\">\n",
       "      <th></th>\n",
       "      <th>qid</th>\n",
       "      <th>question_text</th>\n",
       "      <th>target</th>\n",
       "    </tr>\n",
       "  </thead>\n",
       "  <tbody>\n",
       "    <tr>\n",
       "      <th>0</th>\n",
       "      <td>dda0b0efc8ba86e81ec4</td>\n",
       "      <td>[What, interesting, fact, Microsoft, history]</td>\n",
       "      <td>0</td>\n",
       "    </tr>\n",
       "    <tr>\n",
       "      <th>1</th>\n",
       "      <td>dc708b74a108d0fc0ad9</td>\n",
       "      <td>[What, thing, gon, na, happen, ever]</td>\n",
       "      <td>0</td>\n",
       "    </tr>\n",
       "    <tr>\n",
       "      <th>2</th>\n",
       "      <td>06a27ec5d82dacd8bfe0</td>\n",
       "      <td>[What, I, know, avoid, upsold, getting, car, b...</td>\n",
       "      <td>0</td>\n",
       "    </tr>\n",
       "    <tr>\n",
       "      <th>3</th>\n",
       "      <td>00cbb6b17e3ceb7c5358</td>\n",
       "      <td>[How, I, add, account, payment, bank]</td>\n",
       "      <td>0</td>\n",
       "    </tr>\n",
       "    <tr>\n",
       "      <th>4</th>\n",
       "      <td>7c304888973a701585a0</td>\n",
       "      <td>[Which, Multi, level, marketing, product, actu...</td>\n",
       "      <td>0</td>\n",
       "    </tr>\n",
       "    <tr>\n",
       "      <th>...</th>\n",
       "      <td>...</td>\n",
       "      <td>...</td>\n",
       "      <td>...</td>\n",
       "    </tr>\n",
       "    <tr>\n",
       "      <th>999995</th>\n",
       "      <td>4bd96088d0b5f0f2c4f4</td>\n",
       "      <td>[How, CSE, VIT, Chennai]</td>\n",
       "      <td>0</td>\n",
       "    </tr>\n",
       "    <tr>\n",
       "      <th>999996</th>\n",
       "      <td>e80edbfc086f7125940f</td>\n",
       "      <td>[How, prevent, holocaust, robot, AI, alien]</td>\n",
       "      <td>0</td>\n",
       "    </tr>\n",
       "    <tr>\n",
       "      <th>999997</th>\n",
       "      <td>1506dfad6bd340782a1f</td>\n",
       "      <td>[How, I, help, student, remember, key, step, i...</td>\n",
       "      <td>0</td>\n",
       "    </tr>\n",
       "    <tr>\n",
       "      <th>999998</th>\n",
       "      <td>b56c60fd407f2f85553c</td>\n",
       "      <td>[What, difference, lace, closure, lace, frontal]</td>\n",
       "      <td>0</td>\n",
       "    </tr>\n",
       "    <tr>\n",
       "      <th>999999</th>\n",
       "      <td>a1b32d315c2782cdbcc3</td>\n",
       "      <td>[What, happens, look, broken, mirror]</td>\n",
       "      <td>0</td>\n",
       "    </tr>\n",
       "  </tbody>\n",
       "</table>\n",
       "<p>1000000 rows × 3 columns</p>\n",
       "</div>"
      ],
      "text/plain": [
       "                         qid  \\\n",
       "0       dda0b0efc8ba86e81ec4   \n",
       "1       dc708b74a108d0fc0ad9   \n",
       "2       06a27ec5d82dacd8bfe0   \n",
       "3       00cbb6b17e3ceb7c5358   \n",
       "4       7c304888973a701585a0   \n",
       "...                      ...   \n",
       "999995  4bd96088d0b5f0f2c4f4   \n",
       "999996  e80edbfc086f7125940f   \n",
       "999997  1506dfad6bd340782a1f   \n",
       "999998  b56c60fd407f2f85553c   \n",
       "999999  a1b32d315c2782cdbcc3   \n",
       "\n",
       "                                            question_text  target  \n",
       "0           [What, interesting, fact, Microsoft, history]       0  \n",
       "1                    [What, thing, gon, na, happen, ever]       0  \n",
       "2       [What, I, know, avoid, upsold, getting, car, b...       0  \n",
       "3                   [How, I, add, account, payment, bank]       0  \n",
       "4       [Which, Multi, level, marketing, product, actu...       0  \n",
       "...                                                   ...     ...  \n",
       "999995                           [How, CSE, VIT, Chennai]       0  \n",
       "999996        [How, prevent, holocaust, robot, AI, alien]       0  \n",
       "999997  [How, I, help, student, remember, key, step, i...       0  \n",
       "999998   [What, difference, lace, closure, lace, frontal]       0  \n",
       "999999              [What, happens, look, broken, mirror]       0  \n",
       "\n",
       "[1000000 rows x 3 columns]"
      ]
     },
     "execution_count": 19,
     "metadata": {},
     "output_type": "execute_result"
    }
   ],
   "source": [
    "train_df"
   ]
  },
  {
   "cell_type": "markdown",
   "id": "4353b298",
   "metadata": {
    "papermill": {
     "duration": 0.013981,
     "end_time": "2022-11-15T05:08:36.564750",
     "exception": false,
     "start_time": "2022-11-15T05:08:36.550769",
     "status": "completed"
    },
    "tags": []
   },
   "source": [
    "### Creating sentences out of the remaining words "
   ]
  },
  {
   "cell_type": "code",
   "execution_count": 20,
   "id": "ce07a7ce",
   "metadata": {
    "execution": {
     "iopub.execute_input": "2022-11-15T05:08:36.595924Z",
     "iopub.status.busy": "2022-11-15T05:08:36.594825Z",
     "iopub.status.idle": "2022-11-15T05:08:38.207735Z",
     "shell.execute_reply": "2022-11-15T05:08:38.205787Z"
    },
    "papermill": {
     "duration": 1.631273,
     "end_time": "2022-11-15T05:08:38.210458",
     "exception": false,
     "start_time": "2022-11-15T05:08:36.579185",
     "status": "completed"
    },
    "tags": []
   },
   "outputs": [
    {
     "name": "stdout",
     "output_type": "stream",
     "text": [
      "0                   What interesting fact Microsoft history\n",
      "1                             What thing gon na happen ever\n",
      "2         What I know avoid upsold getting car brake cha...\n",
      "3                            How I add account payment bank\n",
      "4         Which Multi level marketing product actually w...\n",
      "                                ...                        \n",
      "999995                                  How CSE VIT Chennai\n",
      "999996                 How prevent holocaust robot AI alien\n",
      "999997    How I help student remember key step informati...\n",
      "999998            What difference lace closure lace frontal\n",
      "999999                      What happens look broken mirror\n",
      "Name: question_text, Length: 1000000, dtype: object\n"
     ]
    }
   ],
   "source": [
    "def makeSentence(text):\n",
    "    return ' '.join(list(text))\n",
    "\n",
    "train_df.question_text = train_df['question_text'].apply(lambda x: makeSentence(x))\n",
    "test_df.question_text = test_df['question_text'].apply(lambda x: makeSentence(x))\n",
    "\n",
    "print(train_df.question_text)\n",
    "# print(makeSentence(train_df.question_text[0]))\n",
    "# ' '.join(list(train_df.question_text)[0])"
   ]
  },
  {
   "cell_type": "code",
   "execution_count": 21,
   "id": "e9eebbcf",
   "metadata": {
    "execution": {
     "iopub.execute_input": "2022-11-15T05:08:38.241375Z",
     "iopub.status.busy": "2022-11-15T05:08:38.240940Z",
     "iopub.status.idle": "2022-11-15T05:08:38.253094Z",
     "shell.execute_reply": "2022-11-15T05:08:38.252190Z"
    },
    "papermill": {
     "duration": 0.029937,
     "end_time": "2022-11-15T05:08:38.255095",
     "exception": false,
     "start_time": "2022-11-15T05:08:38.225158",
     "status": "completed"
    },
    "tags": []
   },
   "outputs": [
    {
     "data": {
      "text/html": [
       "<div>\n",
       "<style scoped>\n",
       "    .dataframe tbody tr th:only-of-type {\n",
       "        vertical-align: middle;\n",
       "    }\n",
       "\n",
       "    .dataframe tbody tr th {\n",
       "        vertical-align: top;\n",
       "    }\n",
       "\n",
       "    .dataframe thead th {\n",
       "        text-align: right;\n",
       "    }\n",
       "</style>\n",
       "<table border=\"1\" class=\"dataframe\">\n",
       "  <thead>\n",
       "    <tr style=\"text-align: right;\">\n",
       "      <th></th>\n",
       "      <th>qid</th>\n",
       "      <th>question_text</th>\n",
       "    </tr>\n",
       "  </thead>\n",
       "  <tbody>\n",
       "    <tr>\n",
       "      <th>0</th>\n",
       "      <td>a4f3da3a3df9dd881edd</td>\n",
       "      <td>My period due wedding day How I stop Pill option</td>\n",
       "    </tr>\n",
       "    <tr>\n",
       "      <th>1</th>\n",
       "      <td>9914c62ed3f69684d549</td>\n",
       "      <td>How many number higher million formed digit</td>\n",
       "    </tr>\n",
       "    <tr>\n",
       "      <th>2</th>\n",
       "      <td>8138ae48649e37091a91</td>\n",
       "      <td>How come I feel nothing family still love pet ...</td>\n",
       "    </tr>\n",
       "    <tr>\n",
       "      <th>3</th>\n",
       "      <td>981b4753d17ef14d09f7</td>\n",
       "      <td>In case collapse Democratic party Republican p...</td>\n",
       "    </tr>\n",
       "    <tr>\n",
       "      <th>4</th>\n",
       "      <td>452e2c705276ba16b7b7</td>\n",
       "      <td>Who Émile Naoumoff</td>\n",
       "    </tr>\n",
       "    <tr>\n",
       "      <th>...</th>\n",
       "      <td>...</td>\n",
       "      <td>...</td>\n",
       "    </tr>\n",
       "    <tr>\n",
       "      <th>306117</th>\n",
       "      <td>a352dff4fcc2571815ce</td>\n",
       "      <td>Did anyone get update Maruti Suzuki All India ...</td>\n",
       "    </tr>\n",
       "    <tr>\n",
       "      <th>306118</th>\n",
       "      <td>ad4a8498d97c536c67b9</td>\n",
       "      <td>What people history find interesting</td>\n",
       "    </tr>\n",
       "    <tr>\n",
       "      <th>306119</th>\n",
       "      <td>19784a27b55d4b453fda</td>\n",
       "      <td>How I remove tan forehead</td>\n",
       "    </tr>\n",
       "    <tr>\n",
       "      <th>306120</th>\n",
       "      <td>370191dba26465997879</td>\n",
       "      <td>If well known hacker prone hacked</td>\n",
       "    </tr>\n",
       "    <tr>\n",
       "      <th>306121</th>\n",
       "      <td>8077b4a45cea867d4ff2</td>\n",
       "      <td>If new enemy bigger dangerous old enemy doe me...</td>\n",
       "    </tr>\n",
       "  </tbody>\n",
       "</table>\n",
       "<p>306122 rows × 2 columns</p>\n",
       "</div>"
      ],
      "text/plain": [
       "                         qid  \\\n",
       "0       a4f3da3a3df9dd881edd   \n",
       "1       9914c62ed3f69684d549   \n",
       "2       8138ae48649e37091a91   \n",
       "3       981b4753d17ef14d09f7   \n",
       "4       452e2c705276ba16b7b7   \n",
       "...                      ...   \n",
       "306117  a352dff4fcc2571815ce   \n",
       "306118  ad4a8498d97c536c67b9   \n",
       "306119  19784a27b55d4b453fda   \n",
       "306120  370191dba26465997879   \n",
       "306121  8077b4a45cea867d4ff2   \n",
       "\n",
       "                                            question_text  \n",
       "0        My period due wedding day How I stop Pill option  \n",
       "1             How many number higher million formed digit  \n",
       "2       How come I feel nothing family still love pet ...  \n",
       "3       In case collapse Democratic party Republican p...  \n",
       "4                                      Who Émile Naoumoff  \n",
       "...                                                   ...  \n",
       "306117  Did anyone get update Maruti Suzuki All India ...  \n",
       "306118               What people history find interesting  \n",
       "306119                          How I remove tan forehead  \n",
       "306120                  If well known hacker prone hacked  \n",
       "306121  If new enemy bigger dangerous old enemy doe me...  \n",
       "\n",
       "[306122 rows x 2 columns]"
      ]
     },
     "execution_count": 21,
     "metadata": {},
     "output_type": "execute_result"
    }
   ],
   "source": [
    "test_df"
   ]
  },
  {
   "cell_type": "markdown",
   "id": "276de15a",
   "metadata": {
    "papermill": {
     "duration": 0.014396,
     "end_time": "2022-11-15T05:08:38.284380",
     "exception": false,
     "start_time": "2022-11-15T05:08:38.269984",
     "status": "completed"
    },
    "tags": []
   },
   "source": [
    "### Doing spellcheck"
   ]
  },
  {
   "cell_type": "code",
   "execution_count": 22,
   "id": "1eba0c84",
   "metadata": {
    "execution": {
     "iopub.execute_input": "2022-11-15T05:08:38.315561Z",
     "iopub.status.busy": "2022-11-15T05:08:38.315158Z",
     "iopub.status.idle": "2022-11-15T05:08:51.094816Z",
     "shell.execute_reply": "2022-11-15T05:08:51.093438Z"
    },
    "papermill": {
     "duration": 12.798471,
     "end_time": "2022-11-15T05:08:51.097568",
     "exception": false,
     "start_time": "2022-11-15T05:08:38.299097",
     "status": "completed"
    },
    "tags": []
   },
   "outputs": [
    {
     "name": "stdout",
     "output_type": "stream",
     "text": [
      "Collecting symspellpy\r\n",
      "  Downloading symspellpy-6.7.7-py3-none-any.whl (2.6 MB)\r\n",
      "\u001b[2K     \u001b[90m━━━━━━━━━━━━━━━━━━━━━━━━━━━━━━━━━━━━━━━━\u001b[0m \u001b[32m2.6/2.6 MB\u001b[0m \u001b[31m19.9 MB/s\u001b[0m eta \u001b[36m0:00:00\u001b[0m\r\n",
      "\u001b[?25hCollecting editdistpy>=0.1.3\r\n",
      "  Downloading editdistpy-0.1.3-cp37-cp37m-manylinux_2_5_x86_64.manylinux1_x86_64.manylinux_2_17_x86_64.manylinux2014_x86_64.whl (125 kB)\r\n",
      "\u001b[2K     \u001b[90m━━━━━━━━━━━━━━━━━━━━━━━━━━━━━━━━━━━━━━\u001b[0m \u001b[32m125.5/125.5 kB\u001b[0m \u001b[31m10.6 MB/s\u001b[0m eta \u001b[36m0:00:00\u001b[0m\r\n",
      "\u001b[?25hInstalling collected packages: editdistpy, symspellpy\r\n",
      "Successfully installed editdistpy-0.1.3 symspellpy-6.7.7\r\n",
      "\u001b[33mWARNING: Running pip as the 'root' user can result in broken permissions and conflicting behaviour with the system package manager. It is recommended to use a virtual environment instead: https://pip.pypa.io/warnings/venv\u001b[0m\u001b[33m\r\n",
      "\u001b[0m"
     ]
    }
   ],
   "source": [
    "!pip install symspellpy"
   ]
  },
  {
   "cell_type": "code",
   "execution_count": 23,
   "id": "68567993",
   "metadata": {
    "execution": {
     "iopub.execute_input": "2022-11-15T05:08:51.130891Z",
     "iopub.status.busy": "2022-11-15T05:08:51.130431Z",
     "iopub.status.idle": "2022-11-15T05:09:07.299181Z",
     "shell.execute_reply": "2022-11-15T05:09:07.297969Z"
    },
    "papermill": {
     "duration": 16.188196,
     "end_time": "2022-11-15T05:09:07.301466",
     "exception": false,
     "start_time": "2022-11-15T05:08:51.113270",
     "status": "completed"
    },
    "tags": []
   },
   "outputs": [
    {
     "data": {
      "text/html": [
       "<div>\n",
       "<style scoped>\n",
       "    .dataframe tbody tr th:only-of-type {\n",
       "        vertical-align: middle;\n",
       "    }\n",
       "\n",
       "    .dataframe tbody tr th {\n",
       "        vertical-align: top;\n",
       "    }\n",
       "\n",
       "    .dataframe thead th {\n",
       "        text-align: right;\n",
       "    }\n",
       "</style>\n",
       "<table border=\"1\" class=\"dataframe\">\n",
       "  <thead>\n",
       "    <tr style=\"text-align: right;\">\n",
       "      <th></th>\n",
       "      <th>qid</th>\n",
       "      <th>question_text</th>\n",
       "      <th>target</th>\n",
       "    </tr>\n",
       "  </thead>\n",
       "  <tbody>\n",
       "    <tr>\n",
       "      <th>0</th>\n",
       "      <td>dda0b0efc8ba86e81ec4</td>\n",
       "      <td>What interesting fact Microsoft history</td>\n",
       "      <td>0</td>\n",
       "    </tr>\n",
       "    <tr>\n",
       "      <th>1</th>\n",
       "      <td>dc708b74a108d0fc0ad9</td>\n",
       "      <td>What thing gon na happen ever</td>\n",
       "      <td>0</td>\n",
       "    </tr>\n",
       "    <tr>\n",
       "      <th>2</th>\n",
       "      <td>06a27ec5d82dacd8bfe0</td>\n",
       "      <td>What I know avoid upsold getting car brake cha...</td>\n",
       "      <td>0</td>\n",
       "    </tr>\n",
       "    <tr>\n",
       "      <th>3</th>\n",
       "      <td>00cbb6b17e3ceb7c5358</td>\n",
       "      <td>How I add account payment bank</td>\n",
       "      <td>0</td>\n",
       "    </tr>\n",
       "    <tr>\n",
       "      <th>4</th>\n",
       "      <td>7c304888973a701585a0</td>\n",
       "      <td>Which Multi level marketing product actually w...</td>\n",
       "      <td>0</td>\n",
       "    </tr>\n",
       "    <tr>\n",
       "      <th>...</th>\n",
       "      <td>...</td>\n",
       "      <td>...</td>\n",
       "      <td>...</td>\n",
       "    </tr>\n",
       "    <tr>\n",
       "      <th>999995</th>\n",
       "      <td>4bd96088d0b5f0f2c4f4</td>\n",
       "      <td>How CSE VIT Chennai</td>\n",
       "      <td>0</td>\n",
       "    </tr>\n",
       "    <tr>\n",
       "      <th>999996</th>\n",
       "      <td>e80edbfc086f7125940f</td>\n",
       "      <td>How prevent holocaust robot AI alien</td>\n",
       "      <td>0</td>\n",
       "    </tr>\n",
       "    <tr>\n",
       "      <th>999997</th>\n",
       "      <td>1506dfad6bd340782a1f</td>\n",
       "      <td>How I help student remember key step informati...</td>\n",
       "      <td>0</td>\n",
       "    </tr>\n",
       "    <tr>\n",
       "      <th>999998</th>\n",
       "      <td>b56c60fd407f2f85553c</td>\n",
       "      <td>What difference lace closure lace frontal</td>\n",
       "      <td>0</td>\n",
       "    </tr>\n",
       "    <tr>\n",
       "      <th>999999</th>\n",
       "      <td>a1b32d315c2782cdbcc3</td>\n",
       "      <td>What happens look broken mirror</td>\n",
       "      <td>0</td>\n",
       "    </tr>\n",
       "  </tbody>\n",
       "</table>\n",
       "<p>1000000 rows × 3 columns</p>\n",
       "</div>"
      ],
      "text/plain": [
       "                         qid  \\\n",
       "0       dda0b0efc8ba86e81ec4   \n",
       "1       dc708b74a108d0fc0ad9   \n",
       "2       06a27ec5d82dacd8bfe0   \n",
       "3       00cbb6b17e3ceb7c5358   \n",
       "4       7c304888973a701585a0   \n",
       "...                      ...   \n",
       "999995  4bd96088d0b5f0f2c4f4   \n",
       "999996  e80edbfc086f7125940f   \n",
       "999997  1506dfad6bd340782a1f   \n",
       "999998  b56c60fd407f2f85553c   \n",
       "999999  a1b32d315c2782cdbcc3   \n",
       "\n",
       "                                            question_text  target  \n",
       "0                 What interesting fact Microsoft history       0  \n",
       "1                           What thing gon na happen ever       0  \n",
       "2       What I know avoid upsold getting car brake cha...       0  \n",
       "3                          How I add account payment bank       0  \n",
       "4       Which Multi level marketing product actually w...       0  \n",
       "...                                                   ...     ...  \n",
       "999995                                How CSE VIT Chennai       0  \n",
       "999996               How prevent holocaust robot AI alien       0  \n",
       "999997  How I help student remember key step informati...       0  \n",
       "999998          What difference lace closure lace frontal       0  \n",
       "999999                    What happens look broken mirror       0  \n",
       "\n",
       "[1000000 rows x 3 columns]"
      ]
     },
     "execution_count": 23,
     "metadata": {},
     "output_type": "execute_result"
    }
   ],
   "source": [
    "import pkg_resources\n",
    "from symspellpy import SymSpell, Verbosity\n",
    "sym_spell = SymSpell(max_dictionary_edit_distance=2, prefix_length=7)\n",
    "dictionary_path = pkg_resources.resource_filename(\n",
    "    \"symspellpy\", \"frequency_dictionary_en_82_765.txt\"\n",
    ")\n",
    "\n",
    "\n",
    "def spellcorrect(text):\n",
    "#   print(text)\n",
    "  text_list = str(text).split()\n",
    "  text_list_spell = []\n",
    "  for word in text_list:\n",
    "    suggestions = sym_spell.lookup(word, Verbosity.CLOSEST, max_edit_distance=2)\n",
    "    if suggestions:\n",
    "        text_list_spell.append(suggestions[0].term)\n",
    "    else:\n",
    "        text_list_spell.append(word)\n",
    "  return' '.join(text_list_spell)\n",
    "train_df['question_text']= train_df['question_text'].apply(lambda x: spellcorrect(x))\n",
    "train_df"
   ]
  },
  {
   "cell_type": "markdown",
   "id": "80c5effc",
   "metadata": {
    "papermill": {
     "duration": 0.015318,
     "end_time": "2022-11-15T05:09:07.332574",
     "exception": false,
     "start_time": "2022-11-15T05:09:07.317256",
     "status": "completed"
    },
    "tags": []
   },
   "source": [
    "### Removing non eng words"
   ]
  },
  {
   "cell_type": "code",
   "execution_count": 24,
   "id": "3122c4bd",
   "metadata": {
    "execution": {
     "iopub.execute_input": "2022-11-15T05:09:07.365721Z",
     "iopub.status.busy": "2022-11-15T05:09:07.365272Z",
     "iopub.status.idle": "2022-11-15T05:09:14.083573Z",
     "shell.execute_reply": "2022-11-15T05:09:14.082444Z"
    },
    "papermill": {
     "duration": 6.738177,
     "end_time": "2022-11-15T05:09:14.086446",
     "exception": false,
     "start_time": "2022-11-15T05:09:07.348269",
     "status": "completed"
    },
    "tags": []
   },
   "outputs": [],
   "source": [
    "import nltk\n",
    "words = set(nltk.corpus.words.words())\n",
    "train_df.question_text = train_df.question_text.apply(lambda x: \" \".join(w for w in nltk.wordpunct_tokenize(x) \\\n",
    "         if w.lower() in words or not w.isalpha()))"
   ]
  },
  {
   "cell_type": "code",
   "execution_count": 25,
   "id": "0b201ee4",
   "metadata": {
    "execution": {
     "iopub.execute_input": "2022-11-15T05:09:14.120221Z",
     "iopub.status.busy": "2022-11-15T05:09:14.119821Z",
     "iopub.status.idle": "2022-11-15T05:09:14.134084Z",
     "shell.execute_reply": "2022-11-15T05:09:14.132966Z"
    },
    "papermill": {
     "duration": 0.033866,
     "end_time": "2022-11-15T05:09:14.136428",
     "exception": false,
     "start_time": "2022-11-15T05:09:14.102562",
     "status": "completed"
    },
    "tags": []
   },
   "outputs": [
    {
     "data": {
      "text/html": [
       "<div>\n",
       "<style scoped>\n",
       "    .dataframe tbody tr th:only-of-type {\n",
       "        vertical-align: middle;\n",
       "    }\n",
       "\n",
       "    .dataframe tbody tr th {\n",
       "        vertical-align: top;\n",
       "    }\n",
       "\n",
       "    .dataframe thead th {\n",
       "        text-align: right;\n",
       "    }\n",
       "</style>\n",
       "<table border=\"1\" class=\"dataframe\">\n",
       "  <thead>\n",
       "    <tr style=\"text-align: right;\">\n",
       "      <th></th>\n",
       "      <th>qid</th>\n",
       "      <th>question_text</th>\n",
       "      <th>target</th>\n",
       "    </tr>\n",
       "  </thead>\n",
       "  <tbody>\n",
       "    <tr>\n",
       "      <th>0</th>\n",
       "      <td>dda0b0efc8ba86e81ec4</td>\n",
       "      <td>What interesting fact history</td>\n",
       "      <td>0</td>\n",
       "    </tr>\n",
       "    <tr>\n",
       "      <th>1</th>\n",
       "      <td>dc708b74a108d0fc0ad9</td>\n",
       "      <td>What thing gon na happen ever</td>\n",
       "      <td>0</td>\n",
       "    </tr>\n",
       "    <tr>\n",
       "      <th>2</th>\n",
       "      <td>06a27ec5d82dacd8bfe0</td>\n",
       "      <td>What I know avoid getting car brake</td>\n",
       "      <td>0</td>\n",
       "    </tr>\n",
       "    <tr>\n",
       "      <th>3</th>\n",
       "      <td>00cbb6b17e3ceb7c5358</td>\n",
       "      <td>How I add account payment bank</td>\n",
       "      <td>0</td>\n",
       "    </tr>\n",
       "    <tr>\n",
       "      <th>4</th>\n",
       "      <td>7c304888973a701585a0</td>\n",
       "      <td>Which level marketing product actually worth</td>\n",
       "      <td>0</td>\n",
       "    </tr>\n",
       "    <tr>\n",
       "      <th>...</th>\n",
       "      <td>...</td>\n",
       "      <td>...</td>\n",
       "      <td>...</td>\n",
       "    </tr>\n",
       "    <tr>\n",
       "      <th>999995</th>\n",
       "      <td>4bd96088d0b5f0f2c4f4</td>\n",
       "      <td>How</td>\n",
       "      <td>0</td>\n",
       "    </tr>\n",
       "    <tr>\n",
       "      <th>999996</th>\n",
       "      <td>e80edbfc086f7125940f</td>\n",
       "      <td>How prevent holocaust robot AI alien</td>\n",
       "      <td>0</td>\n",
       "    </tr>\n",
       "    <tr>\n",
       "      <th>999997</th>\n",
       "      <td>1506dfad6bd340782a1f</td>\n",
       "      <td>How I help student remember key step informati...</td>\n",
       "      <td>0</td>\n",
       "    </tr>\n",
       "    <tr>\n",
       "      <th>999998</th>\n",
       "      <td>b56c60fd407f2f85553c</td>\n",
       "      <td>What difference lace closure lace frontal</td>\n",
       "      <td>0</td>\n",
       "    </tr>\n",
       "    <tr>\n",
       "      <th>999999</th>\n",
       "      <td>a1b32d315c2782cdbcc3</td>\n",
       "      <td>What look broken mirror</td>\n",
       "      <td>0</td>\n",
       "    </tr>\n",
       "  </tbody>\n",
       "</table>\n",
       "<p>1000000 rows × 3 columns</p>\n",
       "</div>"
      ],
      "text/plain": [
       "                         qid  \\\n",
       "0       dda0b0efc8ba86e81ec4   \n",
       "1       dc708b74a108d0fc0ad9   \n",
       "2       06a27ec5d82dacd8bfe0   \n",
       "3       00cbb6b17e3ceb7c5358   \n",
       "4       7c304888973a701585a0   \n",
       "...                      ...   \n",
       "999995  4bd96088d0b5f0f2c4f4   \n",
       "999996  e80edbfc086f7125940f   \n",
       "999997  1506dfad6bd340782a1f   \n",
       "999998  b56c60fd407f2f85553c   \n",
       "999999  a1b32d315c2782cdbcc3   \n",
       "\n",
       "                                            question_text  target  \n",
       "0                           What interesting fact history       0  \n",
       "1                           What thing gon na happen ever       0  \n",
       "2                     What I know avoid getting car brake       0  \n",
       "3                          How I add account payment bank       0  \n",
       "4            Which level marketing product actually worth       0  \n",
       "...                                                   ...     ...  \n",
       "999995                                                How       0  \n",
       "999996               How prevent holocaust robot AI alien       0  \n",
       "999997  How I help student remember key step informati...       0  \n",
       "999998          What difference lace closure lace frontal       0  \n",
       "999999                            What look broken mirror       0  \n",
       "\n",
       "[1000000 rows x 3 columns]"
      ]
     },
     "execution_count": 25,
     "metadata": {},
     "output_type": "execute_result"
    }
   ],
   "source": [
    "train_df"
   ]
  },
  {
   "cell_type": "code",
   "execution_count": 26,
   "id": "e1185ee9",
   "metadata": {
    "execution": {
     "iopub.execute_input": "2022-11-15T05:09:14.170049Z",
     "iopub.status.busy": "2022-11-15T05:09:14.169621Z",
     "iopub.status.idle": "2022-11-15T05:09:17.238758Z",
     "shell.execute_reply": "2022-11-15T05:09:17.237519Z"
    },
    "papermill": {
     "duration": 3.089141,
     "end_time": "2022-11-15T05:09:17.241515",
     "exception": false,
     "start_time": "2022-11-15T05:09:14.152374",
     "status": "completed"
    },
    "tags": []
   },
   "outputs": [],
   "source": [
    "train_df.to_csv(\"preprocessed_train.csv\",index=False)\n",
    "test_df.to_csv(\"preprocessed_test.csv\",index=False)"
   ]
  },
  {
   "cell_type": "markdown",
   "id": "331d56ae",
   "metadata": {
    "papermill": {
     "duration": 0.015887,
     "end_time": "2022-11-15T05:09:17.273640",
     "exception": false,
     "start_time": "2022-11-15T05:09:17.257753",
     "status": "completed"
    },
    "tags": []
   },
   "source": [
    "## Reading Preprocessed data"
   ]
  },
  {
   "cell_type": "code",
   "execution_count": 27,
   "id": "69914bde",
   "metadata": {
    "execution": {
     "iopub.execute_input": "2022-11-15T05:09:17.308202Z",
     "iopub.status.busy": "2022-11-15T05:09:17.307529Z",
     "iopub.status.idle": "2022-11-15T05:09:17.313489Z",
     "shell.execute_reply": "2022-11-15T05:09:17.312720Z"
    },
    "papermill": {
     "duration": 0.026087,
     "end_time": "2022-11-15T05:09:17.315676",
     "exception": false,
     "start_time": "2022-11-15T05:09:17.289589",
     "status": "completed"
    },
    "tags": []
   },
   "outputs": [],
   "source": [
    "import numpy as np \n",
    "import pandas as pd\n",
    "from sklearn.model_selection import train_test_split\n",
    "from sklearn import metrics\n",
    "from sklearn.metrics import confusion_matrix,accuracy_score,roc_auc_score,roc_curve,auc,f1_score\n",
    "from sklearn.feature_extraction.text import TfidfVectorizer, CountVectorizer\n",
    "from sklearn.model_selection import GridSearchCV"
   ]
  },
  {
   "cell_type": "code",
   "execution_count": 28,
   "id": "3bd23358",
   "metadata": {
    "execution": {
     "iopub.execute_input": "2022-11-15T05:09:17.349792Z",
     "iopub.status.busy": "2022-11-15T05:09:17.349129Z",
     "iopub.status.idle": "2022-11-15T05:09:21.036710Z",
     "shell.execute_reply": "2022-11-15T05:09:21.035410Z"
    },
    "papermill": {
     "duration": 3.707654,
     "end_time": "2022-11-15T05:09:21.039375",
     "exception": false,
     "start_time": "2022-11-15T05:09:17.331721",
     "status": "completed"
    },
    "tags": []
   },
   "outputs": [],
   "source": [
    "train_df = pd.read_csv(\"../input/preprocessed-train-and-test/preprocessed_train.csv\")\n",
    "test_df = pd.read_csv(\"../input/preprocessed-train-and-test/preprocessed_test.csv\")"
   ]
  },
  {
   "cell_type": "code",
   "execution_count": 29,
   "id": "6470f0ce",
   "metadata": {
    "execution": {
     "iopub.execute_input": "2022-11-15T05:09:21.073794Z",
     "iopub.status.busy": "2022-11-15T05:09:21.073111Z",
     "iopub.status.idle": "2022-11-15T05:09:21.085846Z",
     "shell.execute_reply": "2022-11-15T05:09:21.084643Z"
    },
    "papermill": {
     "duration": 0.032963,
     "end_time": "2022-11-15T05:09:21.088339",
     "exception": false,
     "start_time": "2022-11-15T05:09:21.055376",
     "status": "completed"
    },
    "tags": []
   },
   "outputs": [
    {
     "data": {
      "text/html": [
       "<div>\n",
       "<style scoped>\n",
       "    .dataframe tbody tr th:only-of-type {\n",
       "        vertical-align: middle;\n",
       "    }\n",
       "\n",
       "    .dataframe tbody tr th {\n",
       "        vertical-align: top;\n",
       "    }\n",
       "\n",
       "    .dataframe thead th {\n",
       "        text-align: right;\n",
       "    }\n",
       "</style>\n",
       "<table border=\"1\" class=\"dataframe\">\n",
       "  <thead>\n",
       "    <tr style=\"text-align: right;\">\n",
       "      <th></th>\n",
       "      <th>qid</th>\n",
       "      <th>question_text</th>\n",
       "    </tr>\n",
       "  </thead>\n",
       "  <tbody>\n",
       "    <tr>\n",
       "      <th>0</th>\n",
       "      <td>a4f3da3a3df9dd881edd</td>\n",
       "      <td>My period due wedding day How I stop Pill option</td>\n",
       "    </tr>\n",
       "    <tr>\n",
       "      <th>1</th>\n",
       "      <td>9914c62ed3f69684d549</td>\n",
       "      <td>How many number higher million formed digit</td>\n",
       "    </tr>\n",
       "    <tr>\n",
       "      <th>2</th>\n",
       "      <td>8138ae48649e37091a91</td>\n",
       "      <td>How come I feel nothing family still love pet ...</td>\n",
       "    </tr>\n",
       "    <tr>\n",
       "      <th>3</th>\n",
       "      <td>981b4753d17ef14d09f7</td>\n",
       "      <td>In case collapse Democratic party Republican p...</td>\n",
       "    </tr>\n",
       "    <tr>\n",
       "      <th>4</th>\n",
       "      <td>452e2c705276ba16b7b7</td>\n",
       "      <td>Who Émile Naoumoff</td>\n",
       "    </tr>\n",
       "    <tr>\n",
       "      <th>...</th>\n",
       "      <td>...</td>\n",
       "      <td>...</td>\n",
       "    </tr>\n",
       "    <tr>\n",
       "      <th>306117</th>\n",
       "      <td>a352dff4fcc2571815ce</td>\n",
       "      <td>Did anyone get update Maruti Suzuki All India ...</td>\n",
       "    </tr>\n",
       "    <tr>\n",
       "      <th>306118</th>\n",
       "      <td>ad4a8498d97c536c67b9</td>\n",
       "      <td>What people history find interesting</td>\n",
       "    </tr>\n",
       "    <tr>\n",
       "      <th>306119</th>\n",
       "      <td>19784a27b55d4b453fda</td>\n",
       "      <td>How I remove tan forehead</td>\n",
       "    </tr>\n",
       "    <tr>\n",
       "      <th>306120</th>\n",
       "      <td>370191dba26465997879</td>\n",
       "      <td>If well known hacker prone hacked</td>\n",
       "    </tr>\n",
       "    <tr>\n",
       "      <th>306121</th>\n",
       "      <td>8077b4a45cea867d4ff2</td>\n",
       "      <td>If new enemy bigger dangerous old enemy doe me...</td>\n",
       "    </tr>\n",
       "  </tbody>\n",
       "</table>\n",
       "<p>306122 rows × 2 columns</p>\n",
       "</div>"
      ],
      "text/plain": [
       "                         qid  \\\n",
       "0       a4f3da3a3df9dd881edd   \n",
       "1       9914c62ed3f69684d549   \n",
       "2       8138ae48649e37091a91   \n",
       "3       981b4753d17ef14d09f7   \n",
       "4       452e2c705276ba16b7b7   \n",
       "...                      ...   \n",
       "306117  a352dff4fcc2571815ce   \n",
       "306118  ad4a8498d97c536c67b9   \n",
       "306119  19784a27b55d4b453fda   \n",
       "306120  370191dba26465997879   \n",
       "306121  8077b4a45cea867d4ff2   \n",
       "\n",
       "                                            question_text  \n",
       "0        My period due wedding day How I stop Pill option  \n",
       "1             How many number higher million formed digit  \n",
       "2       How come I feel nothing family still love pet ...  \n",
       "3       In case collapse Democratic party Republican p...  \n",
       "4                                      Who Émile Naoumoff  \n",
       "...                                                   ...  \n",
       "306117  Did anyone get update Maruti Suzuki All India ...  \n",
       "306118               What people history find interesting  \n",
       "306119                          How I remove tan forehead  \n",
       "306120                  If well known hacker prone hacked  \n",
       "306121  If new enemy bigger dangerous old enemy doe me...  \n",
       "\n",
       "[306122 rows x 2 columns]"
      ]
     },
     "execution_count": 29,
     "metadata": {},
     "output_type": "execute_result"
    }
   ],
   "source": [
    "test_df"
   ]
  },
  {
   "cell_type": "markdown",
   "id": "1ac34a60",
   "metadata": {
    "papermill": {
     "duration": 0.015755,
     "end_time": "2022-11-15T05:09:21.120558",
     "exception": false,
     "start_time": "2022-11-15T05:09:21.104803",
     "status": "completed"
    },
    "tags": []
   },
   "source": [
    "## Vectorization of the dataset"
   ]
  },
  {
   "cell_type": "code",
   "execution_count": 30,
   "id": "9c92f17f",
   "metadata": {
    "execution": {
     "iopub.execute_input": "2022-11-15T05:09:21.154462Z",
     "iopub.status.busy": "2022-11-15T05:09:21.154075Z",
     "iopub.status.idle": "2022-11-15T05:10:47.419617Z",
     "shell.execute_reply": "2022-11-15T05:10:47.418578Z"
    },
    "papermill": {
     "duration": 86.30135,
     "end_time": "2022-11-15T05:10:47.437943",
     "exception": false,
     "start_time": "2022-11-15T05:09:21.136593",
     "status": "completed"
    },
    "tags": []
   },
   "outputs": [
    {
     "data": {
      "text/plain": [
       "<306122x7817595 sparse matrix of type '<class 'numpy.int64'>'\n",
       "\twith 3799907 stored elements in Compressed Sparse Row format>"
      ]
     },
     "execution_count": 30,
     "metadata": {},
     "output_type": "execute_result"
    }
   ],
   "source": [
    "tfidf = CountVectorizer(ngram_range=(1,3))\n",
    "# Numericalize the train dataset\n",
    "train = tfidf.fit_transform(train_df.question_text.values.astype('U'))\n",
    "\n",
    "# for test_df\n",
    "test_df_matrix = tfidf.transform(test_df.question_text.values.astype('U'))\n",
    "# print(test_df_matrix.shape)\n",
    "test_df_matrix"
   ]
  },
  {
   "cell_type": "code",
   "execution_count": 31,
   "id": "c9090a20",
   "metadata": {
    "execution": {
     "iopub.execute_input": "2022-11-15T05:10:47.472255Z",
     "iopub.status.busy": "2022-11-15T05:10:47.471832Z",
     "iopub.status.idle": "2022-11-15T05:10:47.479209Z",
     "shell.execute_reply": "2022-11-15T05:10:47.478023Z"
    },
    "papermill": {
     "duration": 0.02741,
     "end_time": "2022-11-15T05:10:47.481732",
     "exception": false,
     "start_time": "2022-11-15T05:10:47.454322",
     "status": "completed"
    },
    "tags": []
   },
   "outputs": [
    {
     "data": {
      "text/plain": [
       "<1000000x7817595 sparse matrix of type '<class 'numpy.int64'>'\n",
       "\twith 19226935 stored elements in Compressed Sparse Row format>"
      ]
     },
     "execution_count": 31,
     "metadata": {},
     "output_type": "execute_result"
    }
   ],
   "source": [
    "train"
   ]
  },
  {
   "cell_type": "markdown",
   "id": "69522021",
   "metadata": {
    "papermill": {
     "duration": 0.016132,
     "end_time": "2022-11-15T05:10:47.514427",
     "exception": false,
     "start_time": "2022-11-15T05:10:47.498295",
     "status": "completed"
    },
    "tags": []
   },
   "source": [
    "## Doing train test split of the train_df.csv"
   ]
  },
  {
   "cell_type": "code",
   "execution_count": 32,
   "id": "12a42a0b",
   "metadata": {
    "execution": {
     "iopub.execute_input": "2022-11-15T05:10:47.549699Z",
     "iopub.status.busy": "2022-11-15T05:10:47.549265Z",
     "iopub.status.idle": "2022-11-15T05:10:48.406247Z",
     "shell.execute_reply": "2022-11-15T05:10:48.405290Z"
    },
    "papermill": {
     "duration": 0.877758,
     "end_time": "2022-11-15T05:10:48.408875",
     "exception": false,
     "start_time": "2022-11-15T05:10:47.531117",
     "status": "completed"
    },
    "tags": []
   },
   "outputs": [],
   "source": [
    "\n",
    "X_train, X_test, y_train, y_test = train_test_split(\n",
    "    train, train_df.target.values, test_size=0.10, stratify=train_df.target.values)\n",
    "\n",
    "X_train.shape\n",
    "train = X_train\n",
    "test = X_test"
   ]
  },
  {
   "cell_type": "code",
   "execution_count": 33,
   "id": "1894154e",
   "metadata": {
    "execution": {
     "iopub.execute_input": "2022-11-15T05:10:48.443873Z",
     "iopub.status.busy": "2022-11-15T05:10:48.443456Z",
     "iopub.status.idle": "2022-11-15T05:10:48.450879Z",
     "shell.execute_reply": "2022-11-15T05:10:48.449769Z"
    },
    "papermill": {
     "duration": 0.027592,
     "end_time": "2022-11-15T05:10:48.453049",
     "exception": false,
     "start_time": "2022-11-15T05:10:48.425457",
     "status": "completed"
    },
    "tags": []
   },
   "outputs": [
    {
     "data": {
      "text/plain": [
       "(900000, 7817595)"
      ]
     },
     "execution_count": 33,
     "metadata": {},
     "output_type": "execute_result"
    }
   ],
   "source": [
    "train.shape"
   ]
  },
  {
   "cell_type": "code",
   "execution_count": 34,
   "id": "d6b1f43e",
   "metadata": {
    "execution": {
     "iopub.execute_input": "2022-11-15T05:10:48.488444Z",
     "iopub.status.busy": "2022-11-15T05:10:48.487749Z",
     "iopub.status.idle": "2022-11-15T05:10:48.492866Z",
     "shell.execute_reply": "2022-11-15T05:10:48.491744Z"
    },
    "papermill": {
     "duration": 0.025253,
     "end_time": "2022-11-15T05:10:48.495098",
     "exception": false,
     "start_time": "2022-11-15T05:10:48.469845",
     "status": "completed"
    },
    "tags": []
   },
   "outputs": [],
   "source": [
    "# import pickle\n",
    "\n",
    "# def storeData(text,obj):\n",
    "#     # Its important to use binary mode\n",
    "#     dbfile = open(text+'.pickle', 'wb')\n",
    "#     # source, destination\n",
    "#     pickle.dump(obj, dbfile)                     \n",
    "#     dbfile.close()"
   ]
  },
  {
   "cell_type": "code",
   "execution_count": 35,
   "id": "ed041428",
   "metadata": {
    "execution": {
     "iopub.execute_input": "2022-11-15T05:10:48.529693Z",
     "iopub.status.busy": "2022-11-15T05:10:48.529274Z",
     "iopub.status.idle": "2022-11-15T05:10:48.533843Z",
     "shell.execute_reply": "2022-11-15T05:10:48.532646Z"
    },
    "papermill": {
     "duration": 0.024375,
     "end_time": "2022-11-15T05:10:48.536002",
     "exception": false,
     "start_time": "2022-11-15T05:10:48.511627",
     "status": "completed"
    },
    "tags": []
   },
   "outputs": [],
   "source": [
    "# X_train"
   ]
  },
  {
   "cell_type": "code",
   "execution_count": 36,
   "id": "00cc8fc8",
   "metadata": {
    "execution": {
     "iopub.execute_input": "2022-11-15T05:10:48.571410Z",
     "iopub.status.busy": "2022-11-15T05:10:48.570449Z",
     "iopub.status.idle": "2022-11-15T05:10:48.575122Z",
     "shell.execute_reply": "2022-11-15T05:10:48.574040Z"
    },
    "papermill": {
     "duration": 0.024904,
     "end_time": "2022-11-15T05:10:48.577420",
     "exception": false,
     "start_time": "2022-11-15T05:10:48.552516",
     "status": "completed"
    },
    "tags": []
   },
   "outputs": [],
   "source": [
    "# storeData('X_train',X_train)\n",
    "# storeData('X_test',X_test)\n",
    "# storeData('y_train',y_train)\n",
    "# storeData('y_test',y_test)\n",
    "# storeData('test_df_matrix',test_df_matrix)"
   ]
  },
  {
   "cell_type": "code",
   "execution_count": 37,
   "id": "62ca62de",
   "metadata": {
    "execution": {
     "iopub.execute_input": "2022-11-15T05:10:48.612380Z",
     "iopub.status.busy": "2022-11-15T05:10:48.612013Z",
     "iopub.status.idle": "2022-11-15T05:22:40.346812Z",
     "shell.execute_reply": "2022-11-15T05:22:40.345780Z"
    },
    "papermill": {
     "duration": 711.755002,
     "end_time": "2022-11-15T05:22:40.349180",
     "exception": false,
     "start_time": "2022-11-15T05:10:48.594178",
     "status": "completed"
    },
    "tags": []
   },
   "outputs": [
    {
     "name": "stdout",
     "output_type": "stream",
     "text": [
      "train f1 score:  0.9587386378322491\n",
      "test f1 score:  0.6243588762152644\n",
      "              precision    recall  f1-score   support\n",
      "\n",
      "           0       1.00      0.99      1.00    844317\n",
      "           1       0.92      1.00      0.96     55683\n",
      "\n",
      "    accuracy                           0.99    900000\n",
      "   macro avg       0.96      1.00      0.98    900000\n",
      "weighted avg       1.00      0.99      0.99    900000\n",
      "\n"
     ]
    }
   ],
   "source": [
    "from sklearn.linear_model import LogisticRegression \n",
    "model = LogisticRegression(penalty='l2', max_iter=50000,solver='lbfgs',class_weight='balanced')\n",
    "model.fit(train,y_train)\n",
    "y_pred = model.predict(train)\n",
    "print(\"train f1 score: \",f1_score(y_train,y_pred))\n",
    "print(\"test f1 score: \",f1_score(y_test,model.predict(test)))\n",
    "test_y_pred = model.predict(test_df_matrix)\n",
    "print(metrics.classification_report(y_train,y_pred) )"
   ]
  },
  {
   "cell_type": "code",
   "execution_count": 38,
   "id": "7f8e7869",
   "metadata": {
    "execution": {
     "iopub.execute_input": "2022-11-15T05:22:40.384804Z",
     "iopub.status.busy": "2022-11-15T05:22:40.384428Z",
     "iopub.status.idle": "2022-11-15T05:22:40.790025Z",
     "shell.execute_reply": "2022-11-15T05:22:40.788989Z"
    },
    "papermill": {
     "duration": 0.425859,
     "end_time": "2022-11-15T05:22:40.792503",
     "exception": false,
     "start_time": "2022-11-15T05:22:40.366644",
     "status": "completed"
    },
    "tags": []
   },
   "outputs": [],
   "source": [
    "Test_DF_TARGET = pd.DataFrame(test_y_pred,columns=['target'])\n",
    "TEST_DF_QID = pd.DataFrame(test_df ,columns=['qid'])\n",
    "TEST_DF = pd.concat([TEST_DF_QID, Test_DF_TARGET], axis=1, join='inner')\n",
    "TEST_DF.to_csv(\"sample_submission_withoutLowerNgrams=1_3_spellcheckandnonengwords.csv\",index=False)"
   ]
  },
  {
   "cell_type": "code",
   "execution_count": 39,
   "id": "d78aaf5a",
   "metadata": {
    "execution": {
     "iopub.execute_input": "2022-11-15T05:22:40.828120Z",
     "iopub.status.busy": "2022-11-15T05:22:40.827372Z",
     "iopub.status.idle": "2022-11-15T05:22:40.831158Z",
     "shell.execute_reply": "2022-11-15T05:22:40.830442Z"
    },
    "papermill": {
     "duration": 0.023466,
     "end_time": "2022-11-15T05:22:40.833084",
     "exception": false,
     "start_time": "2022-11-15T05:22:40.809618",
     "status": "completed"
    },
    "tags": []
   },
   "outputs": [],
   "source": [
    "# !python -m spacy download en_core_web_sm"
   ]
  },
  {
   "cell_type": "code",
   "execution_count": 40,
   "id": "49da4dc8",
   "metadata": {
    "execution": {
     "iopub.execute_input": "2022-11-15T05:22:40.867969Z",
     "iopub.status.busy": "2022-11-15T05:22:40.867064Z",
     "iopub.status.idle": "2022-11-15T05:22:40.871228Z",
     "shell.execute_reply": "2022-11-15T05:22:40.870486Z"
    },
    "papermill": {
     "duration": 0.023689,
     "end_time": "2022-11-15T05:22:40.873280",
     "exception": false,
     "start_time": "2022-11-15T05:22:40.849591",
     "status": "completed"
    },
    "tags": []
   },
   "outputs": [],
   "source": [
    "# import spacy"
   ]
  }
 ],
 "metadata": {
  "kernelspec": {
   "display_name": "Python 3",
   "language": "python",
   "name": "python3"
  },
  "language_info": {
   "codemirror_mode": {
    "name": "ipython",
    "version": 3
   },
   "file_extension": ".py",
   "mimetype": "text/x-python",
   "name": "python",
   "nbconvert_exporter": "python",
   "pygments_lexer": "ipython3",
   "version": "3.7.12"
  },
  "papermill": {
   "default_parameters": {},
   "duration": 1170.060857,
   "end_time": "2022-11-15T05:22:43.016861",
   "environment_variables": {},
   "exception": null,
   "input_path": "__notebook__.ipynb",
   "output_path": "__notebook__.ipynb",
   "parameters": {},
   "start_time": "2022-11-15T05:03:12.956004",
   "version": "2.3.4"
  }
 },
 "nbformat": 4,
 "nbformat_minor": 5
}
