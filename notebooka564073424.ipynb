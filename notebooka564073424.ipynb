{
 "cells": [
  {
   "cell_type": "markdown",
   "id": "c8f2e5d3",
   "metadata": {
    "papermill": {
     "duration": 0.00528,
     "end_time": "2022-12-14T20:25:49.948339",
     "exception": false,
     "start_time": "2022-12-14T20:25:49.943059",
     "status": "completed"
    },
    "tags": []
   },
   "source": [
    "## Reading Preprocessed data"
   ]
  },
  {
   "cell_type": "code",
   "execution_count": 1,
   "id": "fb6921f7",
   "metadata": {
    "execution": {
     "iopub.execute_input": "2022-12-14T20:25:49.959141Z",
     "iopub.status.busy": "2022-12-14T20:25:49.958723Z",
     "iopub.status.idle": "2022-12-14T20:25:51.046146Z",
     "shell.execute_reply": "2022-12-14T20:25:51.044365Z"
    },
    "papermill": {
     "duration": 1.096246,
     "end_time": "2022-12-14T20:25:51.049061",
     "exception": false,
     "start_time": "2022-12-14T20:25:49.952815",
     "status": "completed"
    },
    "tags": []
   },
   "outputs": [],
   "source": [
    "import numpy as np \n",
    "import pandas as pd\n",
    "from sklearn.model_selection import train_test_split\n",
    "from sklearn import metrics\n",
    "from sklearn.metrics import confusion_matrix,accuracy_score,roc_auc_score,roc_curve,auc,f1_score\n",
    "from sklearn.feature_extraction.text import TfidfVectorizer, CountVectorizer\n",
    "from sklearn.model_selection import GridSearchCV"
   ]
  },
  {
   "cell_type": "code",
   "execution_count": 2,
   "id": "0665d57b",
   "metadata": {
    "execution": {
     "iopub.execute_input": "2022-12-14T20:25:51.062421Z",
     "iopub.status.busy": "2022-12-14T20:25:51.062010Z",
     "iopub.status.idle": "2022-12-14T20:25:55.415265Z",
     "shell.execute_reply": "2022-12-14T20:25:55.413838Z"
    },
    "papermill": {
     "duration": 4.362221,
     "end_time": "2022-12-14T20:25:55.417810",
     "exception": false,
     "start_time": "2022-12-14T20:25:51.055589",
     "status": "completed"
    },
    "tags": []
   },
   "outputs": [],
   "source": [
    "train_df = pd.read_csv(\"/kaggle/input/datafiles/train_df.csv\")\n",
    "test_df = pd.read_csv(\"/kaggle/input/datafiles/test_df.csv\")"
   ]
  },
  {
   "cell_type": "code",
   "execution_count": 3,
   "id": "1bcee9ee",
   "metadata": {
    "execution": {
     "iopub.execute_input": "2022-12-14T20:25:55.429513Z",
     "iopub.status.busy": "2022-12-14T20:25:55.429089Z",
     "iopub.status.idle": "2022-12-14T20:25:55.453441Z",
     "shell.execute_reply": "2022-12-14T20:25:55.452529Z"
    },
    "papermill": {
     "duration": 0.032887,
     "end_time": "2022-12-14T20:25:55.455550",
     "exception": false,
     "start_time": "2022-12-14T20:25:55.422663",
     "status": "completed"
    },
    "tags": []
   },
   "outputs": [
    {
     "data": {
      "text/html": [
       "<div>\n",
       "<style scoped>\n",
       "    .dataframe tbody tr th:only-of-type {\n",
       "        vertical-align: middle;\n",
       "    }\n",
       "\n",
       "    .dataframe tbody tr th {\n",
       "        vertical-align: top;\n",
       "    }\n",
       "\n",
       "    .dataframe thead th {\n",
       "        text-align: right;\n",
       "    }\n",
       "</style>\n",
       "<table border=\"1\" class=\"dataframe\">\n",
       "  <thead>\n",
       "    <tr style=\"text-align: right;\">\n",
       "      <th></th>\n",
       "      <th>qid</th>\n",
       "      <th>question_text</th>\n",
       "    </tr>\n",
       "  </thead>\n",
       "  <tbody>\n",
       "    <tr>\n",
       "      <th>0</th>\n",
       "      <td>a4f3da3a3df9dd881edd</td>\n",
       "      <td>My period is due on my wedding day. How can I ...</td>\n",
       "    </tr>\n",
       "    <tr>\n",
       "      <th>1</th>\n",
       "      <td>9914c62ed3f69684d549</td>\n",
       "      <td>How many numbers higher than a million can be ...</td>\n",
       "    </tr>\n",
       "    <tr>\n",
       "      <th>2</th>\n",
       "      <td>8138ae48649e37091a91</td>\n",
       "      <td>How come I feel nothing for my family, but sti...</td>\n",
       "    </tr>\n",
       "    <tr>\n",
       "      <th>3</th>\n",
       "      <td>981b4753d17ef14d09f7</td>\n",
       "      <td>In case of collapse of the Democratic party, w...</td>\n",
       "    </tr>\n",
       "    <tr>\n",
       "      <th>4</th>\n",
       "      <td>452e2c705276ba16b7b7</td>\n",
       "      <td>Who is Émile Naoumoff?</td>\n",
       "    </tr>\n",
       "    <tr>\n",
       "      <th>...</th>\n",
       "      <td>...</td>\n",
       "      <td>...</td>\n",
       "    </tr>\n",
       "    <tr>\n",
       "      <th>306117</th>\n",
       "      <td>a352dff4fcc2571815ce</td>\n",
       "      <td>Did anyone get an update on Maruti Suzuki All ...</td>\n",
       "    </tr>\n",
       "    <tr>\n",
       "      <th>306118</th>\n",
       "      <td>ad4a8498d97c536c67b9</td>\n",
       "      <td>What 5 people in history do you find the most ...</td>\n",
       "    </tr>\n",
       "    <tr>\n",
       "      <th>306119</th>\n",
       "      <td>19784a27b55d4b453fda</td>\n",
       "      <td>How can I remove the tan on my forehead?</td>\n",
       "    </tr>\n",
       "    <tr>\n",
       "      <th>306120</th>\n",
       "      <td>370191dba26465997879</td>\n",
       "      <td>If you are a well known hacker, will you be mo...</td>\n",
       "    </tr>\n",
       "    <tr>\n",
       "      <th>306121</th>\n",
       "      <td>8077b4a45cea867d4ff2</td>\n",
       "      <td>If your new enemies be bigger and more dangero...</td>\n",
       "    </tr>\n",
       "  </tbody>\n",
       "</table>\n",
       "<p>306122 rows × 2 columns</p>\n",
       "</div>"
      ],
      "text/plain": [
       "                         qid  \\\n",
       "0       a4f3da3a3df9dd881edd   \n",
       "1       9914c62ed3f69684d549   \n",
       "2       8138ae48649e37091a91   \n",
       "3       981b4753d17ef14d09f7   \n",
       "4       452e2c705276ba16b7b7   \n",
       "...                      ...   \n",
       "306117  a352dff4fcc2571815ce   \n",
       "306118  ad4a8498d97c536c67b9   \n",
       "306119  19784a27b55d4b453fda   \n",
       "306120  370191dba26465997879   \n",
       "306121  8077b4a45cea867d4ff2   \n",
       "\n",
       "                                            question_text  \n",
       "0       My period is due on my wedding day. How can I ...  \n",
       "1       How many numbers higher than a million can be ...  \n",
       "2       How come I feel nothing for my family, but sti...  \n",
       "3       In case of collapse of the Democratic party, w...  \n",
       "4                                  Who is Émile Naoumoff?  \n",
       "...                                                   ...  \n",
       "306117  Did anyone get an update on Maruti Suzuki All ...  \n",
       "306118  What 5 people in history do you find the most ...  \n",
       "306119           How can I remove the tan on my forehead?  \n",
       "306120  If you are a well known hacker, will you be mo...  \n",
       "306121  If your new enemies be bigger and more dangero...  \n",
       "\n",
       "[306122 rows x 2 columns]"
      ]
     },
     "execution_count": 3,
     "metadata": {},
     "output_type": "execute_result"
    }
   ],
   "source": [
    "test_df"
   ]
  },
  {
   "cell_type": "markdown",
   "id": "6932c52a",
   "metadata": {
    "papermill": {
     "duration": 0.004499,
     "end_time": "2022-12-14T20:25:55.464994",
     "exception": false,
     "start_time": "2022-12-14T20:25:55.460495",
     "status": "completed"
    },
    "tags": []
   },
   "source": [
    "## Vectorization of the dataset"
   ]
  },
  {
   "cell_type": "code",
   "execution_count": 4,
   "id": "84cf72db",
   "metadata": {
    "execution": {
     "iopub.execute_input": "2022-12-14T20:25:55.476617Z",
     "iopub.status.busy": "2022-12-14T20:25:55.475659Z",
     "iopub.status.idle": "2022-12-14T20:33:32.439201Z",
     "shell.execute_reply": "2022-12-14T20:33:32.436949Z"
    },
    "papermill": {
     "duration": 456.974815,
     "end_time": "2022-12-14T20:33:32.444557",
     "exception": false,
     "start_time": "2022-12-14T20:25:55.469742",
     "status": "completed"
    },
    "tags": []
   },
   "outputs": [],
   "source": [
    "from sklearn.feature_extraction.text import TfidfVectorizer\n",
    "from scipy.sparse import hstack\n",
    "\n",
    "# # from sklearn.feature_extraction.text import TfidfVectorizer\n",
    "\n",
    "# # We can change the number of words counted together and see results on accuracy\n",
    "# CountVectorizer(analyzer='word', ngram_range=(1, 3))\n",
    "\n",
    "word_vectorizer = TfidfVectorizer(\n",
    "    strip_accents = 'unicode',\n",
    "    analyzer = 'word',\n",
    "    ngram_range = (1, 4),\n",
    "#     max_df = 0.8,\n",
    "    max_features = 150000,\n",
    ")\n",
    "\n",
    "char_vectorizer = TfidfVectorizer(\n",
    "    strip_accents = 'unicode',\n",
    "    analyzer = 'char',\n",
    "    ngram_range = (1, 4),\n",
    "#     max_df = 0.8,\n",
    "    max_features = 150000,\n",
    ")\n",
    "\n",
    "# # tfidf = TfidfVectorizer()\n",
    "\n",
    "X_train1_wv = word_vectorizer.fit_transform(train_df.question_text.values.astype('U'))\n",
    "# X_validate1_wv = word_vectorizer.transform(X_validate.values.astype('U'))\n",
    "\n",
    "X_train1_cv = char_vectorizer.fit_transform(train_df.question_text.values.astype('U'))\n",
    "# X_validate1_cv = char_vectorizer.transform(X_validate.values.astype('U'))\n",
    "# # X_train = tfidf.fit(X_train)\n",
    "\n",
    "train = hstack((X_train1_wv, X_train1_cv)).tocsr()\n",
    "# X_validate1 = hstack((X_validate1_wv, X_validate1_cv)).tocsr()\n",
    "\n",
    "\n",
    "X_test1_wv = word_vectorizer.transform(test_df.question_text)\n",
    "X_test1_cv = char_vectorizer.transform(test_df.question_text)\n",
    "\n",
    "test_df_matrix = hstack((X_test1_wv, X_test1_cv)).tocsr()\n"
   ]
  },
  {
   "cell_type": "code",
   "execution_count": 5,
   "id": "b3ea08f6",
   "metadata": {
    "execution": {
     "iopub.execute_input": "2022-12-14T20:33:32.460968Z",
     "iopub.status.busy": "2022-12-14T20:33:32.460538Z",
     "iopub.status.idle": "2022-12-14T20:33:32.466913Z",
     "shell.execute_reply": "2022-12-14T20:33:32.465257Z"
    },
    "papermill": {
     "duration": 0.017213,
     "end_time": "2022-12-14T20:33:32.469384",
     "exception": false,
     "start_time": "2022-12-14T20:33:32.452171",
     "status": "completed"
    },
    "tags": []
   },
   "outputs": [],
   "source": [
    "# tfidf = TfidfVectorizer(ngram_range=(1,3))\n",
    "# # Numericalize the train dataset\n",
    "# train = tfidf.fit_transform(train_df.question_text.values.astype('U'))\n",
    "\n",
    "# # for test_df\n",
    "# test_df_matrix = tfidf.transform(test_df.question_text.values.astype('U'))\n",
    "# # print(test_df_matrix.shape)\n",
    "# test_df_matrix"
   ]
  },
  {
   "cell_type": "code",
   "execution_count": 6,
   "id": "dbe826ee",
   "metadata": {
    "execution": {
     "iopub.execute_input": "2022-12-14T20:33:32.485718Z",
     "iopub.status.busy": "2022-12-14T20:33:32.485337Z",
     "iopub.status.idle": "2022-12-14T20:33:32.493456Z",
     "shell.execute_reply": "2022-12-14T20:33:32.492102Z"
    },
    "papermill": {
     "duration": 0.021596,
     "end_time": "2022-12-14T20:33:32.495994",
     "exception": false,
     "start_time": "2022-12-14T20:33:32.474398",
     "status": "completed"
    },
    "tags": []
   },
   "outputs": [
    {
     "data": {
      "text/plain": [
       "<1000000x300000 sparse matrix of type '<class 'numpy.float64'>'\n",
       "\twith 223053961 stored elements in Compressed Sparse Row format>"
      ]
     },
     "execution_count": 6,
     "metadata": {},
     "output_type": "execute_result"
    }
   ],
   "source": [
    "train"
   ]
  },
  {
   "cell_type": "markdown",
   "id": "ec45e0d8",
   "metadata": {
    "papermill": {
     "duration": 0.004783,
     "end_time": "2022-12-14T20:33:32.506018",
     "exception": false,
     "start_time": "2022-12-14T20:33:32.501235",
     "status": "completed"
    },
    "tags": []
   },
   "source": [
    "## Doing train test split of the train_df.csv"
   ]
  },
  {
   "cell_type": "code",
   "execution_count": 7,
   "id": "7c52f478",
   "metadata": {
    "execution": {
     "iopub.execute_input": "2022-12-14T20:33:32.517806Z",
     "iopub.status.busy": "2022-12-14T20:33:32.517424Z",
     "iopub.status.idle": "2022-12-14T20:33:32.524046Z",
     "shell.execute_reply": "2022-12-14T20:33:32.522036Z"
    },
    "papermill": {
     "duration": 0.015981,
     "end_time": "2022-12-14T20:33:32.527037",
     "exception": false,
     "start_time": "2022-12-14T20:33:32.511056",
     "status": "completed"
    },
    "tags": []
   },
   "outputs": [],
   "source": [
    "\n",
    "# X_train, X_test, y_train, y_test = train_test_split(\n",
    "#     train, train_df.target.values, test_size=0.80)\n",
    "\n",
    "# X_train.shape\n",
    "# train = X_train\n",
    "# test = X_test\n",
    "# y_test\n",
    "train=train\n",
    "y_train=train_df.target"
   ]
  },
  {
   "cell_type": "code",
   "execution_count": 8,
   "id": "93095229",
   "metadata": {
    "execution": {
     "iopub.execute_input": "2022-12-14T20:33:32.539523Z",
     "iopub.status.busy": "2022-12-14T20:33:32.538328Z",
     "iopub.status.idle": "2022-12-14T20:33:32.546619Z",
     "shell.execute_reply": "2022-12-14T20:33:32.545072Z"
    },
    "papermill": {
     "duration": 0.017117,
     "end_time": "2022-12-14T20:33:32.549250",
     "exception": false,
     "start_time": "2022-12-14T20:33:32.532133",
     "status": "completed"
    },
    "tags": []
   },
   "outputs": [
    {
     "data": {
      "text/plain": [
       "(1000000, 300000)"
      ]
     },
     "execution_count": 8,
     "metadata": {},
     "output_type": "execute_result"
    }
   ],
   "source": [
    "train.shape"
   ]
  },
  {
   "cell_type": "code",
   "execution_count": 9,
   "id": "85a0a66e",
   "metadata": {
    "execution": {
     "iopub.execute_input": "2022-12-14T20:33:32.562262Z",
     "iopub.status.busy": "2022-12-14T20:33:32.561854Z",
     "iopub.status.idle": "2022-12-14T20:38:23.558982Z",
     "shell.execute_reply": "2022-12-14T20:38:23.556103Z"
    },
    "papermill": {
     "duration": 291.012494,
     "end_time": "2022-12-14T20:38:23.567259",
     "exception": false,
     "start_time": "2022-12-14T20:33:32.554765",
     "status": "completed"
    },
    "tags": []
   },
   "outputs": [
    {
     "name": "stdout",
     "output_type": "stream",
     "text": [
      "train f1 score:  0.6829489877806884\n"
     ]
    }
   ],
   "source": [
    "from sklearn.linear_model import LogisticRegression \n",
    "model = LogisticRegression(max_iter=50000,\n",
    "                           class_weight = {0: 0.2, 1: 0.6})\n",
    "# parameters = {'class_weight':[{0:0.2, 1:0.8},{0:0.25,1:0.75},{0:0.3, 1:0.7}]}\n",
    "# model=GridSearchCV(model1,parameters,verbose=4,cv=2,scoring='f1')\n",
    "model.fit(train,y_train)\n",
    "y_pred = model.predict(train)\n",
    "print(\"train f1 score: \",f1_score(y_train,y_pred))\n",
    "# print(\"test f1 score: \",f1_score(y_test,model.predict(test)))\n",
    "# test_y_pred = model.predict(test_df_matrix)\n",
    "# print(metrics.classification_report(y_train,y_pred) )\n",
    "# print(model.predict_proba(train))"
   ]
  },
  {
   "cell_type": "code",
   "execution_count": 10,
   "id": "2fa2569e",
   "metadata": {
    "execution": {
     "iopub.execute_input": "2022-12-14T20:38:23.585906Z",
     "iopub.status.busy": "2022-12-14T20:38:23.585320Z",
     "iopub.status.idle": "2022-12-14T20:38:24.418407Z",
     "shell.execute_reply": "2022-12-14T20:38:24.416377Z"
    },
    "papermill": {
     "duration": 0.848379,
     "end_time": "2022-12-14T20:38:24.421769",
     "exception": false,
     "start_time": "2022-12-14T20:38:23.573390",
     "status": "completed"
    },
    "tags": []
   },
   "outputs": [
    {
     "name": "stdout",
     "output_type": "stream",
     "text": [
      "train f1 score:  0.6777027852845716\n"
     ]
    }
   ],
   "source": [
    "def custom_predict(X, threshold):\n",
    "    probs = model.predict_proba(X) \n",
    "    return (probs[:, 1] > threshold).astype(int)\n",
    "    \n",
    "Y_pred = custom_predict(train,0.4)\n",
    "print(\"train f1 score: \",f1_score(y_train,Y_pred))"
   ]
  },
  {
   "cell_type": "code",
   "execution_count": 11,
   "id": "10788ce3",
   "metadata": {
    "execution": {
     "iopub.execute_input": "2022-12-14T20:38:24.435192Z",
     "iopub.status.busy": "2022-12-14T20:38:24.434661Z",
     "iopub.status.idle": "2022-12-14T20:38:24.596143Z",
     "shell.execute_reply": "2022-12-14T20:38:24.594160Z"
    },
    "papermill": {
     "duration": 0.171279,
     "end_time": "2022-12-14T20:38:24.598874",
     "exception": false,
     "start_time": "2022-12-14T20:38:24.427595",
     "status": "completed"
    },
    "tags": []
   },
   "outputs": [],
   "source": [
    "test_y_pred = custom_predict(X=test_df_matrix,threshold=0.4)"
   ]
  },
  {
   "cell_type": "code",
   "execution_count": 12,
   "id": "13f8bfe2",
   "metadata": {
    "execution": {
     "iopub.execute_input": "2022-12-14T20:38:24.611139Z",
     "iopub.status.busy": "2022-12-14T20:38:24.610724Z",
     "iopub.status.idle": "2022-12-14T20:38:24.618177Z",
     "shell.execute_reply": "2022-12-14T20:38:24.616585Z"
    },
    "papermill": {
     "duration": 0.016894,
     "end_time": "2022-12-14T20:38:24.621081",
     "exception": false,
     "start_time": "2022-12-14T20:38:24.604187",
     "status": "completed"
    },
    "tags": []
   },
   "outputs": [],
   "source": [
    "# pred_proba_df = pd.DataFrame(model.predict_proba(train))\n",
    "# threshold_list = [0.05,0.1,0.15,0.2,0.25,0.3,0.35,0.4,0.45,0.5,0.55,0.6,0.65,.7,.75,.8,.85,.9,.95,.99]\n",
    "# for i in threshold_list:\n",
    "#     print ('\\n******** For i = {} **q****'.format(i))\n",
    "#     Y_test_pred = [1 if j > i else 0 for j in pred_proba_df[1]]\n",
    "# #     print((Y_test_pred))\n",
    "# #     print(pred_proba_df[1])\n",
    "# #     print((Y_test_pred))\n",
    "# #     print(y_test.shape)\n",
    "# #     print(np.array(Y_test_pred).shape)\n",
    "    \n",
    "#     test_accuracy = metrics.f1_score(y_train,Y_test_pred)\n",
    "#     print(test_accuracy)\n",
    "# #                                          y_train_pred.iloc[:,1].as_matrix().reshape(y_train_pred.iloc[:,1].size,1))\n",
    "# #     print('Our testing accuracy is {}'.format(test_accuracy))\n",
    "\n",
    "# #     print(confusion_matrix(y_train.reshape(y_train.as_matrix().size,1),\n",
    "# #                            y_test_pred.iloc[:,1].as_matrix().reshape(y_test_pred.iloc[:,1].as_matrix().size,1)))"
   ]
  },
  {
   "cell_type": "code",
   "execution_count": 13,
   "id": "2206b397",
   "metadata": {
    "execution": {
     "iopub.execute_input": "2022-12-14T20:38:24.633822Z",
     "iopub.status.busy": "2022-12-14T20:38:24.633410Z",
     "iopub.status.idle": "2022-12-14T20:38:24.639731Z",
     "shell.execute_reply": "2022-12-14T20:38:24.638529Z"
    },
    "papermill": {
     "duration": 0.015742,
     "end_time": "2022-12-14T20:38:24.642403",
     "exception": false,
     "start_time": "2022-12-14T20:38:24.626661",
     "status": "completed"
    },
    "tags": []
   },
   "outputs": [],
   "source": [
    "# # y_test_pred = [1 if j > 0.05 else 0 for j in pred_proba_df[1]]\n",
    "# y_test_pred=[]\n",
    "# pred_proba_df = pd.DataFrame(model.predict_proba(test))\n",
    "# # for i in range(len(pred_proba_df)):\n",
    "# #     if(pred_proba_df[1][i] > 0.45):\n",
    "# #         y_test_pred.append(1)\n",
    "# #     else:\n",
    "# #         y_test_pred.append(0)\n",
    "\n",
    "# # test_accuracy = metrics.f1_score(y_test,y_test_pred)\n",
    "# # print(test_accuracy)\n",
    "# threshold_list = [0.05,0.1,0.15,0.2,0.25,0.3,0.35,0.4,0.45,0.5,0.55,0.6,0.65,.7,.75,.8,.85,.9,.95,.99]\n",
    "# for i in threshold_list:\n",
    "#     print ('\\n******** For i = {} ******'.format(i))\n",
    "#     Y_test_pred = [1 if j > i else 0 for j in pred_proba_df[1]]\n",
    "# #     print((Y_test_pred))\n",
    "# #     print(pred_proba_df[1])\n",
    "# #     print((Y_test_pred))\n",
    "# #     print(y_test.shape)\n",
    "# #     print(np.array(Y_test_pred).shape)\n",
    "    \n",
    "#     test_accuracy = metrics.f1_score(y_test,Y_test_pred)\n",
    "#     print(test_accuracy)\n",
    "# #                                  \n",
    "\n",
    "\n",
    "\n",
    "# # print(y_test_pred)"
   ]
  },
  {
   "cell_type": "code",
   "execution_count": 14,
   "id": "ef95ce5a",
   "metadata": {
    "execution": {
     "iopub.execute_input": "2022-12-14T20:38:24.655853Z",
     "iopub.status.busy": "2022-12-14T20:38:24.655404Z",
     "iopub.status.idle": "2022-12-14T20:38:24.661254Z",
     "shell.execute_reply": "2022-12-14T20:38:24.659555Z"
    },
    "papermill": {
     "duration": 0.016305,
     "end_time": "2022-12-14T20:38:24.664534",
     "exception": false,
     "start_time": "2022-12-14T20:38:24.648229",
     "status": "completed"
    },
    "tags": []
   },
   "outputs": [],
   "source": [
    "# # y_test_pred = [1 if j > 0.05 else 0 for j in pred_proba_df[1]]\n",
    "# y_test_pred=[]\n",
    "# pred_proba_df = pd.DataFrame(model.predict_proba(test_df_matrix))\n",
    "# # lund = pred_proba_df.to_numpy().reshape(2,500000)\n",
    "# # print(lund.shape)\n",
    "# # print(pred_proba_df)\n",
    "# # print(pred_proba_df[0][3])\n",
    "# for i in range(len(pred_proba_df)):\n",
    "#     if(pred_proba_df[1][i] > 0.45):\n",
    "#         y_test_pred.append(1)\n",
    "#     else:\n",
    "#         y_test_pred.append(0)\n",
    "\n",
    "# # test_accuracy = metrics.f1_score(y_test,y_test_pred)\n",
    "# # print(test_accuracy)\n",
    "# # print(y_test_pred)\n",
    "# # y_test_pred"
   ]
  },
  {
   "cell_type": "code",
   "execution_count": 15,
   "id": "5b923799",
   "metadata": {
    "execution": {
     "iopub.execute_input": "2022-12-14T20:38:24.677079Z",
     "iopub.status.busy": "2022-12-14T20:38:24.676703Z",
     "iopub.status.idle": "2022-12-14T20:38:24.681241Z",
     "shell.execute_reply": "2022-12-14T20:38:24.680052Z"
    },
    "papermill": {
     "duration": 0.013243,
     "end_time": "2022-12-14T20:38:24.683178",
     "exception": false,
     "start_time": "2022-12-14T20:38:24.669935",
     "status": "completed"
    },
    "tags": []
   },
   "outputs": [],
   "source": [
    "# print(metrics.classification_report(y_train,y_pred) )"
   ]
  },
  {
   "cell_type": "code",
   "execution_count": 16,
   "id": "1d374f07",
   "metadata": {
    "execution": {
     "iopub.execute_input": "2022-12-14T20:38:24.696121Z",
     "iopub.status.busy": "2022-12-14T20:38:24.695716Z",
     "iopub.status.idle": "2022-12-14T20:38:25.031171Z",
     "shell.execute_reply": "2022-12-14T20:38:25.029679Z"
    },
    "papermill": {
     "duration": 0.345705,
     "end_time": "2022-12-14T20:38:25.034392",
     "exception": false,
     "start_time": "2022-12-14T20:38:24.688687",
     "status": "completed"
    },
    "tags": []
   },
   "outputs": [],
   "source": [
    "Test_DF_TARGET = pd.DataFrame(test_y_pred,columns=['target'])\n",
    "TEST_DF_QID = pd.DataFrame(test_df ,columns=['qid'])\n",
    "TEST_DF = pd.concat([TEST_DF_QID, Test_DF_TARGET], axis=1, join='inner')\n",
    "TEST_DF.to_csv(\"sample_submission62.csv\",index=False)"
   ]
  }
 ],
 "metadata": {
  "kernelspec": {
   "display_name": "Python 3",
   "language": "python",
   "name": "python3"
  },
  "language_info": {
   "codemirror_mode": {
    "name": "ipython",
    "version": 3
   },
   "file_extension": ".py",
   "mimetype": "text/x-python",
   "name": "python",
   "nbconvert_exporter": "python",
   "pygments_lexer": "ipython3",
   "version": "3.7.12"
  },
  "papermill": {
   "default_parameters": {},
   "duration": 766.096283,
   "end_time": "2022-12-14T20:38:27.868394",
   "environment_variables": {},
   "exception": null,
   "input_path": "__notebook__.ipynb",
   "output_path": "__notebook__.ipynb",
   "parameters": {},
   "start_time": "2022-12-14T20:25:41.772111",
   "version": "2.3.4"
  }
 },
 "nbformat": 4,
 "nbformat_minor": 5
}
